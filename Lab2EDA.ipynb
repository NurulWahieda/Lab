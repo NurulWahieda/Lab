{
  "cells": [
    {
      "cell_type": "markdown",
      "metadata": {
        "id": "view-in-github",
        "colab_type": "text"
      },
      "source": [
        "<a href=\"https://colab.research.google.com/github/NurulWahieda/Lab/blob/main/Lab2EDA.ipynb\" target=\"_parent\"><img src=\"https://colab.research.google.com/assets/colab-badge.svg\" alt=\"Open In Colab\"/></a>"
      ]
    },
    {
      "cell_type": "markdown",
      "metadata": {
        "id": "o4vJs7_AiDDI"
      },
      "source": [
        "# **LAB 2 EDA Big Data**\n",
        "\n",
        "NURUL WAHIEDA BINTI MUHAMMAD FARID SELLEKUMAR (MCS231022)"
      ]
    },
    {
      "cell_type": "markdown",
      "metadata": {
        "id": "gLyErBAifCfd"
      },
      "source": [
        "**Cleaning and Analyzing the kiva dataset**\n",
        "\n",
        "Kiva.org is an online crowdfunding platform. Kiva uses crowdfunded microloans\n",
        "as a force for good to create a space where people can have a one-to-one\n",
        "impact, and together, expand financial access for all. Kiva loans give people the power and resources to build their chosen life. Kiva has funded over $1.5 billion in loans to help more than 2 million people build better lives for themselves and their families. My notebook will try to analyze Kiva data to highlight valuable ideas to help improve their performance."
      ]
    },
    {
      "cell_type": "markdown",
      "metadata": {
        "id": "1IN0aEutfCfl"
      },
      "source": [
        "**Importing Libraries**"
      ]
    },
    {
      "cell_type": "code",
      "execution_count": null,
      "metadata": {
        "id": "CH8CuEVAfCfm"
      },
      "outputs": [],
      "source": [
        "import numpy as np\n",
        "import pandas as pd\n",
        "import matplotlib.pyplot as plt\n",
        "import seaborn as sns\n",
        "import plotly.express as px\n",
        "%matplotlib inline\n",
        "sns.set()\n",
        "import re"
      ]
    },
    {
      "cell_type": "code",
      "execution_count": null,
      "metadata": {
        "id": "HywjjMLgfCfn"
      },
      "outputs": [],
      "source": [
        "sns.set_style('ticks')\n",
        "sns.set_palette('RdBu')"
      ]
    },
    {
      "cell_type": "markdown",
      "metadata": {
        "id": "xU_MKY8dfCfo"
      },
      "source": [
        "**Loading Data**"
      ]
    },
    {
      "cell_type": "code",
      "execution_count": null,
      "metadata": {
        "colab": {
          "base_uri": "https://localhost:8080/"
        },
        "id": "BGOKc2Twjkdw",
        "outputId": "82928754-4370-42e0-f292-7ddcc80b828a"
      },
      "outputs": [
        {
          "name": "stdout",
          "output_type": "stream",
          "text": [
            "Mounted at /content/drive\n"
          ]
        }
      ],
      "source": [
        "from google.colab import drive\n",
        "drive.mount('/content/drive')"
      ]
    },
    {
      "cell_type": "code",
      "execution_count": null,
      "metadata": {
        "id": "scCEEtyFfCfo"
      },
      "outputs": [],
      "source": [
        "kivaloans = pd.read_csv('/content/drive/MyDrive/kiva_loans.csv', parse_dates=True, index_col=['date'])"
      ]
    },
    {
      "cell_type": "code",
      "execution_count": null,
      "metadata": {
        "id": "1yB5yomkfCfp"
      },
      "outputs": [],
      "source": [
        "partners = pd.read_csv('/content/drive/MyDrive/loan_themes_by_region.csv')"
      ]
    },
    {
      "cell_type": "markdown",
      "metadata": {
        "id": "XyQe9gOcfCfp"
      },
      "source": [
        "**Discover and Clean Data**"
      ]
    },
    {
      "cell_type": "code",
      "execution_count": null,
      "metadata": {
        "colab": {
          "base_uri": "https://localhost:8080/",
          "height": 740
        },
        "id": "tbekNoUcfCfq",
        "outputId": "044bd923-d976-437e-b5ab-2b9836bc73f6"
      },
      "outputs": [
        {
          "data": {
            "text/html": [
              "\n",
              "  <div id=\"df-3c349101-543c-4f42-94b5-edcb9a0926e2\" class=\"colab-df-container\">\n",
              "    <div>\n",
              "<style scoped>\n",
              "    .dataframe tbody tr th:only-of-type {\n",
              "        vertical-align: middle;\n",
              "    }\n",
              "\n",
              "    .dataframe tbody tr th {\n",
              "        vertical-align: top;\n",
              "    }\n",
              "\n",
              "    .dataframe thead th {\n",
              "        text-align: right;\n",
              "    }\n",
              "</style>\n",
              "<table border=\"1\" class=\"dataframe\">\n",
              "  <thead>\n",
              "    <tr style=\"text-align: right;\">\n",
              "      <th></th>\n",
              "      <th>id</th>\n",
              "      <th>funded_amount</th>\n",
              "      <th>loan_amount</th>\n",
              "      <th>activity</th>\n",
              "      <th>sector</th>\n",
              "      <th>use</th>\n",
              "      <th>country_code</th>\n",
              "      <th>country</th>\n",
              "      <th>region</th>\n",
              "      <th>currency</th>\n",
              "      <th>partner_id</th>\n",
              "      <th>posted_time</th>\n",
              "      <th>disbursed_time</th>\n",
              "      <th>funded_time</th>\n",
              "      <th>term_in_months</th>\n",
              "      <th>lender_count</th>\n",
              "      <th>tags</th>\n",
              "      <th>borrower_genders</th>\n",
              "      <th>repayment_interval</th>\n",
              "    </tr>\n",
              "    <tr>\n",
              "      <th>date</th>\n",
              "      <th></th>\n",
              "      <th></th>\n",
              "      <th></th>\n",
              "      <th></th>\n",
              "      <th></th>\n",
              "      <th></th>\n",
              "      <th></th>\n",
              "      <th></th>\n",
              "      <th></th>\n",
              "      <th></th>\n",
              "      <th></th>\n",
              "      <th></th>\n",
              "      <th></th>\n",
              "      <th></th>\n",
              "      <th></th>\n",
              "      <th></th>\n",
              "      <th></th>\n",
              "      <th></th>\n",
              "      <th></th>\n",
              "    </tr>\n",
              "  </thead>\n",
              "  <tbody>\n",
              "    <tr>\n",
              "      <th>2014-01-01</th>\n",
              "      <td>653051</td>\n",
              "      <td>300.0</td>\n",
              "      <td>300.0</td>\n",
              "      <td>Fruits &amp; Vegetables</td>\n",
              "      <td>Food</td>\n",
              "      <td>To buy seasonal, fresh fruits to sell.</td>\n",
              "      <td>PK</td>\n",
              "      <td>Pakistan</td>\n",
              "      <td>Lahore</td>\n",
              "      <td>PKR</td>\n",
              "      <td>247.0</td>\n",
              "      <td>2014-01-01 06:12:39+00:00</td>\n",
              "      <td>2013-12-17 08:00:00+00:00</td>\n",
              "      <td>2014-01-02 10:06:32+00:00</td>\n",
              "      <td>12.0</td>\n",
              "      <td>12</td>\n",
              "      <td>NaN</td>\n",
              "      <td>female</td>\n",
              "      <td>irregular</td>\n",
              "    </tr>\n",
              "    <tr>\n",
              "      <th>2014-01-01</th>\n",
              "      <td>653053</td>\n",
              "      <td>575.0</td>\n",
              "      <td>575.0</td>\n",
              "      <td>Rickshaw</td>\n",
              "      <td>Transportation</td>\n",
              "      <td>to repair and maintain the auto rickshaw used ...</td>\n",
              "      <td>PK</td>\n",
              "      <td>Pakistan</td>\n",
              "      <td>Lahore</td>\n",
              "      <td>PKR</td>\n",
              "      <td>247.0</td>\n",
              "      <td>2014-01-01 06:51:08+00:00</td>\n",
              "      <td>2013-12-17 08:00:00+00:00</td>\n",
              "      <td>2014-01-02 09:17:23+00:00</td>\n",
              "      <td>11.0</td>\n",
              "      <td>14</td>\n",
              "      <td>NaN</td>\n",
              "      <td>female, female</td>\n",
              "      <td>irregular</td>\n",
              "    </tr>\n",
              "    <tr>\n",
              "      <th>2014-01-01</th>\n",
              "      <td>653068</td>\n",
              "      <td>150.0</td>\n",
              "      <td>150.0</td>\n",
              "      <td>Transportation</td>\n",
              "      <td>Transportation</td>\n",
              "      <td>To repair their old cycle-van and buy another ...</td>\n",
              "      <td>IN</td>\n",
              "      <td>India</td>\n",
              "      <td>Maynaguri</td>\n",
              "      <td>INR</td>\n",
              "      <td>334.0</td>\n",
              "      <td>2014-01-01 09:58:07+00:00</td>\n",
              "      <td>2013-12-17 08:00:00+00:00</td>\n",
              "      <td>2014-01-01 16:01:36+00:00</td>\n",
              "      <td>43.0</td>\n",
              "      <td>6</td>\n",
              "      <td>user_favorite, user_favorite</td>\n",
              "      <td>female</td>\n",
              "      <td>bullet</td>\n",
              "    </tr>\n",
              "    <tr>\n",
              "      <th>2014-01-01</th>\n",
              "      <td>653063</td>\n",
              "      <td>200.0</td>\n",
              "      <td>200.0</td>\n",
              "      <td>Embroidery</td>\n",
              "      <td>Arts</td>\n",
              "      <td>to purchase an embroidery machine and a variet...</td>\n",
              "      <td>PK</td>\n",
              "      <td>Pakistan</td>\n",
              "      <td>Lahore</td>\n",
              "      <td>PKR</td>\n",
              "      <td>247.0</td>\n",
              "      <td>2014-01-01 08:03:11+00:00</td>\n",
              "      <td>2013-12-24 08:00:00+00:00</td>\n",
              "      <td>2014-01-01 13:00:00+00:00</td>\n",
              "      <td>11.0</td>\n",
              "      <td>8</td>\n",
              "      <td>NaN</td>\n",
              "      <td>female</td>\n",
              "      <td>irregular</td>\n",
              "    </tr>\n",
              "    <tr>\n",
              "      <th>2014-01-01</th>\n",
              "      <td>653084</td>\n",
              "      <td>400.0</td>\n",
              "      <td>400.0</td>\n",
              "      <td>Milk Sales</td>\n",
              "      <td>Food</td>\n",
              "      <td>to purchase one buffalo.</td>\n",
              "      <td>PK</td>\n",
              "      <td>Pakistan</td>\n",
              "      <td>Abdul Hakeem</td>\n",
              "      <td>PKR</td>\n",
              "      <td>245.0</td>\n",
              "      <td>2014-01-01 11:53:19+00:00</td>\n",
              "      <td>2013-12-17 08:00:00+00:00</td>\n",
              "      <td>2014-01-01 19:18:51+00:00</td>\n",
              "      <td>14.0</td>\n",
              "      <td>16</td>\n",
              "      <td>NaN</td>\n",
              "      <td>female</td>\n",
              "      <td>monthly</td>\n",
              "    </tr>\n",
              "    <tr>\n",
              "      <th>2014-01-01</th>\n",
              "      <td>1080148</td>\n",
              "      <td>250.0</td>\n",
              "      <td>250.0</td>\n",
              "      <td>Services</td>\n",
              "      <td>Services</td>\n",
              "      <td>purchase leather for my business using ksh 20000.</td>\n",
              "      <td>KE</td>\n",
              "      <td>Kenya</td>\n",
              "      <td>NaN</td>\n",
              "      <td>KES</td>\n",
              "      <td>NaN</td>\n",
              "      <td>2014-01-01 10:06:19+00:00</td>\n",
              "      <td>2014-01-30 01:42:48+00:00</td>\n",
              "      <td>2014-01-29 14:14:57+00:00</td>\n",
              "      <td>4.0</td>\n",
              "      <td>6</td>\n",
              "      <td>NaN</td>\n",
              "      <td>female</td>\n",
              "      <td>irregular</td>\n",
              "    </tr>\n",
              "  </tbody>\n",
              "</table>\n",
              "</div>\n",
              "    <div class=\"colab-df-buttons\">\n",
              "\n",
              "  <div class=\"colab-df-container\">\n",
              "    <button class=\"colab-df-convert\" onclick=\"convertToInteractive('df-3c349101-543c-4f42-94b5-edcb9a0926e2')\"\n",
              "            title=\"Convert this dataframe to an interactive table.\"\n",
              "            style=\"display:none;\">\n",
              "\n",
              "  <svg xmlns=\"http://www.w3.org/2000/svg\" height=\"24px\" viewBox=\"0 -960 960 960\">\n",
              "    <path d=\"M120-120v-720h720v720H120Zm60-500h600v-160H180v160Zm220 220h160v-160H400v160Zm0 220h160v-160H400v160ZM180-400h160v-160H180v160Zm440 0h160v-160H620v160ZM180-180h160v-160H180v160Zm440 0h160v-160H620v160Z\"/>\n",
              "  </svg>\n",
              "    </button>\n",
              "\n",
              "  <style>\n",
              "    .colab-df-container {\n",
              "      display:flex;\n",
              "      gap: 12px;\n",
              "    }\n",
              "\n",
              "    .colab-df-convert {\n",
              "      background-color: #E8F0FE;\n",
              "      border: none;\n",
              "      border-radius: 50%;\n",
              "      cursor: pointer;\n",
              "      display: none;\n",
              "      fill: #1967D2;\n",
              "      height: 32px;\n",
              "      padding: 0 0 0 0;\n",
              "      width: 32px;\n",
              "    }\n",
              "\n",
              "    .colab-df-convert:hover {\n",
              "      background-color: #E2EBFA;\n",
              "      box-shadow: 0px 1px 2px rgba(60, 64, 67, 0.3), 0px 1px 3px 1px rgba(60, 64, 67, 0.15);\n",
              "      fill: #174EA6;\n",
              "    }\n",
              "\n",
              "    .colab-df-buttons div {\n",
              "      margin-bottom: 4px;\n",
              "    }\n",
              "\n",
              "    [theme=dark] .colab-df-convert {\n",
              "      background-color: #3B4455;\n",
              "      fill: #D2E3FC;\n",
              "    }\n",
              "\n",
              "    [theme=dark] .colab-df-convert:hover {\n",
              "      background-color: #434B5C;\n",
              "      box-shadow: 0px 1px 3px 1px rgba(0, 0, 0, 0.15);\n",
              "      filter: drop-shadow(0px 1px 2px rgba(0, 0, 0, 0.3));\n",
              "      fill: #FFFFFF;\n",
              "    }\n",
              "  </style>\n",
              "\n",
              "    <script>\n",
              "      const buttonEl =\n",
              "        document.querySelector('#df-3c349101-543c-4f42-94b5-edcb9a0926e2 button.colab-df-convert');\n",
              "      buttonEl.style.display =\n",
              "        google.colab.kernel.accessAllowed ? 'block' : 'none';\n",
              "\n",
              "      async function convertToInteractive(key) {\n",
              "        const element = document.querySelector('#df-3c349101-543c-4f42-94b5-edcb9a0926e2');\n",
              "        const dataTable =\n",
              "          await google.colab.kernel.invokeFunction('convertToInteractive',\n",
              "                                                    [key], {});\n",
              "        if (!dataTable) return;\n",
              "\n",
              "        const docLinkHtml = 'Like what you see? Visit the ' +\n",
              "          '<a target=\"_blank\" href=https://colab.research.google.com/notebooks/data_table.ipynb>data table notebook</a>'\n",
              "          + ' to learn more about interactive tables.';\n",
              "        element.innerHTML = '';\n",
              "        dataTable['output_type'] = 'display_data';\n",
              "        await google.colab.output.renderOutput(dataTable, element);\n",
              "        const docLink = document.createElement('div');\n",
              "        docLink.innerHTML = docLinkHtml;\n",
              "        element.appendChild(docLink);\n",
              "      }\n",
              "    </script>\n",
              "  </div>\n",
              "\n",
              "\n",
              "<div id=\"df-beb05672-69f0-4eab-a551-0455a0c2f2b0\">\n",
              "  <button class=\"colab-df-quickchart\" onclick=\"quickchart('df-beb05672-69f0-4eab-a551-0455a0c2f2b0')\"\n",
              "            title=\"Suggest charts\"\n",
              "            style=\"display:none;\">\n",
              "\n",
              "<svg xmlns=\"http://www.w3.org/2000/svg\" height=\"24px\"viewBox=\"0 0 24 24\"\n",
              "     width=\"24px\">\n",
              "    <g>\n",
              "        <path d=\"M19 3H5c-1.1 0-2 .9-2 2v14c0 1.1.9 2 2 2h14c1.1 0 2-.9 2-2V5c0-1.1-.9-2-2-2zM9 17H7v-7h2v7zm4 0h-2V7h2v10zm4 0h-2v-4h2v4z\"/>\n",
              "    </g>\n",
              "</svg>\n",
              "  </button>\n",
              "\n",
              "<style>\n",
              "  .colab-df-quickchart {\n",
              "      --bg-color: #E8F0FE;\n",
              "      --fill-color: #1967D2;\n",
              "      --hover-bg-color: #E2EBFA;\n",
              "      --hover-fill-color: #174EA6;\n",
              "      --disabled-fill-color: #AAA;\n",
              "      --disabled-bg-color: #DDD;\n",
              "  }\n",
              "\n",
              "  [theme=dark] .colab-df-quickchart {\n",
              "      --bg-color: #3B4455;\n",
              "      --fill-color: #D2E3FC;\n",
              "      --hover-bg-color: #434B5C;\n",
              "      --hover-fill-color: #FFFFFF;\n",
              "      --disabled-bg-color: #3B4455;\n",
              "      --disabled-fill-color: #666;\n",
              "  }\n",
              "\n",
              "  .colab-df-quickchart {\n",
              "    background-color: var(--bg-color);\n",
              "    border: none;\n",
              "    border-radius: 50%;\n",
              "    cursor: pointer;\n",
              "    display: none;\n",
              "    fill: var(--fill-color);\n",
              "    height: 32px;\n",
              "    padding: 0;\n",
              "    width: 32px;\n",
              "  }\n",
              "\n",
              "  .colab-df-quickchart:hover {\n",
              "    background-color: var(--hover-bg-color);\n",
              "    box-shadow: 0 1px 2px rgba(60, 64, 67, 0.3), 0 1px 3px 1px rgba(60, 64, 67, 0.15);\n",
              "    fill: var(--button-hover-fill-color);\n",
              "  }\n",
              "\n",
              "  .colab-df-quickchart-complete:disabled,\n",
              "  .colab-df-quickchart-complete:disabled:hover {\n",
              "    background-color: var(--disabled-bg-color);\n",
              "    fill: var(--disabled-fill-color);\n",
              "    box-shadow: none;\n",
              "  }\n",
              "\n",
              "  .colab-df-spinner {\n",
              "    border: 2px solid var(--fill-color);\n",
              "    border-color: transparent;\n",
              "    border-bottom-color: var(--fill-color);\n",
              "    animation:\n",
              "      spin 1s steps(1) infinite;\n",
              "  }\n",
              "\n",
              "  @keyframes spin {\n",
              "    0% {\n",
              "      border-color: transparent;\n",
              "      border-bottom-color: var(--fill-color);\n",
              "      border-left-color: var(--fill-color);\n",
              "    }\n",
              "    20% {\n",
              "      border-color: transparent;\n",
              "      border-left-color: var(--fill-color);\n",
              "      border-top-color: var(--fill-color);\n",
              "    }\n",
              "    30% {\n",
              "      border-color: transparent;\n",
              "      border-left-color: var(--fill-color);\n",
              "      border-top-color: var(--fill-color);\n",
              "      border-right-color: var(--fill-color);\n",
              "    }\n",
              "    40% {\n",
              "      border-color: transparent;\n",
              "      border-right-color: var(--fill-color);\n",
              "      border-top-color: var(--fill-color);\n",
              "    }\n",
              "    60% {\n",
              "      border-color: transparent;\n",
              "      border-right-color: var(--fill-color);\n",
              "    }\n",
              "    80% {\n",
              "      border-color: transparent;\n",
              "      border-right-color: var(--fill-color);\n",
              "      border-bottom-color: var(--fill-color);\n",
              "    }\n",
              "    90% {\n",
              "      border-color: transparent;\n",
              "      border-bottom-color: var(--fill-color);\n",
              "    }\n",
              "  }\n",
              "</style>\n",
              "\n",
              "  <script>\n",
              "    async function quickchart(key) {\n",
              "      const quickchartButtonEl =\n",
              "        document.querySelector('#' + key + ' button');\n",
              "      quickchartButtonEl.disabled = true;  // To prevent multiple clicks.\n",
              "      quickchartButtonEl.classList.add('colab-df-spinner');\n",
              "      try {\n",
              "        const charts = await google.colab.kernel.invokeFunction(\n",
              "            'suggestCharts', [key], {});\n",
              "      } catch (error) {\n",
              "        console.error('Error during call to suggestCharts:', error);\n",
              "      }\n",
              "      quickchartButtonEl.classList.remove('colab-df-spinner');\n",
              "      quickchartButtonEl.classList.add('colab-df-quickchart-complete');\n",
              "    }\n",
              "    (() => {\n",
              "      let quickchartButtonEl =\n",
              "        document.querySelector('#df-beb05672-69f0-4eab-a551-0455a0c2f2b0 button');\n",
              "      quickchartButtonEl.style.display =\n",
              "        google.colab.kernel.accessAllowed ? 'block' : 'none';\n",
              "    })();\n",
              "  </script>\n",
              "</div>\n",
              "    </div>\n",
              "  </div>\n"
            ],
            "text/plain": [
              "                 id  funded_amount  loan_amount             activity  \\\n",
              "date                                                                   \n",
              "2014-01-01   653051          300.0        300.0  Fruits & Vegetables   \n",
              "2014-01-01   653053          575.0        575.0             Rickshaw   \n",
              "2014-01-01   653068          150.0        150.0       Transportation   \n",
              "2014-01-01   653063          200.0        200.0           Embroidery   \n",
              "2014-01-01   653084          400.0        400.0           Milk Sales   \n",
              "2014-01-01  1080148          250.0        250.0             Services   \n",
              "\n",
              "                    sector                                                use  \\\n",
              "date                                                                            \n",
              "2014-01-01            Food            To buy seasonal, fresh fruits to sell.    \n",
              "2014-01-01  Transportation  to repair and maintain the auto rickshaw used ...   \n",
              "2014-01-01  Transportation  To repair their old cycle-van and buy another ...   \n",
              "2014-01-01            Arts  to purchase an embroidery machine and a variet...   \n",
              "2014-01-01            Food                           to purchase one buffalo.   \n",
              "2014-01-01        Services  purchase leather for my business using ksh 20000.   \n",
              "\n",
              "           country_code   country        region currency  partner_id  \\\n",
              "date                                                                   \n",
              "2014-01-01           PK  Pakistan        Lahore      PKR       247.0   \n",
              "2014-01-01           PK  Pakistan        Lahore      PKR       247.0   \n",
              "2014-01-01           IN     India     Maynaguri      INR       334.0   \n",
              "2014-01-01           PK  Pakistan        Lahore      PKR       247.0   \n",
              "2014-01-01           PK  Pakistan  Abdul Hakeem      PKR       245.0   \n",
              "2014-01-01           KE     Kenya           NaN      KES         NaN   \n",
              "\n",
              "                          posted_time             disbursed_time  \\\n",
              "date                                                               \n",
              "2014-01-01  2014-01-01 06:12:39+00:00  2013-12-17 08:00:00+00:00   \n",
              "2014-01-01  2014-01-01 06:51:08+00:00  2013-12-17 08:00:00+00:00   \n",
              "2014-01-01  2014-01-01 09:58:07+00:00  2013-12-17 08:00:00+00:00   \n",
              "2014-01-01  2014-01-01 08:03:11+00:00  2013-12-24 08:00:00+00:00   \n",
              "2014-01-01  2014-01-01 11:53:19+00:00  2013-12-17 08:00:00+00:00   \n",
              "2014-01-01  2014-01-01 10:06:19+00:00  2014-01-30 01:42:48+00:00   \n",
              "\n",
              "                          funded_time  term_in_months  lender_count  \\\n",
              "date                                                                  \n",
              "2014-01-01  2014-01-02 10:06:32+00:00            12.0            12   \n",
              "2014-01-01  2014-01-02 09:17:23+00:00            11.0            14   \n",
              "2014-01-01  2014-01-01 16:01:36+00:00            43.0             6   \n",
              "2014-01-01  2014-01-01 13:00:00+00:00            11.0             8   \n",
              "2014-01-01  2014-01-01 19:18:51+00:00            14.0            16   \n",
              "2014-01-01  2014-01-29 14:14:57+00:00             4.0             6   \n",
              "\n",
              "                                    tags borrower_genders repayment_interval  \n",
              "date                                                                          \n",
              "2014-01-01                           NaN           female          irregular  \n",
              "2014-01-01                           NaN   female, female          irregular  \n",
              "2014-01-01  user_favorite, user_favorite           female             bullet  \n",
              "2014-01-01                           NaN           female          irregular  \n",
              "2014-01-01                           NaN           female            monthly  \n",
              "2014-01-01                           NaN           female          irregular  "
            ]
          },
          "execution_count": 6,
          "metadata": {},
          "output_type": "execute_result"
        }
      ],
      "source": [
        "kivaloans.head(6)"
      ]
    },
    {
      "cell_type": "code",
      "execution_count": null,
      "metadata": {
        "colab": {
          "base_uri": "https://localhost:8080/"
        },
        "id": "YnS57EBFfCfq",
        "outputId": "278f3e41-f9d9-433a-ddcd-77f7fdc04a03"
      },
      "outputs": [
        {
          "data": {
            "text/plain": [
              "(671205, 19)"
            ]
          },
          "execution_count": 7,
          "metadata": {},
          "output_type": "execute_result"
        }
      ],
      "source": [
        "#Number of rows & columns\n",
        "kivaloans.shape"
      ]
    },
    {
      "cell_type": "code",
      "execution_count": null,
      "metadata": {
        "colab": {
          "base_uri": "https://localhost:8080/"
        },
        "id": "GHJ60tH7fCfr",
        "outputId": "f73ff27c-c983-4213-d5e4-b84e6510b8b2"
      },
      "outputs": [
        {
          "name": "stdout",
          "output_type": "stream",
          "text": [
            "<class 'pandas.core.frame.DataFrame'>\n",
            "DatetimeIndex: 671205 entries, 2014-01-01 to 2017-07-26\n",
            "Data columns (total 19 columns):\n",
            " #   Column              Non-Null Count   Dtype  \n",
            "---  ------              --------------   -----  \n",
            " 0   id                  671205 non-null  int64  \n",
            " 1   funded_amount       671205 non-null  float64\n",
            " 2   loan_amount         671205 non-null  float64\n",
            " 3   activity            671205 non-null  object \n",
            " 4   sector              671205 non-null  object \n",
            " 5   use                 666973 non-null  object \n",
            " 6   country_code        671197 non-null  object \n",
            " 7   country             671205 non-null  object \n",
            " 8   region              614405 non-null  object \n",
            " 9   currency            671205 non-null  object \n",
            " 10  partner_id          657698 non-null  float64\n",
            " 11  posted_time         671205 non-null  object \n",
            " 12  disbursed_time      668809 non-null  object \n",
            " 13  funded_time         622874 non-null  object \n",
            " 14  term_in_months      671205 non-null  float64\n",
            " 15  lender_count        671205 non-null  int64  \n",
            " 16  tags                499789 non-null  object \n",
            " 17  borrower_genders    666984 non-null  object \n",
            " 18  repayment_interval  671205 non-null  object \n",
            "dtypes: float64(4), int64(2), object(13)\n",
            "memory usage: 102.4+ MB\n"
          ]
        }
      ],
      "source": [
        "#All information about the data\n",
        "kivaloans.info()"
      ]
    },
    {
      "cell_type": "markdown",
      "metadata": {
        "id": "3q4N4pILfCfs"
      },
      "source": [
        "CheckList:\n",
        "check for missing values\n",
        "\n",
        "check for duplicate values\n",
        "\n",
        "id: convert datatype to 'object' and discover its data\n",
        "\n",
        "loan_amount: discover its data\n",
        "\n",
        "funded_amount: discover its data\n",
        "\n",
        "activity: discover its data\n",
        "\n",
        "sector: discover its data\n",
        "\n",
        "use: discover its data\n",
        "\n",
        "country_code: drop(not significant because the country column is present)\n",
        "\n",
        "country: discover its data\n",
        "\n",
        "region: discover its data\n",
        "\n",
        "currency: drop (not important because all loans borrowed in USD)\n",
        "\n",
        "partner_id: convert datatype to 'object' and discover its data\n",
        "\n",
        "posted_time:convert to Date/Time and discover its data\n",
        "\n",
        "disbursed_time:convert to Date/Time and discover its data\n",
        "\n",
        "funded_time: convert to Date/Time and discover its data\n",
        "\n",
        "term_in_months:\n",
        "\n",
        "rename to loan_months\n",
        "\n",
        "convert to 'int'\n",
        "lender_count: discover its data\n",
        "\n",
        "tags: drop (have alot of NAN values)\n",
        "\n",
        "borrower_genders: ['male', 'female']\n",
        "\n",
        "repayment_interval: convert datatype to 'object'"
      ]
    },
    {
      "cell_type": "markdown",
      "metadata": {
        "id": "gi-62kwLfCft"
      },
      "source": [
        "**Missing Values**"
      ]
    },
    {
      "cell_type": "code",
      "execution_count": null,
      "metadata": {
        "colab": {
          "base_uri": "https://localhost:8080/"
        },
        "id": "MDg78fjVfCft",
        "outputId": "43e78ae4-8044-451f-c603-ffcb51a66910"
      },
      "outputs": [
        {
          "data": {
            "text/plain": [
              "id                         0\n",
              "funded_amount              0\n",
              "loan_amount                0\n",
              "activity                   0\n",
              "sector                     0\n",
              "use                     4232\n",
              "country_code               8\n",
              "country                    0\n",
              "region                 56800\n",
              "currency                   0\n",
              "partner_id             13507\n",
              "posted_time                0\n",
              "disbursed_time          2396\n",
              "funded_time            48331\n",
              "term_in_months             0\n",
              "lender_count               0\n",
              "tags                  171416\n",
              "borrower_genders        4221\n",
              "repayment_interval         0\n",
              "dtype: int64"
            ]
          },
          "execution_count": 9,
          "metadata": {},
          "output_type": "execute_result"
        }
      ],
      "source": [
        "#Check for missing values\n",
        "kivaloans.isna().sum()"
      ]
    },
    {
      "cell_type": "markdown",
      "metadata": {
        "id": "BS7jEbX1fCfu"
      },
      "source": [
        "**Handling missing values**\n",
        "   - tags column not important and has alot of missing values so i can drop it\n",
        "   - The region column missing values can be filled with the country column\n",
        "   - because the funded_time as very close to posted_time its missing values can be filled with posted_time values\n",
        "   - The use column can drop its missing values\n",
        "   - partener_id column cannot fill its missing values so i can dorp them\n",
        "   - disbursed_time column can drop its missing values\n",
        "   - borrower_gender column too can drop its missing values"
      ]
    },
    {
      "cell_type": "markdown",
      "metadata": {
        "id": "2SNEPnYOfCfu"
      },
      "source": [
        "**Tags column**"
      ]
    },
    {
      "cell_type": "code",
      "execution_count": null,
      "metadata": {
        "id": "gw6drDeAfCfv"
      },
      "outputs": [],
      "source": [
        "kivaloans = kivaloans.drop('tags', axis=1)"
      ]
    },
    {
      "cell_type": "markdown",
      "metadata": {
        "id": "jJ1uKh1UfCfv"
      },
      "source": [
        "**Region column**"
      ]
    },
    {
      "cell_type": "code",
      "execution_count": null,
      "metadata": {
        "id": "oHo26cpFfCfv"
      },
      "outputs": [],
      "source": [
        "kivaloans['region'].fillna(kivaloans['country'], inplace=True)"
      ]
    },
    {
      "cell_type": "markdown",
      "metadata": {
        "id": "5L5TU6fLfCfw"
      },
      "source": [
        "**Funded_time column**"
      ]
    },
    {
      "cell_type": "code",
      "execution_count": null,
      "metadata": {
        "id": "B0AY2bcNfCfw"
      },
      "outputs": [],
      "source": [
        "kivaloans['funded_time'].fillna(kivaloans['posted_time'], inplace=True)"
      ]
    },
    {
      "cell_type": "code",
      "execution_count": null,
      "metadata": {
        "id": "edOqniPafCfw"
      },
      "outputs": [],
      "source": [
        "kivaloans.dropna(subset=['use', 'disbursed_time', 'borrower_genders', 'partner_id'], inplace=True)"
      ]
    },
    {
      "cell_type": "code",
      "execution_count": null,
      "metadata": {
        "colab": {
          "base_uri": "https://localhost:8080/"
        },
        "id": "eyk2utaDfCfx",
        "outputId": "aa4465ce-1024-4bc8-afef-886e801f622c"
      },
      "outputs": [
        {
          "data": {
            "text/plain": [
              "id                        0\n",
              "funded_amount             0\n",
              "loan_amount               0\n",
              "activity                  0\n",
              "sector                    0\n",
              "use                       0\n",
              "country_code              8\n",
              "country                   0\n",
              "region                    0\n",
              "currency                  0\n",
              "partner_id                0\n",
              "posted_time               0\n",
              "disbursed_time            0\n",
              "funded_time           45687\n",
              "term_in_months            0\n",
              "lender_count              0\n",
              "borrower_genders          0\n",
              "repayment_interval        0\n",
              "dtype: int64"
            ]
          },
          "execution_count": 13,
          "metadata": {},
          "output_type": "execute_result"
        }
      ],
      "source": [
        "#Handling missing values\n",
        "kivaloans.isna().sum()"
      ]
    },
    {
      "cell_type": "code",
      "execution_count": null,
      "metadata": {
        "colab": {
          "base_uri": "https://localhost:8080/"
        },
        "id": "xSsYiQLSfCfx",
        "outputId": "8e51faa6-a29a-47df-ecc0-f8241fed6db8"
      },
      "outputs": [
        {
          "data": {
            "text/plain": [
              "(653890, 18)"
            ]
          },
          "execution_count": 15,
          "metadata": {},
          "output_type": "execute_result"
        }
      ],
      "source": [
        "kivaloans.shape"
      ]
    },
    {
      "cell_type": "markdown",
      "metadata": {
        "id": "AMLzhbVNfCfy"
      },
      "source": [
        "**Duplicate Values**"
      ]
    },
    {
      "cell_type": "markdown",
      "metadata": {
        "id": "ld7uH_s4b7JK"
      },
      "source": [
        "This shows that there is no duplicate values"
      ]
    },
    {
      "cell_type": "code",
      "execution_count": null,
      "metadata": {
        "colab": {
          "base_uri": "https://localhost:8080/"
        },
        "id": "XQDPqJf0fCfz",
        "outputId": "c666d15b-8d73-4389-b1c4-2e6bf2048e1b"
      },
      "outputs": [
        {
          "data": {
            "text/plain": [
              "False"
            ]
          },
          "execution_count": 14,
          "metadata": {},
          "output_type": "execute_result"
        }
      ],
      "source": [
        "kivaloans.duplicated().all()"
      ]
    },
    {
      "cell_type": "markdown",
      "metadata": {
        "id": "eLa-nKtHfCf0"
      },
      "source": [
        "\n",
        "*   Unique ID for loan\n",
        "*   Convert datatype to 'object' and discover its data"
      ]
    },
    {
      "cell_type": "code",
      "execution_count": null,
      "metadata": {
        "id": "vDyz_O3VfCf1"
      },
      "outputs": [],
      "source": [
        "#Convert datatype to object\n",
        "kivaloans['id']= kivaloans['id'].astype(object)"
      ]
    },
    {
      "cell_type": "code",
      "execution_count": null,
      "metadata": {
        "colab": {
          "base_uri": "https://localhost:8080/"
        },
        "id": "5R8Yz9pHfCf1",
        "outputId": "6ff03249-7fbe-4c4a-9be9-0e1c9c8ad035"
      },
      "outputs": [
        {
          "data": {
            "text/plain": [
              "dtype('O')"
            ]
          },
          "execution_count": 17,
          "metadata": {},
          "output_type": "execute_result"
        }
      ],
      "source": [
        "#Confirm the datatype\n",
        "kivaloans['id'].dtype"
      ]
    },
    {
      "cell_type": "code",
      "execution_count": null,
      "metadata": {
        "colab": {
          "base_uri": "https://localhost:8080/"
        },
        "id": "7H1USMvEfCf1",
        "outputId": "042a12e9-4589-456d-a470-ee3d66a02b7c"
      },
      "outputs": [
        {
          "data": {
            "text/plain": [
              "653890"
            ]
          },
          "execution_count": 19,
          "metadata": {},
          "output_type": "execute_result"
        }
      ],
      "source": [
        "# id column\n",
        "kivaloans['id'].nunique()"
      ]
    },
    {
      "cell_type": "markdown",
      "metadata": {
        "id": "9yPo6hVbfCf2"
      },
      "source": [
        "**Loan_amount:**\n",
        "\n",
        "   - The amount disbursed by Kiva to the field agent(USD)\n",
        "   - discover its data"
      ]
    },
    {
      "cell_type": "code",
      "execution_count": null,
      "metadata": {
        "colab": {
          "base_uri": "https://localhost:8080/"
        },
        "id": "C6aqULvwfCf-",
        "outputId": "ec5da4be-dcc0-4073-ff8e-528e663ee858"
      },
      "outputs": [
        {
          "data": {
            "text/plain": [
              "532306950.0"
            ]
          },
          "execution_count": 29,
          "metadata": {},
          "output_type": "execute_result"
        }
      ],
      "source": [
        "kivaloans['loan_amount'].sum()"
      ]
    },
    {
      "cell_type": "code",
      "execution_count": null,
      "metadata": {
        "colab": {
          "base_uri": "https://localhost:8080/"
        },
        "id": "5cRw8we9fCf_",
        "outputId": "1d557e70-ca02-48b9-fec8-f5340541b829"
      },
      "outputs": [
        {
          "data": {
            "text/plain": [
              "count    653890.000000\n",
              "mean        814.061922\n",
              "std        1099.504640\n",
              "min          25.000000\n",
              "25%         275.000000\n",
              "50%         500.000000\n",
              "75%         975.000000\n",
              "max      100000.000000\n",
              "Name: loan_amount, dtype: float64"
            ]
          },
          "execution_count": 30,
          "metadata": {},
          "output_type": "execute_result"
        }
      ],
      "source": [
        "kivaloans['loan_amount'].describe()"
      ]
    },
    {
      "cell_type": "code",
      "execution_count": null,
      "metadata": {
        "colab": {
          "base_uri": "https://localhost:8080/",
          "height": 883
        },
        "id": "stSOTI_UfCf_",
        "outputId": "15242fb7-08d8-4395-869b-da2843bbfe76"
      },
      "outputs": [
        {
          "data": {
            "image/png": "[encoded data removed]",
            "text/plain": [
              "<Figure size 1500x1000 with 1 Axes>"
            ]
          },
          "metadata": {},
          "output_type": "display_data"
        }
      ],
      "source": [
        "#Visualize loan amount on histogram\n",
        "plt.figure(figsize = (15,10))\n",
        "plt.title('Loan Amount', fontsize = 16)\n",
        "plt.hist(kivaloans['loan_amount'], bins = 40)\n",
        "plt.xlabel('Loan Amount')\n",
        "plt.ylabel('Frequency')\n",
        "plt.show()"
      ]
    },
    {
      "cell_type": "markdown",
      "metadata": {
        "id": "MazM6yd8fCgA"
      },
      "source": [
        "**funded_amount**\n",
        "\n",
        "   - The amount disbursed by the field agent to the borrower(USD)\n",
        "   - discover its data"
      ]
    },
    {
      "cell_type": "code",
      "execution_count": null,
      "metadata": {
        "colab": {
          "base_uri": "https://localhost:8080/"
        },
        "id": "6oyZqXjffCgA",
        "outputId": "78210f8d-a22f-4ec9-f51d-4b71be09dd8f"
      },
      "outputs": [
        {
          "data": {
            "text/plain": [
              "503188725.0"
            ]
          },
          "execution_count": 32,
          "metadata": {},
          "output_type": "execute_result"
        }
      ],
      "source": [
        "kivaloans['funded_amount'].sum()"
      ]
    },
    {
      "cell_type": "code",
      "execution_count": null,
      "metadata": {
        "colab": {
          "base_uri": "https://localhost:8080/"
        },
        "id": "DMozTQswfCgB",
        "outputId": "50d1f007-ef44-4da7-a029-a4c3ffc23cad"
      },
      "outputs": [
        {
          "data": {
            "text/plain": [
              "count    653890.000000\n",
              "mean        769.531152\n",
              "std        1063.388638\n",
              "min           0.000000\n",
              "25%         250.000000\n",
              "50%         450.000000\n",
              "75%         900.000000\n",
              "max      100000.000000\n",
              "Name: funded_amount, dtype: float64"
            ]
          },
          "execution_count": 33,
          "metadata": {},
          "output_type": "execute_result"
        }
      ],
      "source": [
        "kivaloans['funded_amount'].describe()"
      ]
    },
    {
      "cell_type": "code",
      "execution_count": null,
      "metadata": {
        "colab": {
          "base_uri": "https://localhost:8080/",
          "height": 652
        },
        "id": "p9DmRw89fCgB",
        "outputId": "18a4fd15-4493-45ab-bc23-c06ae1c29fe6"
      },
      "outputs": [
        {
          "data": {
            "image/png": "[encoded data removed]",
            "text/plain": [
              "<Figure size 1200x700 with 1 Axes>"
            ]
          },
          "metadata": {},
          "output_type": "display_data"
        }
      ],
      "source": [
        "#Visualize funded amount on histogram\n",
        "plt.figure(figsize = (12,7))\n",
        "plt.title('Funded Amount', fontsize = 15)\n",
        "plt.hist(kivaloans['funded_amount'], bins = 40)\n",
        "plt.xlabel('Funded Amount')\n",
        "plt.ylabel('Frequency')\n",
        "plt.show()"
      ]
    },
    {
      "cell_type": "code",
      "execution_count": null,
      "metadata": {
        "colab": {
          "base_uri": "https://localhost:8080/"
        },
        "id": "_24wa4FPfCgC",
        "outputId": "2e3c74cc-d99c-4da5-8ac9-2f17737d331e"
      },
      "outputs": [
        {
          "data": {
            "text/plain": [
              "163"
            ]
          },
          "execution_count": 23,
          "metadata": {},
          "output_type": "execute_result"
        }
      ],
      "source": [
        "kivaloans['activity'].nunique()"
      ]
    },
    {
      "cell_type": "code",
      "execution_count": null,
      "metadata": {
        "colab": {
          "base_uri": "https://localhost:8080/"
        },
        "id": "WyySrFkLfCgD",
        "outputId": "c41e1abd-4876-4f41-b37d-d3e2e8aac1f4"
      },
      "outputs": [
        {
          "data": {
            "text/plain": [
              "Farming                      72621\n",
              "General Store                63105\n",
              "Personal Housing Expenses    32295\n",
              "Food Production/Sales        27210\n",
              "Pigs                         26516\n",
              "                             ...  \n",
              "Technology                       6\n",
              "Celebrations                     5\n",
              "Event Planning                   5\n",
              "Energy                           3\n",
              "Adult Care                       2\n",
              "Name: activity, Length: 163, dtype: int64"
            ]
          },
          "execution_count": 24,
          "metadata": {},
          "output_type": "execute_result"
        }
      ],
      "source": [
        "activity_counts= kivaloans['activity'].value_counts()\n",
        "activity_counts"
      ]
    },
    {
      "cell_type": "markdown",
      "metadata": {
        "id": "TK9BGWnSfCgD"
      },
      "source": [
        "**Table shows that the field of Farming is the most targeted field for the borrower category.**"
      ]
    },
    {
      "cell_type": "code",
      "execution_count": null,
      "metadata": {
        "colab": {
          "base_uri": "https://localhost:8080/",
          "height": 794
        },
        "id": "3qzoacDgfCgD",
        "outputId": "38a3f323-9a6c-46fc-cdbf-13b4baeceec4"
      },
      "outputs": [
        {
          "data": {
            "image/png": "[encoded data removed]",
            "text/plain": [
              "<Figure size 1200x700 with 1 Axes>"
            ]
          },
          "metadata": {},
          "output_type": "display_data"
        }
      ],
      "source": [
        "# Plot a bar chart for top ten activities\n",
        "plt.figure(figsize = (12,7))\n",
        "plt.bar(activity_counts.index[:10], activity_counts[:10])\n",
        "plt.xlabel('Activity')\n",
        "plt.ylabel('Count')\n",
        "plt.title('Top Ten Loan Activities')\n",
        "plt.xticks(rotation=45)  # Rotate x-axis labels for better readability if needed\n",
        "plt.show()"
      ]
    },
    {
      "cell_type": "markdown",
      "metadata": {
        "id": "noNDkWf6fCgE"
      },
      "source": [
        "** High level category**\n"
      ]
    },
    {
      "cell_type": "code",
      "execution_count": null,
      "metadata": {
        "colab": {
          "base_uri": "https://localhost:8080/"
        },
        "id": "GYj3f1pIfCgF",
        "outputId": "0cf6115f-d564-4607-db3a-4c89839993de"
      },
      "outputs": [
        {
          "data": {
            "text/plain": [
              "array(['Food', 'Transportation', 'Arts', 'Agriculture', 'Services',\n",
              "       'Manufacturing', 'Wholesale', 'Retail', 'Clothing', 'Construction',\n",
              "       'Health', 'Education', 'Personal Use', 'Housing', 'Entertainment'],\n",
              "      dtype=object)"
            ]
          },
          "execution_count": 26,
          "metadata": {},
          "output_type": "execute_result"
        }
      ],
      "source": [
        "kivaloans['sector'].unique()"
      ]
    },
    {
      "cell_type": "code",
      "execution_count": null,
      "metadata": {
        "colab": {
          "base_uri": "https://localhost:8080/"
        },
        "id": "6pBsBrAXfCgF",
        "outputId": "3298b88e-b779-466e-dfb2-d7814de3b03b"
      },
      "outputs": [
        {
          "data": {
            "text/plain": [
              "Agriculture       177166\n",
              "Food              133268\n",
              "Retail            121326\n",
              "Services           41563\n",
              "Personal Use       36246\n",
              "Housing            33539\n",
              "Clothing           30823\n",
              "Education          30681\n",
              "Transportation     15248\n",
              "Arts               11580\n",
              "Health              9009\n",
              "Manufacturing       6137\n",
              "Construction        6027\n",
              "Entertainment        656\n",
              "Wholesale            621\n",
              "Name: sector, dtype: int64"
            ]
          },
          "execution_count": 39,
          "metadata": {},
          "output_type": "execute_result"
        }
      ],
      "source": [
        "sector_counts= kivaloans['sector'].value_counts()\n",
        "sector_counts"
      ]
    },
    {
      "cell_type": "code",
      "execution_count": null,
      "metadata": {
        "id": "OHZ3GC_EfCgH"
      },
      "outputs": [],
      "source": [
        "def handle_use(x):\n",
        "    list_x = x.split(' ')\n",
        "    if 'filter' in list_x or 'filters' in list_x:\n",
        "        return 'buy water filter'\n",
        "    elif 'toilet' in list_x or 'latrine' in list_x:\n",
        "        return 'build sanitary toilet'\n",
        "    elif 'fertilizers' in list_x or 'fertilizer' in list_x:\n",
        "        return 'buy fertilizers and other farm supplies'\n",
        "    elif 'pigs.' in list_x:\n",
        "        return 'buy feeds and other supplies to Pigs'\n",
        "    elif 'groceries' in list_x:\n",
        "        return 'buy groceries to sell'\n",
        "    elif 'solar' in list_x:\n",
        "        return 'buy solar'\n",
        "    elif 'ingredients' in list_x:\n",
        "        return 'buy ingredients forfood production business'\n",
        "    elif 'merchandise' in list_x:\n",
        "        return 'buy enough merchandise to sell at markets'\n",
        "    elif 'clothing' in list_x or 'clothing,' in list_x:\n",
        "        return 'clothing to sell'\n",
        "    elif 'clothing' in list_x:\n",
        "        return 'clothing to sell'\n",
        "    elif 'livestock' in list_x or 'livestock.' in list_x:\n",
        "        return 'buy feeds and other supplies to livestock'\n",
        "    elif 'construction ' in list_x:\n",
        "        return 'purchase building materials and construction labor'\n",
        "    elif 'farm' in list_x:\n",
        "        return 'buy farm inputs'\n",
        "    else:\n",
        "        return x"
      ]
    },
    {
      "cell_type": "code",
      "execution_count": null,
      "metadata": {
        "id": "7iLYr63bfCgH"
      },
      "outputs": [],
      "source": [
        "kivaloans['use']= kivaloans['use'].apply(handle_use)"
      ]
    },
    {
      "cell_type": "code",
      "execution_count": null,
      "metadata": {
        "colab": {
          "base_uri": "https://localhost:8080/"
        },
        "id": "CCwryABHfCgH",
        "outputId": "eec6ee8c-ff9f-4ea4-d1bb-2cbb619993e2"
      },
      "outputs": [
        {
          "data": {
            "text/plain": [
              "buy fertilizers and other farm supplies                          39852\n",
              "buy water filter                                                 17557\n",
              "clothing to sell                                                 14687\n",
              "buy groceries to sell                                            14152\n",
              "buy ingredients forfood production business                      14100\n",
              "buy farm inputs                                                  13759\n",
              "buy feeds and other supplies to livestock                         9228\n",
              "build sanitary toilet                                             8849\n",
              "buy feeds and other supplies to Pigs                              8189\n",
              "buy solar                                                         7021\n",
              "buy enough merchandise to sell at markets                         5242\n",
              "to buy feeds and other supplies to raise her pigs                 1027\n",
              "to buy fishing gear and other equipment.                           688\n",
              "to buy feed and vitamins for her pigs                              621\n",
              "to pay university fees.                                            604\n",
              "to purchase building materials and pay for construction labor      583\n",
              "to buy an eco-friendly stove.                                      547\n",
              "to buy cereals.                                                    501\n",
              "to buy a dairy cow.                                                467\n",
              "to buy more fish to sell.                                          456\n",
              "Name: use, dtype: int64"
            ]
          },
          "execution_count": 31,
          "metadata": {},
          "output_type": "execute_result"
        }
      ],
      "source": [
        "kivaloans['use'].value_counts().head(20)"
      ]
    },
    {
      "cell_type": "code",
      "execution_count": null,
      "metadata": {
        "colab": {
          "base_uri": "https://localhost:8080/"
        },
        "id": "oXDTrq98fCgH",
        "outputId": "4b84aec8-26e2-4e4f-e147-c5b15572fad9"
      },
      "outputs": [
        {
          "data": {
            "text/plain": [
              "buy fertilizers and other farm supplies        39852\n",
              "buy water filter                               17557\n",
              "clothing to sell                               14687\n",
              "buy groceries to sell                          14152\n",
              "buy ingredients forfood production business    14100\n",
              "buy farm inputs                                13759\n",
              "buy feeds and other supplies to livestock       9228\n",
              "build sanitary toilet                           8849\n",
              "buy feeds and other supplies to Pigs            8189\n",
              "buy solar                                       7021\n",
              "Name: use, dtype: int64"
            ]
          },
          "execution_count": 44,
          "metadata": {},
          "output_type": "execute_result"
        }
      ],
      "source": [
        "use_counts= kivaloans['use'].value_counts().head(10)\n",
        "use_counts.columns=['use', 'count']\n",
        "use_counts"
      ]
    },
    {
      "cell_type": "code",
      "execution_count": null,
      "metadata": {
        "colab": {
          "base_uri": "https://localhost:8080/",
          "height": 272
        },
        "id": "Fp_gVqB5fCgI",
        "outputId": "858f0481-e32a-4b23-dc90-10921ca8cd92"
      },
      "outputs": [
        {
          "ename": "NameError",
          "evalue": "ignored",
          "output_type": "error",
          "traceback": [
            "\u001b[0;31m---------------------------------------------------------------------------\u001b[0m",
            "\u001b[0;31mNameError\u001b[0m                                 Traceback (most recent call last)",
            "\u001b[0;32m<ipython-input-33-a7b8b5f4ead4>\u001b[0m in \u001b[0;36m<cell line: 2>\u001b[0;34m()\u001b[0m\n\u001b[1;32m      1\u001b[0m \u001b[0mplt\u001b[0m\u001b[0;34m.\u001b[0m\u001b[0mfigure\u001b[0m\u001b[0;34m(\u001b[0m\u001b[0mfigsize\u001b[0m \u001b[0;34m=\u001b[0m \u001b[0;34m(\u001b[0m\u001b[0;36m10\u001b[0m\u001b[0;34m,\u001b[0m\u001b[0;36m5\u001b[0m\u001b[0;34m)\u001b[0m\u001b[0;34m)\u001b[0m\u001b[0;34m\u001b[0m\u001b[0;34m\u001b[0m\u001b[0m\n\u001b[0;32m----> 2\u001b[0;31m \u001b[0muse_counts\u001b[0m\u001b[0;34m.\u001b[0m\u001b[0mplot\u001b[0m\u001b[0;34m(\u001b[0m\u001b[0mkind\u001b[0m\u001b[0;34m=\u001b[0m\u001b[0;34m'bar'\u001b[0m\u001b[0;34m)\u001b[0m\u001b[0;34m\u001b[0m\u001b[0;34m\u001b[0m\u001b[0m\n\u001b[0m\u001b[1;32m      3\u001b[0m \u001b[0mplt\u001b[0m\u001b[0;34m.\u001b[0m\u001b[0mxlabel\u001b[0m\u001b[0;34m(\u001b[0m\u001b[0;34m'Uses'\u001b[0m\u001b[0;34m)\u001b[0m\u001b[0;34m\u001b[0m\u001b[0;34m\u001b[0m\u001b[0m\n\u001b[1;32m      4\u001b[0m \u001b[0mplt\u001b[0m\u001b[0;34m.\u001b[0m\u001b[0mylabel\u001b[0m\u001b[0;34m(\u001b[0m\u001b[0;34m'Count'\u001b[0m\u001b[0;34m)\u001b[0m\u001b[0;34m\u001b[0m\u001b[0;34m\u001b[0m\u001b[0m\n\u001b[1;32m      5\u001b[0m \u001b[0mplt\u001b[0m\u001b[0;34m.\u001b[0m\u001b[0mtitle\u001b[0m\u001b[0;34m(\u001b[0m\u001b[0;34m'Loan Uses'\u001b[0m\u001b[0;34m)\u001b[0m\u001b[0;34m\u001b[0m\u001b[0;34m\u001b[0m\u001b[0m\n",
            "\u001b[0;31mNameError\u001b[0m: name 'use_counts' is not defined"
          ]
        },
        {
          "data": {
            "text/plain": [
              "<Figure size 1000x500 with 0 Axes>"
            ]
          },
          "metadata": {},
          "output_type": "display_data"
        }
      ],
      "source": [
        "plt.figure(figsize = (10,5))\n",
        "use_counts.plot(kind='bar')\n",
        "plt.xlabel('Uses')\n",
        "plt.ylabel('Count')\n",
        "plt.title('Loan Uses')\n",
        "plt.xticks(rotation=75)  # Rotate x-axis labels for better readability if needed\n",
        "plt.show()"
      ]
    },
    {
      "cell_type": "markdown",
      "metadata": {
        "id": "dJEY-jvjfCgJ"
      },
      "source": [
        "**country_code**\n"
      ]
    },
    {
      "cell_type": "code",
      "execution_count": null,
      "metadata": {
        "colab": {
          "base_uri": "https://localhost:8080/"
        },
        "id": "f6geK3mtfCgJ",
        "outputId": "378110e3-3320-4547-de6e-5dfa66909a93"
      },
      "outputs": [
        {
          "data": {
            "text/plain": [
              "PH    160361\n",
              "KE     67106\n",
              "SV     39320\n",
              "KH     34809\n",
              "PK     26853\n",
              "       ...  \n",
              "VU         4\n",
              "AF         2\n",
              "MR         1\n",
              "CI         1\n",
              "BT         1\n",
              "Name: country_code, Length: 83, dtype: int64"
            ]
          },
          "execution_count": 34,
          "metadata": {},
          "output_type": "execute_result"
        }
      ],
      "source": [
        "kivaloans['country_code'].value_counts()"
      ]
    },
    {
      "cell_type": "markdown",
      "metadata": {
        "id": "6YhEgU6vfCgJ"
      },
      "source": [
        "This shows that the Philippines is one of the most countries that takes loans, followed by Kenya."
      ]
    },
    {
      "cell_type": "code",
      "execution_count": null,
      "metadata": {
        "colab": {
          "base_uri": "https://localhost:8080/"
        },
        "id": "MWFV7abofCgK",
        "outputId": "a0990a80-923a-4ce4-fc80-3f199a92f364"
      },
      "outputs": [
        {
          "data": {
            "text/plain": [
              "array(['Pakistan', 'India', 'Kenya', 'Nicaragua', 'El Salvador',\n",
              "       'Tanzania', 'Philippines', 'Peru', 'Senegal', 'Cambodia',\n",
              "       'Liberia', 'Vietnam', 'Iraq', 'Honduras', 'Palestine', 'Mongolia',\n",
              "       'United States', 'Mali', 'Colombia', 'Tajikistan', 'Guatemala',\n",
              "       'Ecuador', 'Bolivia', 'Yemen', 'Ghana', 'Sierra Leone', 'Haiti',\n",
              "       'Chile', 'Jordan', 'Uganda', 'Burundi', 'Burkina Faso',\n",
              "       'Timor-Leste', 'Indonesia', 'Georgia', 'Ukraine', 'Kosovo',\n",
              "       'Albania', 'The Democratic Republic of the Congo', 'Costa Rica',\n",
              "       'Somalia', 'Zimbabwe', 'Cameroon', 'Turkey', 'Azerbaijan',\n",
              "       'Dominican Republic', 'Brazil', 'Mexico', 'Kyrgyzstan', 'Armenia',\n",
              "       'Paraguay', 'Lebanon', 'Samoa', 'Israel', 'Rwanda', 'Zambia',\n",
              "       'Nepal', 'Congo', 'Mozambique', 'South Africa', 'Togo', 'Benin',\n",
              "       'Belize', 'Suriname', 'Thailand', 'Nigeria', 'Mauritania',\n",
              "       'Vanuatu', 'Panama', 'Saint Vincent and the Grenadines',\n",
              "       \"Lao People's Democratic Republic\", 'Myanmar (Burma)', 'Malawi',\n",
              "       'Moldova', 'South Sudan', 'Solomon Islands', 'China', 'Egypt',\n",
              "       'Afghanistan', 'Madagascar', 'Namibia', 'Lesotho', \"Cote D'Ivoire\",\n",
              "       'Bhutan'], dtype=object)"
            ]
          },
          "execution_count": 35,
          "metadata": {},
          "output_type": "execute_result"
        }
      ],
      "source": [
        "kivaloans['country'].unique()"
      ]
    },
    {
      "cell_type": "code",
      "execution_count": null,
      "metadata": {
        "colab": {
          "base_uri": "https://localhost:8080/"
        },
        "id": "_Q10HVJKfCgK",
        "outputId": "58f637bf-b6fa-4685-a40e-c0945347829c"
      },
      "outputs": [
        {
          "data": {
            "text/plain": [
              "84"
            ]
          },
          "execution_count": 37,
          "metadata": {},
          "output_type": "execute_result"
        }
      ],
      "source": [
        "kivaloans['country'].nunique()"
      ]
    },
    {
      "cell_type": "code",
      "execution_count": null,
      "metadata": {
        "colab": {
          "base_uri": "https://localhost:8080/"
        },
        "id": "EEp83WXCfCgK",
        "outputId": "7c78936e-4fe3-48e4-9c34-d0eaf447231d"
      },
      "outputs": [
        {
          "data": {
            "text/plain": [
              "Philippines      160361\n",
              "Kenya             67106\n",
              "El Salvador       39320\n",
              "Cambodia          34809\n",
              "Pakistan          26853\n",
              "                  ...  \n",
              "Vanuatu               4\n",
              "Afghanistan           2\n",
              "Mauritania            1\n",
              "Cote D'Ivoire         1\n",
              "Bhutan                1\n",
              "Name: country, Length: 84, dtype: int64"
            ]
          },
          "execution_count": 36,
          "metadata": {},
          "output_type": "execute_result"
        }
      ],
      "source": [
        "kivaloans['country'].value_counts()"
      ]
    },
    {
      "cell_type": "markdown",
      "metadata": {
        "id": "RcH7mPd3fCgK"
      },
      "source": [
        "This proves that the Philippines is one of the most countries that takes loans, followed by Kenya."
      ]
    },
    {
      "cell_type": "code",
      "execution_count": null,
      "metadata": {
        "id": "MLwQir_-fCgL"
      },
      "outputs": [],
      "source": [
        "kivaloans = kivaloans.drop('country_code', axis=1)"
      ]
    },
    {
      "cell_type": "markdown",
      "metadata": {
        "id": "8w0Bxc8-fCgL"
      },
      "source": [
        "**Region, Currency, Country**"
      ]
    },
    {
      "cell_type": "code",
      "execution_count": null,
      "metadata": {
        "colab": {
          "base_uri": "https://localhost:8080/"
        },
        "id": "I7a0f8HffCgL",
        "outputId": "2b5b4d12-5066-4310-9a4b-26bd035a943f"
      },
      "outputs": [
        {
          "data": {
            "text/plain": [
              "El Salvador                         19697\n",
              "Kaduna                              10000\n",
              "Lahore                               7178\n",
              "Rwanda                               6123\n",
              "Rawalpindi                           4496\n",
              "                                    ...  \n",
              "Brgy. Nagacadan, Kiangan, Ifugao        1\n",
              "Jghali                                  1\n",
              "San Miguel, Iloilo                      1\n",
              "Candelaria, Candelaria, Campeche        1\n",
              "alejandria                              1\n",
              "Name: region, Length: 12732, dtype: int64"
            ]
          },
          "execution_count": 51,
          "metadata": {},
          "output_type": "execute_result"
        }
      ],
      "source": [
        "kivaloans['region'].value_counts()"
      ]
    },
    {
      "cell_type": "code",
      "execution_count": null,
      "metadata": {
        "colab": {
          "base_uri": "https://localhost:8080/"
        },
        "id": "gXjUNy8ZfCgM",
        "outputId": "e80edd0b-2a84-4d76-853e-dfcb3e47a7a7"
      },
      "outputs": [
        {
          "data": {
            "text/plain": [
              "array(['PKR', 'INR', 'KES', 'NIO', 'USD', 'TZS', 'PHP', 'PEN', 'XOF',\n",
              "       'LRD', 'VND', 'HNL', 'MNT', 'COP', 'GTQ', 'TJS', 'BOB', 'YER',\n",
              "       'KHR', 'GHS', 'SLL', 'HTG', 'CLP', 'JOD', 'UGX', 'BIF', 'IDR',\n",
              "       'GEL', 'UAH', 'EUR', 'ALL', 'CRC', 'XAF', 'TRY', 'AZN', 'DOP',\n",
              "       'BRL', 'MXN', 'KGS', 'AMD', 'PYG', 'LBP', 'WST', 'ILS', 'RWF',\n",
              "       'ZMW', 'NPR', 'MZN', 'ZAR', 'BZD', 'SRD', 'NGN', 'VUV', 'XCD',\n",
              "       'LAK', 'MMK', 'MWK', 'ZWD', 'MDL', 'SSP', 'SBD', 'CNY', 'EGP',\n",
              "       'MGA', 'NAD', 'LSL', 'THB'], dtype=object)"
            ]
          },
          "execution_count": 39,
          "metadata": {},
          "output_type": "execute_result"
        }
      ],
      "source": [
        "kivaloans['currency'].unique()"
      ]
    },
    {
      "cell_type": "code",
      "execution_count": null,
      "metadata": {
        "colab": {
          "base_uri": "https://localhost:8080/"
        },
        "id": "BpsH4mw6fCgM",
        "outputId": "b245a32a-39e2-44e5-a4f5-d85c13119462"
      },
      "outputs": [
        {
          "data": {
            "text/plain": [
              "84"
            ]
          },
          "execution_count": 40,
          "metadata": {},
          "output_type": "execute_result"
        }
      ],
      "source": [
        "kivaloans['country'].nunique()"
      ]
    },
    {
      "cell_type": "code",
      "execution_count": null,
      "metadata": {
        "id": "I0ZO6ccAfCgM"
      },
      "outputs": [],
      "source": [
        "#convert datatype to 'object'\n",
        "kivaloans['partner_id']= kivaloans['partner_id'].astype(int)\n",
        "kivaloans['partner_id']= kivaloans['partner_id'].astype(object)"
      ]
    },
    {
      "cell_type": "code",
      "execution_count": null,
      "metadata": {
        "colab": {
          "base_uri": "https://localhost:8080/"
        },
        "id": "jx5OHSXofCgN",
        "outputId": "3446c39f-ec70-42c1-971b-2fdf339a6388"
      },
      "outputs": [
        {
          "data": {
            "text/plain": [
              "364"
            ]
          },
          "execution_count": 42,
          "metadata": {},
          "output_type": "execute_result"
        }
      ],
      "source": [
        "kivaloans['partner_id'].nunique()"
      ]
    },
    {
      "cell_type": "code",
      "execution_count": null,
      "metadata": {
        "colab": {
          "base_uri": "https://localhost:8080/"
        },
        "id": "Z7uBZ8MnfCgN",
        "outputId": "eee74bcf-1556-4ccc-e1ce-a8826ebbddcd"
      },
      "outputs": [
        {
          "data": {
            "text/plain": [
              "145    107180\n",
              "199     19263\n",
              "311     15830\n",
              "177     15639\n",
              "156     15419\n",
              "        ...  \n",
              "506         1\n",
              "348         1\n",
              "508         1\n",
              "509         1\n",
              "536         1\n",
              "Name: partner_id, Length: 364, dtype: int64"
            ]
          },
          "execution_count": 43,
          "metadata": {},
          "output_type": "execute_result"
        }
      ],
      "source": [
        "kivaloans['partner_id'].value_counts()"
      ]
    },
    {
      "cell_type": "code",
      "execution_count": null,
      "metadata": {
        "colab": {
          "base_uri": "https://localhost:8080/"
        },
        "id": "ZPygRLLlfCgN",
        "outputId": "d33f32b7-9abd-4bc3-f486-f26fdb2a24f5"
      },
      "outputs": [
        {
          "data": {
            "text/plain": [
              "364"
            ]
          },
          "execution_count": 44,
          "metadata": {},
          "output_type": "execute_result"
        }
      ],
      "source": [
        "kivaloans['partner_id'].nunique()"
      ]
    },
    {
      "cell_type": "code",
      "execution_count": null,
      "metadata": {
        "id": "ePR12JJpfCgN"
      },
      "outputs": [],
      "source": [
        "# convert to datetime type\n",
        "kivaloans['posted_time']= pd.to_datetime(kivaloans['posted_time'])"
      ]
    },
    {
      "cell_type": "code",
      "execution_count": null,
      "metadata": {
        "colab": {
          "base_uri": "https://localhost:8080/"
        },
        "id": "YS4xYb8XfCgO",
        "outputId": "4f162ee9-913a-426b-86ec-4bed20b59eed"
      },
      "outputs": [
        {
          "data": {
            "text/plain": [
              "datetime.date(2014, 1, 1)"
            ]
          },
          "execution_count": 52,
          "metadata": {},
          "output_type": "execute_result"
        }
      ],
      "source": [
        "# start date\n",
        "kivaloans['posted_time'].dt.date.min()"
      ]
    },
    {
      "cell_type": "code",
      "execution_count": null,
      "metadata": {
        "colab": {
          "base_uri": "https://localhost:8080/"
        },
        "id": "-Ec71tjufCgO",
        "outputId": "78fcccab-07c3-48ad-ebf3-bf3135c98a3b"
      },
      "outputs": [
        {
          "data": {
            "text/plain": [
              "datetime.date(2017, 7, 26)"
            ]
          },
          "execution_count": 55,
          "metadata": {},
          "output_type": "execute_result"
        }
      ],
      "source": [
        "# end date\n",
        "kivaloans['posted_time'].dt.date.max()"
      ]
    },
    {
      "cell_type": "code",
      "execution_count": null,
      "metadata": {
        "colab": {
          "base_uri": "https://localhost:8080/"
        },
        "id": "6M-Q0yYvfCgO",
        "outputId": "756a253f-2ed9-4c7f-dd9c-7d9116d2d6f6"
      },
      "outputs": [
        {
          "data": {
            "text/plain": [
              "datetime.time(0, 0)"
            ]
          },
          "execution_count": 54,
          "metadata": {},
          "output_type": "execute_result"
        }
      ],
      "source": [
        "# start time\n",
        "kivaloans['posted_time'].dt.time.min()"
      ]
    },
    {
      "cell_type": "code",
      "execution_count": null,
      "metadata": {
        "colab": {
          "base_uri": "https://localhost:8080/"
        },
        "id": "pDn8SanyfCgO",
        "outputId": "aa060fe7-74fc-4a21-f4ca-07df87ab7476"
      },
      "outputs": [
        {
          "data": {
            "text/plain": [
              "datetime.time(23, 59, 59)"
            ]
          },
          "execution_count": 56,
          "metadata": {},
          "output_type": "execute_result"
        }
      ],
      "source": [
        "# end time\n",
        "kivaloans['posted_time'].dt.time.max()"
      ]
    },
    {
      "cell_type": "code",
      "execution_count": null,
      "metadata": {
        "id": "V0mwqSPRfCgP"
      },
      "outputs": [],
      "source": [
        "# convert todatetime\n",
        "kivaloans['disbursed_time']= pd.to_datetime(kivaloans['disbursed_time'])"
      ]
    },
    {
      "cell_type": "code",
      "execution_count": null,
      "metadata": {
        "colab": {
          "base_uri": "https://localhost:8080/"
        },
        "id": "VHWFX-I-fCgP",
        "outputId": "b161b690-412a-4434-e8ef-01335788ccf2"
      },
      "outputs": [
        {
          "data": {
            "text/plain": [
              "datetime.date(2013, 12, 2)"
            ]
          },
          "execution_count": 64,
          "metadata": {},
          "output_type": "execute_result"
        }
      ],
      "source": [
        "# start date\n",
        "kivaloans['disbursed_time'].dt.date.min()"
      ]
    },
    {
      "cell_type": "code",
      "execution_count": null,
      "metadata": {
        "colab": {
          "base_uri": "https://localhost:8080/"
        },
        "id": "o2L-m9S3fCgP",
        "outputId": "0aa9ae0d-f677-4a84-f9e9-6788d53cc2a6"
      },
      "outputs": [
        {
          "data": {
            "text/plain": [
              "datetime.date(2017, 9, 30)"
            ]
          },
          "execution_count": 65,
          "metadata": {},
          "output_type": "execute_result"
        }
      ],
      "source": [
        "# end date\n",
        "kivaloans['disbursed_time'].dt.date.max()"
      ]
    },
    {
      "cell_type": "code",
      "execution_count": null,
      "metadata": {
        "colab": {
          "base_uri": "https://localhost:8080/"
        },
        "id": "Vu6eJfyifCgP",
        "outputId": "fd81641e-29f4-4a84-ef3e-863f5eaf50be"
      },
      "outputs": [
        {
          "data": {
            "text/plain": [
              "datetime.time(0, 0)"
            ]
          },
          "execution_count": 57,
          "metadata": {},
          "output_type": "execute_result"
        }
      ],
      "source": [
        "# start time\n",
        "kivaloans['disbursed_time'].dt.time.min()"
      ]
    },
    {
      "cell_type": "code",
      "execution_count": null,
      "metadata": {
        "colab": {
          "base_uri": "https://localhost:8080/"
        },
        "id": "7iJNsPuYfCgP",
        "outputId": "d235a950-9538-434a-e087-9b4a7784ba41"
      },
      "outputs": [
        {
          "data": {
            "text/plain": [
              "datetime.time(23, 59, 59)"
            ]
          },
          "execution_count": 58,
          "metadata": {},
          "output_type": "execute_result"
        }
      ],
      "source": [
        "# end time\n",
        "kivaloans['posted_time'].dt.time.max()"
      ]
    },
    {
      "cell_type": "code",
      "execution_count": null,
      "metadata": {
        "id": "2vCLs5PGfCgQ"
      },
      "outputs": [],
      "source": [
        "# This for dash board usage\n",
        "kivaloans['disbursed_date'] = kivaloans['disbursed_time'].dt.date"
      ]
    },
    {
      "cell_type": "code",
      "execution_count": null,
      "metadata": {
        "id": "9wB4KiJzfCgQ"
      },
      "outputs": [],
      "source": [
        "# convert to datetime\n",
        "kivaloans['funded_time']= pd.to_datetime(kivaloans['funded_time'])"
      ]
    },
    {
      "cell_type": "code",
      "execution_count": null,
      "metadata": {
        "colab": {
          "base_uri": "https://localhost:8080/",
          "height": 351
        },
        "id": "b6ZJpssNfCgR",
        "outputId": "0cbc8579-d101-4716-e4d7-9950dc54a0d7"
      },
      "outputs": [
        {
          "ename": "TypeError",
          "evalue": "ignored",
          "output_type": "error",
          "traceback": [
            "\u001b[0;31m---------------------------------------------------------------------------\u001b[0m",
            "\u001b[0;31mTypeError\u001b[0m                                 Traceback (most recent call last)",
            "\u001b[0;32m<ipython-input-63-512e4293fb4b>\u001b[0m in \u001b[0;36m<cell line: 2>\u001b[0;34m()\u001b[0m\n\u001b[1;32m      1\u001b[0m \u001b[0;31m# start date\u001b[0m\u001b[0;34m\u001b[0m\u001b[0;34m\u001b[0m\u001b[0m\n\u001b[0;32m----> 2\u001b[0;31m \u001b[0mkivaloans\u001b[0m\u001b[0;34m[\u001b[0m\u001b[0;34m'funded_time'\u001b[0m\u001b[0;34m]\u001b[0m\u001b[0;34m.\u001b[0m\u001b[0mdt\u001b[0m\u001b[0;34m.\u001b[0m\u001b[0mdate\u001b[0m\u001b[0;34m.\u001b[0m\u001b[0mmin\u001b[0m\u001b[0;34m(\u001b[0m\u001b[0;34m)\u001b[0m\u001b[0;34m\u001b[0m\u001b[0;34m\u001b[0m\u001b[0m\n\u001b[0m",
            "\u001b[0;32m/usr/local/lib/python3.10/dist-packages/pandas/core/generic.py\u001b[0m in \u001b[0;36mmin\u001b[0;34m(self, axis, skipna, level, numeric_only, **kwargs)\u001b[0m\n\u001b[1;32m  11963\u001b[0m             \u001b[0;34m**\u001b[0m\u001b[0mkwargs\u001b[0m\u001b[0;34m,\u001b[0m\u001b[0;34m\u001b[0m\u001b[0;34m\u001b[0m\u001b[0m\n\u001b[1;32m  11964\u001b[0m         ):\n\u001b[0;32m> 11965\u001b[0;31m             \u001b[0;32mreturn\u001b[0m \u001b[0mNDFrame\u001b[0m\u001b[0;34m.\u001b[0m\u001b[0mmin\u001b[0m\u001b[0;34m(\u001b[0m\u001b[0mself\u001b[0m\u001b[0;34m,\u001b[0m \u001b[0maxis\u001b[0m\u001b[0;34m,\u001b[0m \u001b[0mskipna\u001b[0m\u001b[0;34m,\u001b[0m \u001b[0mlevel\u001b[0m\u001b[0;34m,\u001b[0m \u001b[0mnumeric_only\u001b[0m\u001b[0;34m,\u001b[0m \u001b[0;34m**\u001b[0m\u001b[0mkwargs\u001b[0m\u001b[0;34m)\u001b[0m\u001b[0;34m\u001b[0m\u001b[0;34m\u001b[0m\u001b[0m\n\u001b[0m\u001b[1;32m  11966\u001b[0m \u001b[0;34m\u001b[0m\u001b[0m\n\u001b[1;32m  11967\u001b[0m         \u001b[0msetattr\u001b[0m\u001b[0;34m(\u001b[0m\u001b[0mcls\u001b[0m\u001b[0;34m,\u001b[0m \u001b[0;34m\"min\"\u001b[0m\u001b[0;34m,\u001b[0m \u001b[0mmin\u001b[0m\u001b[0;34m)\u001b[0m\u001b[0;34m\u001b[0m\u001b[0;34m\u001b[0m\u001b[0m\n",
            "\u001b[0;32m/usr/local/lib/python3.10/dist-packages/pandas/core/generic.py\u001b[0m in \u001b[0;36mmin\u001b[0;34m(self, axis, skipna, level, numeric_only, **kwargs)\u001b[0m\n\u001b[1;32m  11363\u001b[0m         \u001b[0;34m**\u001b[0m\u001b[0mkwargs\u001b[0m\u001b[0;34m,\u001b[0m\u001b[0;34m\u001b[0m\u001b[0;34m\u001b[0m\u001b[0m\n\u001b[1;32m  11364\u001b[0m     ):\n\u001b[0;32m> 11365\u001b[0;31m         return self._stat_function(\n\u001b[0m\u001b[1;32m  11366\u001b[0m             \u001b[0;34m\"min\"\u001b[0m\u001b[0;34m,\u001b[0m\u001b[0;34m\u001b[0m\u001b[0;34m\u001b[0m\u001b[0m\n\u001b[1;32m  11367\u001b[0m             \u001b[0mnanops\u001b[0m\u001b[0;34m.\u001b[0m\u001b[0mnanmin\u001b[0m\u001b[0;34m,\u001b[0m\u001b[0;34m\u001b[0m\u001b[0;34m\u001b[0m\u001b[0m\n",
            "\u001b[0;32m/usr/local/lib/python3.10/dist-packages/pandas/core/generic.py\u001b[0m in \u001b[0;36m_stat_function\u001b[0;34m(self, name, func, axis, skipna, level, numeric_only, **kwargs)\u001b[0m\n\u001b[1;32m  11351\u001b[0m                 \u001b[0mname\u001b[0m\u001b[0;34m,\u001b[0m \u001b[0maxis\u001b[0m\u001b[0;34m=\u001b[0m\u001b[0maxis\u001b[0m\u001b[0;34m,\u001b[0m \u001b[0mlevel\u001b[0m\u001b[0;34m=\u001b[0m\u001b[0mlevel\u001b[0m\u001b[0;34m,\u001b[0m \u001b[0mskipna\u001b[0m\u001b[0;34m=\u001b[0m\u001b[0mskipna\u001b[0m\u001b[0;34m,\u001b[0m \u001b[0mnumeric_only\u001b[0m\u001b[0;34m=\u001b[0m\u001b[0mnumeric_only\u001b[0m\u001b[0;34m\u001b[0m\u001b[0;34m\u001b[0m\u001b[0m\n\u001b[1;32m  11352\u001b[0m             )\n\u001b[0;32m> 11353\u001b[0;31m         return self._reduce(\n\u001b[0m\u001b[1;32m  11354\u001b[0m             \u001b[0mfunc\u001b[0m\u001b[0;34m,\u001b[0m \u001b[0mname\u001b[0m\u001b[0;34m=\u001b[0m\u001b[0mname\u001b[0m\u001b[0;34m,\u001b[0m \u001b[0maxis\u001b[0m\u001b[0;34m=\u001b[0m\u001b[0maxis\u001b[0m\u001b[0;34m,\u001b[0m \u001b[0mskipna\u001b[0m\u001b[0;34m=\u001b[0m\u001b[0mskipna\u001b[0m\u001b[0;34m,\u001b[0m \u001b[0mnumeric_only\u001b[0m\u001b[0;34m=\u001b[0m\u001b[0mnumeric_only\u001b[0m\u001b[0;34m\u001b[0m\u001b[0;34m\u001b[0m\u001b[0m\n\u001b[1;32m  11355\u001b[0m         )\n",
            "\u001b[0;32m/usr/local/lib/python3.10/dist-packages/pandas/core/series.py\u001b[0m in \u001b[0;36m_reduce\u001b[0;34m(self, op, name, axis, skipna, numeric_only, filter_type, **kwds)\u001b[0m\n\u001b[1;32m   4814\u001b[0m                 )\n\u001b[1;32m   4815\u001b[0m             \u001b[0;32mwith\u001b[0m \u001b[0mnp\u001b[0m\u001b[0;34m.\u001b[0m\u001b[0merrstate\u001b[0m\u001b[0;34m(\u001b[0m\u001b[0mall\u001b[0m\u001b[0;34m=\u001b[0m\u001b[0;34m\"ignore\"\u001b[0m\u001b[0;34m)\u001b[0m\u001b[0;34m:\u001b[0m\u001b[0;34m\u001b[0m\u001b[0;34m\u001b[0m\u001b[0m\n\u001b[0;32m-> 4816\u001b[0;31m                 \u001b[0;32mreturn\u001b[0m \u001b[0mop\u001b[0m\u001b[0;34m(\u001b[0m\u001b[0mdelegate\u001b[0m\u001b[0;34m,\u001b[0m \u001b[0mskipna\u001b[0m\u001b[0;34m=\u001b[0m\u001b[0mskipna\u001b[0m\u001b[0;34m,\u001b[0m \u001b[0;34m**\u001b[0m\u001b[0mkwds\u001b[0m\u001b[0;34m)\u001b[0m\u001b[0;34m\u001b[0m\u001b[0;34m\u001b[0m\u001b[0m\n\u001b[0m\u001b[1;32m   4817\u001b[0m \u001b[0;34m\u001b[0m\u001b[0m\n\u001b[1;32m   4818\u001b[0m     def _reindex_indexer(\n",
            "\u001b[0;32m/usr/local/lib/python3.10/dist-packages/pandas/core/nanops.py\u001b[0m in \u001b[0;36mf\u001b[0;34m(values, axis, skipna, **kwds)\u001b[0m\n\u001b[1;32m    153\u001b[0m                     \u001b[0mresult\u001b[0m \u001b[0;34m=\u001b[0m \u001b[0malt\u001b[0m\u001b[0;34m(\u001b[0m\u001b[0mvalues\u001b[0m\u001b[0;34m,\u001b[0m \u001b[0maxis\u001b[0m\u001b[0;34m=\u001b[0m\u001b[0maxis\u001b[0m\u001b[0;34m,\u001b[0m \u001b[0mskipna\u001b[0m\u001b[0;34m=\u001b[0m\u001b[0mskipna\u001b[0m\u001b[0;34m,\u001b[0m \u001b[0;34m**\u001b[0m\u001b[0mkwds\u001b[0m\u001b[0;34m)\u001b[0m\u001b[0;34m\u001b[0m\u001b[0;34m\u001b[0m\u001b[0m\n\u001b[1;32m    154\u001b[0m             \u001b[0;32melse\u001b[0m\u001b[0;34m:\u001b[0m\u001b[0;34m\u001b[0m\u001b[0;34m\u001b[0m\u001b[0m\n\u001b[0;32m--> 155\u001b[0;31m                 \u001b[0mresult\u001b[0m \u001b[0;34m=\u001b[0m \u001b[0malt\u001b[0m\u001b[0;34m(\u001b[0m\u001b[0mvalues\u001b[0m\u001b[0;34m,\u001b[0m \u001b[0maxis\u001b[0m\u001b[0;34m=\u001b[0m\u001b[0maxis\u001b[0m\u001b[0;34m,\u001b[0m \u001b[0mskipna\u001b[0m\u001b[0;34m=\u001b[0m\u001b[0mskipna\u001b[0m\u001b[0;34m,\u001b[0m \u001b[0;34m**\u001b[0m\u001b[0mkwds\u001b[0m\u001b[0;34m)\u001b[0m\u001b[0;34m\u001b[0m\u001b[0;34m\u001b[0m\u001b[0m\n\u001b[0m\u001b[1;32m    156\u001b[0m \u001b[0;34m\u001b[0m\u001b[0m\n\u001b[1;32m    157\u001b[0m             \u001b[0;32mreturn\u001b[0m \u001b[0mresult\u001b[0m\u001b[0;34m\u001b[0m\u001b[0;34m\u001b[0m\u001b[0m\n",
            "\u001b[0;32m/usr/local/lib/python3.10/dist-packages/pandas/core/nanops.py\u001b[0m in \u001b[0;36mnew_func\u001b[0;34m(values, axis, skipna, mask, **kwargs)\u001b[0m\n\u001b[1;32m    416\u001b[0m             \u001b[0mmask\u001b[0m \u001b[0;34m=\u001b[0m \u001b[0misna\u001b[0m\u001b[0;34m(\u001b[0m\u001b[0mvalues\u001b[0m\u001b[0;34m)\u001b[0m\u001b[0;34m\u001b[0m\u001b[0;34m\u001b[0m\u001b[0m\n\u001b[1;32m    417\u001b[0m \u001b[0;34m\u001b[0m\u001b[0m\n\u001b[0;32m--> 418\u001b[0;31m         \u001b[0mresult\u001b[0m \u001b[0;34m=\u001b[0m \u001b[0mfunc\u001b[0m\u001b[0;34m(\u001b[0m\u001b[0mvalues\u001b[0m\u001b[0;34m,\u001b[0m \u001b[0maxis\u001b[0m\u001b[0;34m=\u001b[0m\u001b[0maxis\u001b[0m\u001b[0;34m,\u001b[0m \u001b[0mskipna\u001b[0m\u001b[0;34m=\u001b[0m\u001b[0mskipna\u001b[0m\u001b[0;34m,\u001b[0m \u001b[0mmask\u001b[0m\u001b[0;34m=\u001b[0m\u001b[0mmask\u001b[0m\u001b[0;34m,\u001b[0m \u001b[0;34m**\u001b[0m\u001b[0mkwargs\u001b[0m\u001b[0;34m)\u001b[0m\u001b[0;34m\u001b[0m\u001b[0;34m\u001b[0m\u001b[0m\n\u001b[0m\u001b[1;32m    419\u001b[0m \u001b[0;34m\u001b[0m\u001b[0m\n\u001b[1;32m    420\u001b[0m         \u001b[0;32mif\u001b[0m \u001b[0mdatetimelike\u001b[0m\u001b[0;34m:\u001b[0m\u001b[0;34m\u001b[0m\u001b[0;34m\u001b[0m\u001b[0m\n",
            "\u001b[0;32m/usr/local/lib/python3.10/dist-packages/pandas/core/nanops.py\u001b[0m in \u001b[0;36mreduction\u001b[0;34m(values, axis, skipna, mask)\u001b[0m\n\u001b[1;32m   1049\u001b[0m                 \u001b[0mresult\u001b[0m \u001b[0;34m=\u001b[0m \u001b[0mnp\u001b[0m\u001b[0;34m.\u001b[0m\u001b[0mnan\u001b[0m\u001b[0;34m\u001b[0m\u001b[0;34m\u001b[0m\u001b[0m\n\u001b[1;32m   1050\u001b[0m         \u001b[0;32melse\u001b[0m\u001b[0;34m:\u001b[0m\u001b[0;34m\u001b[0m\u001b[0;34m\u001b[0m\u001b[0m\n\u001b[0;32m-> 1051\u001b[0;31m             \u001b[0mresult\u001b[0m \u001b[0;34m=\u001b[0m \u001b[0mgetattr\u001b[0m\u001b[0;34m(\u001b[0m\u001b[0mvalues\u001b[0m\u001b[0;34m,\u001b[0m \u001b[0mmeth\u001b[0m\u001b[0;34m)\u001b[0m\u001b[0;34m(\u001b[0m\u001b[0maxis\u001b[0m\u001b[0;34m)\u001b[0m\u001b[0;34m\u001b[0m\u001b[0;34m\u001b[0m\u001b[0m\n\u001b[0m\u001b[1;32m   1052\u001b[0m \u001b[0;34m\u001b[0m\u001b[0m\n\u001b[1;32m   1053\u001b[0m         \u001b[0mresult\u001b[0m \u001b[0;34m=\u001b[0m \u001b[0m_maybe_null_out\u001b[0m\u001b[0;34m(\u001b[0m\u001b[0mresult\u001b[0m\u001b[0;34m,\u001b[0m \u001b[0maxis\u001b[0m\u001b[0;34m,\u001b[0m \u001b[0mmask\u001b[0m\u001b[0;34m,\u001b[0m \u001b[0mvalues\u001b[0m\u001b[0;34m.\u001b[0m\u001b[0mshape\u001b[0m\u001b[0;34m)\u001b[0m\u001b[0;34m\u001b[0m\u001b[0;34m\u001b[0m\u001b[0m\n",
            "\u001b[0;32m/usr/local/lib/python3.10/dist-packages/numpy/core/_methods.py\u001b[0m in \u001b[0;36m_amin\u001b[0;34m(a, axis, out, keepdims, initial, where)\u001b[0m\n\u001b[1;32m     42\u001b[0m def _amin(a, axis=None, out=None, keepdims=False,\n\u001b[1;32m     43\u001b[0m           initial=_NoValue, where=True):\n\u001b[0;32m---> 44\u001b[0;31m     \u001b[0;32mreturn\u001b[0m \u001b[0mumr_minimum\u001b[0m\u001b[0;34m(\u001b[0m\u001b[0ma\u001b[0m\u001b[0;34m,\u001b[0m \u001b[0maxis\u001b[0m\u001b[0;34m,\u001b[0m \u001b[0;32mNone\u001b[0m\u001b[0;34m,\u001b[0m \u001b[0mout\u001b[0m\u001b[0;34m,\u001b[0m \u001b[0mkeepdims\u001b[0m\u001b[0;34m,\u001b[0m \u001b[0minitial\u001b[0m\u001b[0;34m,\u001b[0m \u001b[0mwhere\u001b[0m\u001b[0;34m)\u001b[0m\u001b[0;34m\u001b[0m\u001b[0;34m\u001b[0m\u001b[0m\n\u001b[0m\u001b[1;32m     45\u001b[0m \u001b[0;34m\u001b[0m\u001b[0m\n\u001b[1;32m     46\u001b[0m def _sum(a, axis=None, dtype=None, out=None, keepdims=False,\n",
            "\u001b[0;31mTypeError\u001b[0m: '<=' not supported between instances of 'datetime.date' and 'float'"
          ]
        }
      ],
      "source": [
        "# start date\n",
        "kivaloans['funded_time'].dt.date.min()"
      ]
    },
    {
      "cell_type": "code",
      "execution_count": null,
      "metadata": {
        "colab": {
          "base_uri": "https://localhost:8080/",
          "height": 351
        },
        "id": "BOawFHjofCgR",
        "outputId": "0e396750-352f-4c9d-aa56-fd123e2ba0a5"
      },
      "outputs": [
        {
          "ename": "TypeError",
          "evalue": "ignored",
          "output_type": "error",
          "traceback": [
            "\u001b[0;31m---------------------------------------------------------------------------\u001b[0m",
            "\u001b[0;31mTypeError\u001b[0m                                 Traceback (most recent call last)",
            "\u001b[0;32m<ipython-input-61-df6355b724c6>\u001b[0m in \u001b[0;36m<cell line: 2>\u001b[0;34m()\u001b[0m\n\u001b[1;32m      1\u001b[0m \u001b[0;31m# end date\u001b[0m\u001b[0;34m\u001b[0m\u001b[0;34m\u001b[0m\u001b[0m\n\u001b[0;32m----> 2\u001b[0;31m \u001b[0mkivaloans\u001b[0m\u001b[0;34m[\u001b[0m\u001b[0;34m'funded_time'\u001b[0m\u001b[0;34m]\u001b[0m\u001b[0;34m.\u001b[0m\u001b[0mdt\u001b[0m\u001b[0;34m.\u001b[0m\u001b[0mdate\u001b[0m\u001b[0;34m.\u001b[0m\u001b[0mmax\u001b[0m\u001b[0;34m(\u001b[0m\u001b[0;34m)\u001b[0m\u001b[0;34m\u001b[0m\u001b[0;34m\u001b[0m\u001b[0m\n\u001b[0m",
            "\u001b[0;32m/usr/local/lib/python3.10/dist-packages/pandas/core/generic.py\u001b[0m in \u001b[0;36mmax\u001b[0;34m(self, axis, skipna, level, numeric_only, **kwargs)\u001b[0m\n\u001b[1;32m  11939\u001b[0m             \u001b[0;34m**\u001b[0m\u001b[0mkwargs\u001b[0m\u001b[0;34m,\u001b[0m\u001b[0;34m\u001b[0m\u001b[0;34m\u001b[0m\u001b[0m\n\u001b[1;32m  11940\u001b[0m         ):\n\u001b[0;32m> 11941\u001b[0;31m             \u001b[0;32mreturn\u001b[0m \u001b[0mNDFrame\u001b[0m\u001b[0;34m.\u001b[0m\u001b[0mmax\u001b[0m\u001b[0;34m(\u001b[0m\u001b[0mself\u001b[0m\u001b[0;34m,\u001b[0m \u001b[0maxis\u001b[0m\u001b[0;34m,\u001b[0m \u001b[0mskipna\u001b[0m\u001b[0;34m,\u001b[0m \u001b[0mlevel\u001b[0m\u001b[0;34m,\u001b[0m \u001b[0mnumeric_only\u001b[0m\u001b[0;34m,\u001b[0m \u001b[0;34m**\u001b[0m\u001b[0mkwargs\u001b[0m\u001b[0;34m)\u001b[0m\u001b[0;34m\u001b[0m\u001b[0;34m\u001b[0m\u001b[0m\n\u001b[0m\u001b[1;32m  11942\u001b[0m \u001b[0;34m\u001b[0m\u001b[0m\n\u001b[1;32m  11943\u001b[0m         \u001b[0msetattr\u001b[0m\u001b[0;34m(\u001b[0m\u001b[0mcls\u001b[0m\u001b[0;34m,\u001b[0m \u001b[0;34m\"max\"\u001b[0m\u001b[0;34m,\u001b[0m \u001b[0mmax\u001b[0m\u001b[0;34m)\u001b[0m\u001b[0;34m\u001b[0m\u001b[0;34m\u001b[0m\u001b[0m\n",
            "\u001b[0;32m/usr/local/lib/python3.10/dist-packages/pandas/core/generic.py\u001b[0m in \u001b[0;36mmax\u001b[0;34m(self, axis, skipna, level, numeric_only, **kwargs)\u001b[0m\n\u001b[1;32m  11381\u001b[0m         \u001b[0;34m**\u001b[0m\u001b[0mkwargs\u001b[0m\u001b[0;34m,\u001b[0m\u001b[0;34m\u001b[0m\u001b[0;34m\u001b[0m\u001b[0m\n\u001b[1;32m  11382\u001b[0m     ):\n\u001b[0;32m> 11383\u001b[0;31m         return self._stat_function(\n\u001b[0m\u001b[1;32m  11384\u001b[0m             \u001b[0;34m\"max\"\u001b[0m\u001b[0;34m,\u001b[0m\u001b[0;34m\u001b[0m\u001b[0;34m\u001b[0m\u001b[0m\n\u001b[1;32m  11385\u001b[0m             \u001b[0mnanops\u001b[0m\u001b[0;34m.\u001b[0m\u001b[0mnanmax\u001b[0m\u001b[0;34m,\u001b[0m\u001b[0;34m\u001b[0m\u001b[0;34m\u001b[0m\u001b[0m\n",
            "\u001b[0;32m/usr/local/lib/python3.10/dist-packages/pandas/core/generic.py\u001b[0m in \u001b[0;36m_stat_function\u001b[0;34m(self, name, func, axis, skipna, level, numeric_only, **kwargs)\u001b[0m\n\u001b[1;32m  11351\u001b[0m                 \u001b[0mname\u001b[0m\u001b[0;34m,\u001b[0m \u001b[0maxis\u001b[0m\u001b[0;34m=\u001b[0m\u001b[0maxis\u001b[0m\u001b[0;34m,\u001b[0m \u001b[0mlevel\u001b[0m\u001b[0;34m=\u001b[0m\u001b[0mlevel\u001b[0m\u001b[0;34m,\u001b[0m \u001b[0mskipna\u001b[0m\u001b[0;34m=\u001b[0m\u001b[0mskipna\u001b[0m\u001b[0;34m,\u001b[0m \u001b[0mnumeric_only\u001b[0m\u001b[0;34m=\u001b[0m\u001b[0mnumeric_only\u001b[0m\u001b[0;34m\u001b[0m\u001b[0;34m\u001b[0m\u001b[0m\n\u001b[1;32m  11352\u001b[0m             )\n\u001b[0;32m> 11353\u001b[0;31m         return self._reduce(\n\u001b[0m\u001b[1;32m  11354\u001b[0m             \u001b[0mfunc\u001b[0m\u001b[0;34m,\u001b[0m \u001b[0mname\u001b[0m\u001b[0;34m=\u001b[0m\u001b[0mname\u001b[0m\u001b[0;34m,\u001b[0m \u001b[0maxis\u001b[0m\u001b[0;34m=\u001b[0m\u001b[0maxis\u001b[0m\u001b[0;34m,\u001b[0m \u001b[0mskipna\u001b[0m\u001b[0;34m=\u001b[0m\u001b[0mskipna\u001b[0m\u001b[0;34m,\u001b[0m \u001b[0mnumeric_only\u001b[0m\u001b[0;34m=\u001b[0m\u001b[0mnumeric_only\u001b[0m\u001b[0;34m\u001b[0m\u001b[0;34m\u001b[0m\u001b[0m\n\u001b[1;32m  11355\u001b[0m         )\n",
            "\u001b[0;32m/usr/local/lib/python3.10/dist-packages/pandas/core/series.py\u001b[0m in \u001b[0;36m_reduce\u001b[0;34m(self, op, name, axis, skipna, numeric_only, filter_type, **kwds)\u001b[0m\n\u001b[1;32m   4814\u001b[0m                 )\n\u001b[1;32m   4815\u001b[0m             \u001b[0;32mwith\u001b[0m \u001b[0mnp\u001b[0m\u001b[0;34m.\u001b[0m\u001b[0merrstate\u001b[0m\u001b[0;34m(\u001b[0m\u001b[0mall\u001b[0m\u001b[0;34m=\u001b[0m\u001b[0;34m\"ignore\"\u001b[0m\u001b[0;34m)\u001b[0m\u001b[0;34m:\u001b[0m\u001b[0;34m\u001b[0m\u001b[0;34m\u001b[0m\u001b[0m\n\u001b[0;32m-> 4816\u001b[0;31m                 \u001b[0;32mreturn\u001b[0m \u001b[0mop\u001b[0m\u001b[0;34m(\u001b[0m\u001b[0mdelegate\u001b[0m\u001b[0;34m,\u001b[0m \u001b[0mskipna\u001b[0m\u001b[0;34m=\u001b[0m\u001b[0mskipna\u001b[0m\u001b[0;34m,\u001b[0m \u001b[0;34m**\u001b[0m\u001b[0mkwds\u001b[0m\u001b[0;34m)\u001b[0m\u001b[0;34m\u001b[0m\u001b[0;34m\u001b[0m\u001b[0m\n\u001b[0m\u001b[1;32m   4817\u001b[0m \u001b[0;34m\u001b[0m\u001b[0m\n\u001b[1;32m   4818\u001b[0m     def _reindex_indexer(\n",
            "\u001b[0;32m/usr/local/lib/python3.10/dist-packages/pandas/core/nanops.py\u001b[0m in \u001b[0;36mf\u001b[0;34m(values, axis, skipna, **kwds)\u001b[0m\n\u001b[1;32m    153\u001b[0m                     \u001b[0mresult\u001b[0m \u001b[0;34m=\u001b[0m \u001b[0malt\u001b[0m\u001b[0;34m(\u001b[0m\u001b[0mvalues\u001b[0m\u001b[0;34m,\u001b[0m \u001b[0maxis\u001b[0m\u001b[0;34m=\u001b[0m\u001b[0maxis\u001b[0m\u001b[0;34m,\u001b[0m \u001b[0mskipna\u001b[0m\u001b[0;34m=\u001b[0m\u001b[0mskipna\u001b[0m\u001b[0;34m,\u001b[0m \u001b[0;34m**\u001b[0m\u001b[0mkwds\u001b[0m\u001b[0;34m)\u001b[0m\u001b[0;34m\u001b[0m\u001b[0;34m\u001b[0m\u001b[0m\n\u001b[1;32m    154\u001b[0m             \u001b[0;32melse\u001b[0m\u001b[0;34m:\u001b[0m\u001b[0;34m\u001b[0m\u001b[0;34m\u001b[0m\u001b[0m\n\u001b[0;32m--> 155\u001b[0;31m                 \u001b[0mresult\u001b[0m \u001b[0;34m=\u001b[0m \u001b[0malt\u001b[0m\u001b[0;34m(\u001b[0m\u001b[0mvalues\u001b[0m\u001b[0;34m,\u001b[0m \u001b[0maxis\u001b[0m\u001b[0;34m=\u001b[0m\u001b[0maxis\u001b[0m\u001b[0;34m,\u001b[0m \u001b[0mskipna\u001b[0m\u001b[0;34m=\u001b[0m\u001b[0mskipna\u001b[0m\u001b[0;34m,\u001b[0m \u001b[0;34m**\u001b[0m\u001b[0mkwds\u001b[0m\u001b[0;34m)\u001b[0m\u001b[0;34m\u001b[0m\u001b[0;34m\u001b[0m\u001b[0m\n\u001b[0m\u001b[1;32m    156\u001b[0m \u001b[0;34m\u001b[0m\u001b[0m\n\u001b[1;32m    157\u001b[0m             \u001b[0;32mreturn\u001b[0m \u001b[0mresult\u001b[0m\u001b[0;34m\u001b[0m\u001b[0;34m\u001b[0m\u001b[0m\n",
            "\u001b[0;32m/usr/local/lib/python3.10/dist-packages/pandas/core/nanops.py\u001b[0m in \u001b[0;36mnew_func\u001b[0;34m(values, axis, skipna, mask, **kwargs)\u001b[0m\n\u001b[1;32m    416\u001b[0m             \u001b[0mmask\u001b[0m \u001b[0;34m=\u001b[0m \u001b[0misna\u001b[0m\u001b[0;34m(\u001b[0m\u001b[0mvalues\u001b[0m\u001b[0;34m)\u001b[0m\u001b[0;34m\u001b[0m\u001b[0;34m\u001b[0m\u001b[0m\n\u001b[1;32m    417\u001b[0m \u001b[0;34m\u001b[0m\u001b[0m\n\u001b[0;32m--> 418\u001b[0;31m         \u001b[0mresult\u001b[0m \u001b[0;34m=\u001b[0m \u001b[0mfunc\u001b[0m\u001b[0;34m(\u001b[0m\u001b[0mvalues\u001b[0m\u001b[0;34m,\u001b[0m \u001b[0maxis\u001b[0m\u001b[0;34m=\u001b[0m\u001b[0maxis\u001b[0m\u001b[0;34m,\u001b[0m \u001b[0mskipna\u001b[0m\u001b[0;34m=\u001b[0m\u001b[0mskipna\u001b[0m\u001b[0;34m,\u001b[0m \u001b[0mmask\u001b[0m\u001b[0;34m=\u001b[0m\u001b[0mmask\u001b[0m\u001b[0;34m,\u001b[0m \u001b[0;34m**\u001b[0m\u001b[0mkwargs\u001b[0m\u001b[0;34m)\u001b[0m\u001b[0;34m\u001b[0m\u001b[0;34m\u001b[0m\u001b[0m\n\u001b[0m\u001b[1;32m    419\u001b[0m \u001b[0;34m\u001b[0m\u001b[0m\n\u001b[1;32m    420\u001b[0m         \u001b[0;32mif\u001b[0m \u001b[0mdatetimelike\u001b[0m\u001b[0;34m:\u001b[0m\u001b[0;34m\u001b[0m\u001b[0;34m\u001b[0m\u001b[0m\n",
            "\u001b[0;32m/usr/local/lib/python3.10/dist-packages/pandas/core/nanops.py\u001b[0m in \u001b[0;36mreduction\u001b[0;34m(values, axis, skipna, mask)\u001b[0m\n\u001b[1;32m   1049\u001b[0m                 \u001b[0mresult\u001b[0m \u001b[0;34m=\u001b[0m \u001b[0mnp\u001b[0m\u001b[0;34m.\u001b[0m\u001b[0mnan\u001b[0m\u001b[0;34m\u001b[0m\u001b[0;34m\u001b[0m\u001b[0m\n\u001b[1;32m   1050\u001b[0m         \u001b[0;32melse\u001b[0m\u001b[0;34m:\u001b[0m\u001b[0;34m\u001b[0m\u001b[0;34m\u001b[0m\u001b[0m\n\u001b[0;32m-> 1051\u001b[0;31m             \u001b[0mresult\u001b[0m \u001b[0;34m=\u001b[0m \u001b[0mgetattr\u001b[0m\u001b[0;34m(\u001b[0m\u001b[0mvalues\u001b[0m\u001b[0;34m,\u001b[0m \u001b[0mmeth\u001b[0m\u001b[0;34m)\u001b[0m\u001b[0;34m(\u001b[0m\u001b[0maxis\u001b[0m\u001b[0;34m)\u001b[0m\u001b[0;34m\u001b[0m\u001b[0;34m\u001b[0m\u001b[0m\n\u001b[0m\u001b[1;32m   1052\u001b[0m \u001b[0;34m\u001b[0m\u001b[0m\n\u001b[1;32m   1053\u001b[0m         \u001b[0mresult\u001b[0m \u001b[0;34m=\u001b[0m \u001b[0m_maybe_null_out\u001b[0m\u001b[0;34m(\u001b[0m\u001b[0mresult\u001b[0m\u001b[0;34m,\u001b[0m \u001b[0maxis\u001b[0m\u001b[0;34m,\u001b[0m \u001b[0mmask\u001b[0m\u001b[0;34m,\u001b[0m \u001b[0mvalues\u001b[0m\u001b[0;34m.\u001b[0m\u001b[0mshape\u001b[0m\u001b[0;34m)\u001b[0m\u001b[0;34m\u001b[0m\u001b[0;34m\u001b[0m\u001b[0m\n",
            "\u001b[0;32m/usr/local/lib/python3.10/dist-packages/numpy/core/_methods.py\u001b[0m in \u001b[0;36m_amax\u001b[0;34m(a, axis, out, keepdims, initial, where)\u001b[0m\n\u001b[1;32m     38\u001b[0m def _amax(a, axis=None, out=None, keepdims=False,\n\u001b[1;32m     39\u001b[0m           initial=_NoValue, where=True):\n\u001b[0;32m---> 40\u001b[0;31m     \u001b[0;32mreturn\u001b[0m \u001b[0mumr_maximum\u001b[0m\u001b[0;34m(\u001b[0m\u001b[0ma\u001b[0m\u001b[0;34m,\u001b[0m \u001b[0maxis\u001b[0m\u001b[0;34m,\u001b[0m \u001b[0;32mNone\u001b[0m\u001b[0;34m,\u001b[0m \u001b[0mout\u001b[0m\u001b[0;34m,\u001b[0m \u001b[0mkeepdims\u001b[0m\u001b[0;34m,\u001b[0m \u001b[0minitial\u001b[0m\u001b[0;34m,\u001b[0m \u001b[0mwhere\u001b[0m\u001b[0;34m)\u001b[0m\u001b[0;34m\u001b[0m\u001b[0;34m\u001b[0m\u001b[0m\n\u001b[0m\u001b[1;32m     41\u001b[0m \u001b[0;34m\u001b[0m\u001b[0m\n\u001b[1;32m     42\u001b[0m def _amin(a, axis=None, out=None, keepdims=False,\n",
            "\u001b[0;31mTypeError\u001b[0m: '>=' not supported between instances of 'datetime.date' and 'float'"
          ]
        }
      ],
      "source": [
        "# end date\n",
        "kivaloans['funded_time'].dt.date.max()"
      ]
    },
    {
      "cell_type": "code",
      "execution_count": null,
      "metadata": {
        "colab": {
          "base_uri": "https://localhost:8080/",
          "height": 351
        },
        "id": "pEc8cAaIfCgR",
        "outputId": "8bea469f-e7b5-4a3c-cc07-431764a55b37"
      },
      "outputs": [
        {
          "ename": "TypeError",
          "evalue": "ignored",
          "output_type": "error",
          "traceback": [
            "\u001b[0;31m---------------------------------------------------------------------------\u001b[0m",
            "\u001b[0;31mTypeError\u001b[0m                                 Traceback (most recent call last)",
            "\u001b[0;32m<ipython-input-64-d297fbd61eb5>\u001b[0m in \u001b[0;36m<cell line: 2>\u001b[0;34m()\u001b[0m\n\u001b[1;32m      1\u001b[0m \u001b[0;31m# start time\u001b[0m\u001b[0;34m\u001b[0m\u001b[0;34m\u001b[0m\u001b[0m\n\u001b[0;32m----> 2\u001b[0;31m \u001b[0mkivaloans\u001b[0m\u001b[0;34m[\u001b[0m\u001b[0;34m'funded_time'\u001b[0m\u001b[0;34m]\u001b[0m\u001b[0;34m.\u001b[0m\u001b[0mdt\u001b[0m\u001b[0;34m.\u001b[0m\u001b[0mtime\u001b[0m\u001b[0;34m.\u001b[0m\u001b[0mmin\u001b[0m\u001b[0;34m(\u001b[0m\u001b[0;34m)\u001b[0m\u001b[0;34m\u001b[0m\u001b[0;34m\u001b[0m\u001b[0m\n\u001b[0m",
            "\u001b[0;32m/usr/local/lib/python3.10/dist-packages/pandas/core/generic.py\u001b[0m in \u001b[0;36mmin\u001b[0;34m(self, axis, skipna, level, numeric_only, **kwargs)\u001b[0m\n\u001b[1;32m  11963\u001b[0m             \u001b[0;34m**\u001b[0m\u001b[0mkwargs\u001b[0m\u001b[0;34m,\u001b[0m\u001b[0;34m\u001b[0m\u001b[0;34m\u001b[0m\u001b[0m\n\u001b[1;32m  11964\u001b[0m         ):\n\u001b[0;32m> 11965\u001b[0;31m             \u001b[0;32mreturn\u001b[0m \u001b[0mNDFrame\u001b[0m\u001b[0;34m.\u001b[0m\u001b[0mmin\u001b[0m\u001b[0;34m(\u001b[0m\u001b[0mself\u001b[0m\u001b[0;34m,\u001b[0m \u001b[0maxis\u001b[0m\u001b[0;34m,\u001b[0m \u001b[0mskipna\u001b[0m\u001b[0;34m,\u001b[0m \u001b[0mlevel\u001b[0m\u001b[0;34m,\u001b[0m \u001b[0mnumeric_only\u001b[0m\u001b[0;34m,\u001b[0m \u001b[0;34m**\u001b[0m\u001b[0mkwargs\u001b[0m\u001b[0;34m)\u001b[0m\u001b[0;34m\u001b[0m\u001b[0;34m\u001b[0m\u001b[0m\n\u001b[0m\u001b[1;32m  11966\u001b[0m \u001b[0;34m\u001b[0m\u001b[0m\n\u001b[1;32m  11967\u001b[0m         \u001b[0msetattr\u001b[0m\u001b[0;34m(\u001b[0m\u001b[0mcls\u001b[0m\u001b[0;34m,\u001b[0m \u001b[0;34m\"min\"\u001b[0m\u001b[0;34m,\u001b[0m \u001b[0mmin\u001b[0m\u001b[0;34m)\u001b[0m\u001b[0;34m\u001b[0m\u001b[0;34m\u001b[0m\u001b[0m\n",
            "\u001b[0;32m/usr/local/lib/python3.10/dist-packages/pandas/core/generic.py\u001b[0m in \u001b[0;36mmin\u001b[0;34m(self, axis, skipna, level, numeric_only, **kwargs)\u001b[0m\n\u001b[1;32m  11363\u001b[0m         \u001b[0;34m**\u001b[0m\u001b[0mkwargs\u001b[0m\u001b[0;34m,\u001b[0m\u001b[0;34m\u001b[0m\u001b[0;34m\u001b[0m\u001b[0m\n\u001b[1;32m  11364\u001b[0m     ):\n\u001b[0;32m> 11365\u001b[0;31m         return self._stat_function(\n\u001b[0m\u001b[1;32m  11366\u001b[0m             \u001b[0;34m\"min\"\u001b[0m\u001b[0;34m,\u001b[0m\u001b[0;34m\u001b[0m\u001b[0;34m\u001b[0m\u001b[0m\n\u001b[1;32m  11367\u001b[0m             \u001b[0mnanops\u001b[0m\u001b[0;34m.\u001b[0m\u001b[0mnanmin\u001b[0m\u001b[0;34m,\u001b[0m\u001b[0;34m\u001b[0m\u001b[0;34m\u001b[0m\u001b[0m\n",
            "\u001b[0;32m/usr/local/lib/python3.10/dist-packages/pandas/core/generic.py\u001b[0m in \u001b[0;36m_stat_function\u001b[0;34m(self, name, func, axis, skipna, level, numeric_only, **kwargs)\u001b[0m\n\u001b[1;32m  11351\u001b[0m                 \u001b[0mname\u001b[0m\u001b[0;34m,\u001b[0m \u001b[0maxis\u001b[0m\u001b[0;34m=\u001b[0m\u001b[0maxis\u001b[0m\u001b[0;34m,\u001b[0m \u001b[0mlevel\u001b[0m\u001b[0;34m=\u001b[0m\u001b[0mlevel\u001b[0m\u001b[0;34m,\u001b[0m \u001b[0mskipna\u001b[0m\u001b[0;34m=\u001b[0m\u001b[0mskipna\u001b[0m\u001b[0;34m,\u001b[0m \u001b[0mnumeric_only\u001b[0m\u001b[0;34m=\u001b[0m\u001b[0mnumeric_only\u001b[0m\u001b[0;34m\u001b[0m\u001b[0;34m\u001b[0m\u001b[0m\n\u001b[1;32m  11352\u001b[0m             )\n\u001b[0;32m> 11353\u001b[0;31m         return self._reduce(\n\u001b[0m\u001b[1;32m  11354\u001b[0m             \u001b[0mfunc\u001b[0m\u001b[0;34m,\u001b[0m \u001b[0mname\u001b[0m\u001b[0;34m=\u001b[0m\u001b[0mname\u001b[0m\u001b[0;34m,\u001b[0m \u001b[0maxis\u001b[0m\u001b[0;34m=\u001b[0m\u001b[0maxis\u001b[0m\u001b[0;34m,\u001b[0m \u001b[0mskipna\u001b[0m\u001b[0;34m=\u001b[0m\u001b[0mskipna\u001b[0m\u001b[0;34m,\u001b[0m \u001b[0mnumeric_only\u001b[0m\u001b[0;34m=\u001b[0m\u001b[0mnumeric_only\u001b[0m\u001b[0;34m\u001b[0m\u001b[0;34m\u001b[0m\u001b[0m\n\u001b[1;32m  11355\u001b[0m         )\n",
            "\u001b[0;32m/usr/local/lib/python3.10/dist-packages/pandas/core/series.py\u001b[0m in \u001b[0;36m_reduce\u001b[0;34m(self, op, name, axis, skipna, numeric_only, filter_type, **kwds)\u001b[0m\n\u001b[1;32m   4814\u001b[0m                 )\n\u001b[1;32m   4815\u001b[0m             \u001b[0;32mwith\u001b[0m \u001b[0mnp\u001b[0m\u001b[0;34m.\u001b[0m\u001b[0merrstate\u001b[0m\u001b[0;34m(\u001b[0m\u001b[0mall\u001b[0m\u001b[0;34m=\u001b[0m\u001b[0;34m\"ignore\"\u001b[0m\u001b[0;34m)\u001b[0m\u001b[0;34m:\u001b[0m\u001b[0;34m\u001b[0m\u001b[0;34m\u001b[0m\u001b[0m\n\u001b[0;32m-> 4816\u001b[0;31m                 \u001b[0;32mreturn\u001b[0m \u001b[0mop\u001b[0m\u001b[0;34m(\u001b[0m\u001b[0mdelegate\u001b[0m\u001b[0;34m,\u001b[0m \u001b[0mskipna\u001b[0m\u001b[0;34m=\u001b[0m\u001b[0mskipna\u001b[0m\u001b[0;34m,\u001b[0m \u001b[0;34m**\u001b[0m\u001b[0mkwds\u001b[0m\u001b[0;34m)\u001b[0m\u001b[0;34m\u001b[0m\u001b[0;34m\u001b[0m\u001b[0m\n\u001b[0m\u001b[1;32m   4817\u001b[0m \u001b[0;34m\u001b[0m\u001b[0m\n\u001b[1;32m   4818\u001b[0m     def _reindex_indexer(\n",
            "\u001b[0;32m/usr/local/lib/python3.10/dist-packages/pandas/core/nanops.py\u001b[0m in \u001b[0;36mf\u001b[0;34m(values, axis, skipna, **kwds)\u001b[0m\n\u001b[1;32m    153\u001b[0m                     \u001b[0mresult\u001b[0m \u001b[0;34m=\u001b[0m \u001b[0malt\u001b[0m\u001b[0;34m(\u001b[0m\u001b[0mvalues\u001b[0m\u001b[0;34m,\u001b[0m \u001b[0maxis\u001b[0m\u001b[0;34m=\u001b[0m\u001b[0maxis\u001b[0m\u001b[0;34m,\u001b[0m \u001b[0mskipna\u001b[0m\u001b[0;34m=\u001b[0m\u001b[0mskipna\u001b[0m\u001b[0;34m,\u001b[0m \u001b[0;34m**\u001b[0m\u001b[0mkwds\u001b[0m\u001b[0;34m)\u001b[0m\u001b[0;34m\u001b[0m\u001b[0;34m\u001b[0m\u001b[0m\n\u001b[1;32m    154\u001b[0m             \u001b[0;32melse\u001b[0m\u001b[0;34m:\u001b[0m\u001b[0;34m\u001b[0m\u001b[0;34m\u001b[0m\u001b[0m\n\u001b[0;32m--> 155\u001b[0;31m                 \u001b[0mresult\u001b[0m \u001b[0;34m=\u001b[0m \u001b[0malt\u001b[0m\u001b[0;34m(\u001b[0m\u001b[0mvalues\u001b[0m\u001b[0;34m,\u001b[0m \u001b[0maxis\u001b[0m\u001b[0;34m=\u001b[0m\u001b[0maxis\u001b[0m\u001b[0;34m,\u001b[0m \u001b[0mskipna\u001b[0m\u001b[0;34m=\u001b[0m\u001b[0mskipna\u001b[0m\u001b[0;34m,\u001b[0m \u001b[0;34m**\u001b[0m\u001b[0mkwds\u001b[0m\u001b[0;34m)\u001b[0m\u001b[0;34m\u001b[0m\u001b[0;34m\u001b[0m\u001b[0m\n\u001b[0m\u001b[1;32m    156\u001b[0m \u001b[0;34m\u001b[0m\u001b[0m\n\u001b[1;32m    157\u001b[0m             \u001b[0;32mreturn\u001b[0m \u001b[0mresult\u001b[0m\u001b[0;34m\u001b[0m\u001b[0;34m\u001b[0m\u001b[0m\n",
            "\u001b[0;32m/usr/local/lib/python3.10/dist-packages/pandas/core/nanops.py\u001b[0m in \u001b[0;36mnew_func\u001b[0;34m(values, axis, skipna, mask, **kwargs)\u001b[0m\n\u001b[1;32m    416\u001b[0m             \u001b[0mmask\u001b[0m \u001b[0;34m=\u001b[0m \u001b[0misna\u001b[0m\u001b[0;34m(\u001b[0m\u001b[0mvalues\u001b[0m\u001b[0;34m)\u001b[0m\u001b[0;34m\u001b[0m\u001b[0;34m\u001b[0m\u001b[0m\n\u001b[1;32m    417\u001b[0m \u001b[0;34m\u001b[0m\u001b[0m\n\u001b[0;32m--> 418\u001b[0;31m         \u001b[0mresult\u001b[0m \u001b[0;34m=\u001b[0m \u001b[0mfunc\u001b[0m\u001b[0;34m(\u001b[0m\u001b[0mvalues\u001b[0m\u001b[0;34m,\u001b[0m \u001b[0maxis\u001b[0m\u001b[0;34m=\u001b[0m\u001b[0maxis\u001b[0m\u001b[0;34m,\u001b[0m \u001b[0mskipna\u001b[0m\u001b[0;34m=\u001b[0m\u001b[0mskipna\u001b[0m\u001b[0;34m,\u001b[0m \u001b[0mmask\u001b[0m\u001b[0;34m=\u001b[0m\u001b[0mmask\u001b[0m\u001b[0;34m,\u001b[0m \u001b[0;34m**\u001b[0m\u001b[0mkwargs\u001b[0m\u001b[0;34m)\u001b[0m\u001b[0;34m\u001b[0m\u001b[0;34m\u001b[0m\u001b[0m\n\u001b[0m\u001b[1;32m    419\u001b[0m \u001b[0;34m\u001b[0m\u001b[0m\n\u001b[1;32m    420\u001b[0m         \u001b[0;32mif\u001b[0m \u001b[0mdatetimelike\u001b[0m\u001b[0;34m:\u001b[0m\u001b[0;34m\u001b[0m\u001b[0;34m\u001b[0m\u001b[0m\n",
            "\u001b[0;32m/usr/local/lib/python3.10/dist-packages/pandas/core/nanops.py\u001b[0m in \u001b[0;36mreduction\u001b[0;34m(values, axis, skipna, mask)\u001b[0m\n\u001b[1;32m   1049\u001b[0m                 \u001b[0mresult\u001b[0m \u001b[0;34m=\u001b[0m \u001b[0mnp\u001b[0m\u001b[0;34m.\u001b[0m\u001b[0mnan\u001b[0m\u001b[0;34m\u001b[0m\u001b[0;34m\u001b[0m\u001b[0m\n\u001b[1;32m   1050\u001b[0m         \u001b[0;32melse\u001b[0m\u001b[0;34m:\u001b[0m\u001b[0;34m\u001b[0m\u001b[0;34m\u001b[0m\u001b[0m\n\u001b[0;32m-> 1051\u001b[0;31m             \u001b[0mresult\u001b[0m \u001b[0;34m=\u001b[0m \u001b[0mgetattr\u001b[0m\u001b[0;34m(\u001b[0m\u001b[0mvalues\u001b[0m\u001b[0;34m,\u001b[0m \u001b[0mmeth\u001b[0m\u001b[0;34m)\u001b[0m\u001b[0;34m(\u001b[0m\u001b[0maxis\u001b[0m\u001b[0;34m)\u001b[0m\u001b[0;34m\u001b[0m\u001b[0;34m\u001b[0m\u001b[0m\n\u001b[0m\u001b[1;32m   1052\u001b[0m \u001b[0;34m\u001b[0m\u001b[0m\n\u001b[1;32m   1053\u001b[0m         \u001b[0mresult\u001b[0m \u001b[0;34m=\u001b[0m \u001b[0m_maybe_null_out\u001b[0m\u001b[0;34m(\u001b[0m\u001b[0mresult\u001b[0m\u001b[0;34m,\u001b[0m \u001b[0maxis\u001b[0m\u001b[0;34m,\u001b[0m \u001b[0mmask\u001b[0m\u001b[0;34m,\u001b[0m \u001b[0mvalues\u001b[0m\u001b[0;34m.\u001b[0m\u001b[0mshape\u001b[0m\u001b[0;34m)\u001b[0m\u001b[0;34m\u001b[0m\u001b[0;34m\u001b[0m\u001b[0m\n",
            "\u001b[0;32m/usr/local/lib/python3.10/dist-packages/numpy/core/_methods.py\u001b[0m in \u001b[0;36m_amin\u001b[0;34m(a, axis, out, keepdims, initial, where)\u001b[0m\n\u001b[1;32m     42\u001b[0m def _amin(a, axis=None, out=None, keepdims=False,\n\u001b[1;32m     43\u001b[0m           initial=_NoValue, where=True):\n\u001b[0;32m---> 44\u001b[0;31m     \u001b[0;32mreturn\u001b[0m \u001b[0mumr_minimum\u001b[0m\u001b[0;34m(\u001b[0m\u001b[0ma\u001b[0m\u001b[0;34m,\u001b[0m \u001b[0maxis\u001b[0m\u001b[0;34m,\u001b[0m \u001b[0;32mNone\u001b[0m\u001b[0;34m,\u001b[0m \u001b[0mout\u001b[0m\u001b[0;34m,\u001b[0m \u001b[0mkeepdims\u001b[0m\u001b[0;34m,\u001b[0m \u001b[0minitial\u001b[0m\u001b[0;34m,\u001b[0m \u001b[0mwhere\u001b[0m\u001b[0;34m)\u001b[0m\u001b[0;34m\u001b[0m\u001b[0;34m\u001b[0m\u001b[0m\n\u001b[0m\u001b[1;32m     45\u001b[0m \u001b[0;34m\u001b[0m\u001b[0m\n\u001b[1;32m     46\u001b[0m def _sum(a, axis=None, dtype=None, out=None, keepdims=False,\n",
            "\u001b[0;31mTypeError\u001b[0m: '<=' not supported between instances of 'datetime.time' and 'float'"
          ]
        }
      ],
      "source": [
        "# start time\n",
        "kivaloans['funded_time'].dt.time.min()"
      ]
    },
    {
      "cell_type": "code",
      "execution_count": null,
      "metadata": {
        "colab": {
          "base_uri": "https://localhost:8080/",
          "height": 351
        },
        "id": "ve-YmdKxfCgR",
        "outputId": "7e0eee24-979e-4b47-9498-03021ecc42e2"
      },
      "outputs": [
        {
          "ename": "TypeError",
          "evalue": "ignored",
          "output_type": "error",
          "traceback": [
            "\u001b[0;31m---------------------------------------------------------------------------\u001b[0m",
            "\u001b[0;31mTypeError\u001b[0m                                 Traceback (most recent call last)",
            "\u001b[0;32m<ipython-input-65-e53a8adf0767>\u001b[0m in \u001b[0;36m<cell line: 2>\u001b[0;34m()\u001b[0m\n\u001b[1;32m      1\u001b[0m \u001b[0;31m# end time\u001b[0m\u001b[0;34m\u001b[0m\u001b[0;34m\u001b[0m\u001b[0m\n\u001b[0;32m----> 2\u001b[0;31m \u001b[0mkivaloans\u001b[0m\u001b[0;34m[\u001b[0m\u001b[0;34m'funded_time'\u001b[0m\u001b[0;34m]\u001b[0m\u001b[0;34m.\u001b[0m\u001b[0mdt\u001b[0m\u001b[0;34m.\u001b[0m\u001b[0mtime\u001b[0m\u001b[0;34m.\u001b[0m\u001b[0mmax\u001b[0m\u001b[0;34m(\u001b[0m\u001b[0;34m)\u001b[0m\u001b[0;34m\u001b[0m\u001b[0;34m\u001b[0m\u001b[0m\n\u001b[0m",
            "\u001b[0;32m/usr/local/lib/python3.10/dist-packages/pandas/core/generic.py\u001b[0m in \u001b[0;36mmax\u001b[0;34m(self, axis, skipna, level, numeric_only, **kwargs)\u001b[0m\n\u001b[1;32m  11939\u001b[0m             \u001b[0;34m**\u001b[0m\u001b[0mkwargs\u001b[0m\u001b[0;34m,\u001b[0m\u001b[0;34m\u001b[0m\u001b[0;34m\u001b[0m\u001b[0m\n\u001b[1;32m  11940\u001b[0m         ):\n\u001b[0;32m> 11941\u001b[0;31m             \u001b[0;32mreturn\u001b[0m \u001b[0mNDFrame\u001b[0m\u001b[0;34m.\u001b[0m\u001b[0mmax\u001b[0m\u001b[0;34m(\u001b[0m\u001b[0mself\u001b[0m\u001b[0;34m,\u001b[0m \u001b[0maxis\u001b[0m\u001b[0;34m,\u001b[0m \u001b[0mskipna\u001b[0m\u001b[0;34m,\u001b[0m \u001b[0mlevel\u001b[0m\u001b[0;34m,\u001b[0m \u001b[0mnumeric_only\u001b[0m\u001b[0;34m,\u001b[0m \u001b[0;34m**\u001b[0m\u001b[0mkwargs\u001b[0m\u001b[0;34m)\u001b[0m\u001b[0;34m\u001b[0m\u001b[0;34m\u001b[0m\u001b[0m\n\u001b[0m\u001b[1;32m  11942\u001b[0m \u001b[0;34m\u001b[0m\u001b[0m\n\u001b[1;32m  11943\u001b[0m         \u001b[0msetattr\u001b[0m\u001b[0;34m(\u001b[0m\u001b[0mcls\u001b[0m\u001b[0;34m,\u001b[0m \u001b[0;34m\"max\"\u001b[0m\u001b[0;34m,\u001b[0m \u001b[0mmax\u001b[0m\u001b[0;34m)\u001b[0m\u001b[0;34m\u001b[0m\u001b[0;34m\u001b[0m\u001b[0m\n",
            "\u001b[0;32m/usr/local/lib/python3.10/dist-packages/pandas/core/generic.py\u001b[0m in \u001b[0;36mmax\u001b[0;34m(self, axis, skipna, level, numeric_only, **kwargs)\u001b[0m\n\u001b[1;32m  11381\u001b[0m         \u001b[0;34m**\u001b[0m\u001b[0mkwargs\u001b[0m\u001b[0;34m,\u001b[0m\u001b[0;34m\u001b[0m\u001b[0;34m\u001b[0m\u001b[0m\n\u001b[1;32m  11382\u001b[0m     ):\n\u001b[0;32m> 11383\u001b[0;31m         return self._stat_function(\n\u001b[0m\u001b[1;32m  11384\u001b[0m             \u001b[0;34m\"max\"\u001b[0m\u001b[0;34m,\u001b[0m\u001b[0;34m\u001b[0m\u001b[0;34m\u001b[0m\u001b[0m\n\u001b[1;32m  11385\u001b[0m             \u001b[0mnanops\u001b[0m\u001b[0;34m.\u001b[0m\u001b[0mnanmax\u001b[0m\u001b[0;34m,\u001b[0m\u001b[0;34m\u001b[0m\u001b[0;34m\u001b[0m\u001b[0m\n",
            "\u001b[0;32m/usr/local/lib/python3.10/dist-packages/pandas/core/generic.py\u001b[0m in \u001b[0;36m_stat_function\u001b[0;34m(self, name, func, axis, skipna, level, numeric_only, **kwargs)\u001b[0m\n\u001b[1;32m  11351\u001b[0m                 \u001b[0mname\u001b[0m\u001b[0;34m,\u001b[0m \u001b[0maxis\u001b[0m\u001b[0;34m=\u001b[0m\u001b[0maxis\u001b[0m\u001b[0;34m,\u001b[0m \u001b[0mlevel\u001b[0m\u001b[0;34m=\u001b[0m\u001b[0mlevel\u001b[0m\u001b[0;34m,\u001b[0m \u001b[0mskipna\u001b[0m\u001b[0;34m=\u001b[0m\u001b[0mskipna\u001b[0m\u001b[0;34m,\u001b[0m \u001b[0mnumeric_only\u001b[0m\u001b[0;34m=\u001b[0m\u001b[0mnumeric_only\u001b[0m\u001b[0;34m\u001b[0m\u001b[0;34m\u001b[0m\u001b[0m\n\u001b[1;32m  11352\u001b[0m             )\n\u001b[0;32m> 11353\u001b[0;31m         return self._reduce(\n\u001b[0m\u001b[1;32m  11354\u001b[0m             \u001b[0mfunc\u001b[0m\u001b[0;34m,\u001b[0m \u001b[0mname\u001b[0m\u001b[0;34m=\u001b[0m\u001b[0mname\u001b[0m\u001b[0;34m,\u001b[0m \u001b[0maxis\u001b[0m\u001b[0;34m=\u001b[0m\u001b[0maxis\u001b[0m\u001b[0;34m,\u001b[0m \u001b[0mskipna\u001b[0m\u001b[0;34m=\u001b[0m\u001b[0mskipna\u001b[0m\u001b[0;34m,\u001b[0m \u001b[0mnumeric_only\u001b[0m\u001b[0;34m=\u001b[0m\u001b[0mnumeric_only\u001b[0m\u001b[0;34m\u001b[0m\u001b[0;34m\u001b[0m\u001b[0m\n\u001b[1;32m  11355\u001b[0m         )\n",
            "\u001b[0;32m/usr/local/lib/python3.10/dist-packages/pandas/core/series.py\u001b[0m in \u001b[0;36m_reduce\u001b[0;34m(self, op, name, axis, skipna, numeric_only, filter_type, **kwds)\u001b[0m\n\u001b[1;32m   4814\u001b[0m                 )\n\u001b[1;32m   4815\u001b[0m             \u001b[0;32mwith\u001b[0m \u001b[0mnp\u001b[0m\u001b[0;34m.\u001b[0m\u001b[0merrstate\u001b[0m\u001b[0;34m(\u001b[0m\u001b[0mall\u001b[0m\u001b[0;34m=\u001b[0m\u001b[0;34m\"ignore\"\u001b[0m\u001b[0;34m)\u001b[0m\u001b[0;34m:\u001b[0m\u001b[0;34m\u001b[0m\u001b[0;34m\u001b[0m\u001b[0m\n\u001b[0;32m-> 4816\u001b[0;31m                 \u001b[0;32mreturn\u001b[0m \u001b[0mop\u001b[0m\u001b[0;34m(\u001b[0m\u001b[0mdelegate\u001b[0m\u001b[0;34m,\u001b[0m \u001b[0mskipna\u001b[0m\u001b[0;34m=\u001b[0m\u001b[0mskipna\u001b[0m\u001b[0;34m,\u001b[0m \u001b[0;34m**\u001b[0m\u001b[0mkwds\u001b[0m\u001b[0;34m)\u001b[0m\u001b[0;34m\u001b[0m\u001b[0;34m\u001b[0m\u001b[0m\n\u001b[0m\u001b[1;32m   4817\u001b[0m \u001b[0;34m\u001b[0m\u001b[0m\n\u001b[1;32m   4818\u001b[0m     def _reindex_indexer(\n",
            "\u001b[0;32m/usr/local/lib/python3.10/dist-packages/pandas/core/nanops.py\u001b[0m in \u001b[0;36mf\u001b[0;34m(values, axis, skipna, **kwds)\u001b[0m\n\u001b[1;32m    153\u001b[0m                     \u001b[0mresult\u001b[0m \u001b[0;34m=\u001b[0m \u001b[0malt\u001b[0m\u001b[0;34m(\u001b[0m\u001b[0mvalues\u001b[0m\u001b[0;34m,\u001b[0m \u001b[0maxis\u001b[0m\u001b[0;34m=\u001b[0m\u001b[0maxis\u001b[0m\u001b[0;34m,\u001b[0m \u001b[0mskipna\u001b[0m\u001b[0;34m=\u001b[0m\u001b[0mskipna\u001b[0m\u001b[0;34m,\u001b[0m \u001b[0;34m**\u001b[0m\u001b[0mkwds\u001b[0m\u001b[0;34m)\u001b[0m\u001b[0;34m\u001b[0m\u001b[0;34m\u001b[0m\u001b[0m\n\u001b[1;32m    154\u001b[0m             \u001b[0;32melse\u001b[0m\u001b[0;34m:\u001b[0m\u001b[0;34m\u001b[0m\u001b[0;34m\u001b[0m\u001b[0m\n\u001b[0;32m--> 155\u001b[0;31m                 \u001b[0mresult\u001b[0m \u001b[0;34m=\u001b[0m \u001b[0malt\u001b[0m\u001b[0;34m(\u001b[0m\u001b[0mvalues\u001b[0m\u001b[0;34m,\u001b[0m \u001b[0maxis\u001b[0m\u001b[0;34m=\u001b[0m\u001b[0maxis\u001b[0m\u001b[0;34m,\u001b[0m \u001b[0mskipna\u001b[0m\u001b[0;34m=\u001b[0m\u001b[0mskipna\u001b[0m\u001b[0;34m,\u001b[0m \u001b[0;34m**\u001b[0m\u001b[0mkwds\u001b[0m\u001b[0;34m)\u001b[0m\u001b[0;34m\u001b[0m\u001b[0;34m\u001b[0m\u001b[0m\n\u001b[0m\u001b[1;32m    156\u001b[0m \u001b[0;34m\u001b[0m\u001b[0m\n\u001b[1;32m    157\u001b[0m             \u001b[0;32mreturn\u001b[0m \u001b[0mresult\u001b[0m\u001b[0;34m\u001b[0m\u001b[0;34m\u001b[0m\u001b[0m\n",
            "\u001b[0;32m/usr/local/lib/python3.10/dist-packages/pandas/core/nanops.py\u001b[0m in \u001b[0;36mnew_func\u001b[0;34m(values, axis, skipna, mask, **kwargs)\u001b[0m\n\u001b[1;32m    416\u001b[0m             \u001b[0mmask\u001b[0m \u001b[0;34m=\u001b[0m \u001b[0misna\u001b[0m\u001b[0;34m(\u001b[0m\u001b[0mvalues\u001b[0m\u001b[0;34m)\u001b[0m\u001b[0;34m\u001b[0m\u001b[0;34m\u001b[0m\u001b[0m\n\u001b[1;32m    417\u001b[0m \u001b[0;34m\u001b[0m\u001b[0m\n\u001b[0;32m--> 418\u001b[0;31m         \u001b[0mresult\u001b[0m \u001b[0;34m=\u001b[0m \u001b[0mfunc\u001b[0m\u001b[0;34m(\u001b[0m\u001b[0mvalues\u001b[0m\u001b[0;34m,\u001b[0m \u001b[0maxis\u001b[0m\u001b[0;34m=\u001b[0m\u001b[0maxis\u001b[0m\u001b[0;34m,\u001b[0m \u001b[0mskipna\u001b[0m\u001b[0;34m=\u001b[0m\u001b[0mskipna\u001b[0m\u001b[0;34m,\u001b[0m \u001b[0mmask\u001b[0m\u001b[0;34m=\u001b[0m\u001b[0mmask\u001b[0m\u001b[0;34m,\u001b[0m \u001b[0;34m**\u001b[0m\u001b[0mkwargs\u001b[0m\u001b[0;34m)\u001b[0m\u001b[0;34m\u001b[0m\u001b[0;34m\u001b[0m\u001b[0m\n\u001b[0m\u001b[1;32m    419\u001b[0m \u001b[0;34m\u001b[0m\u001b[0m\n\u001b[1;32m    420\u001b[0m         \u001b[0;32mif\u001b[0m \u001b[0mdatetimelike\u001b[0m\u001b[0;34m:\u001b[0m\u001b[0;34m\u001b[0m\u001b[0;34m\u001b[0m\u001b[0m\n",
            "\u001b[0;32m/usr/local/lib/python3.10/dist-packages/pandas/core/nanops.py\u001b[0m in \u001b[0;36mreduction\u001b[0;34m(values, axis, skipna, mask)\u001b[0m\n\u001b[1;32m   1049\u001b[0m                 \u001b[0mresult\u001b[0m \u001b[0;34m=\u001b[0m \u001b[0mnp\u001b[0m\u001b[0;34m.\u001b[0m\u001b[0mnan\u001b[0m\u001b[0;34m\u001b[0m\u001b[0;34m\u001b[0m\u001b[0m\n\u001b[1;32m   1050\u001b[0m         \u001b[0;32melse\u001b[0m\u001b[0;34m:\u001b[0m\u001b[0;34m\u001b[0m\u001b[0;34m\u001b[0m\u001b[0m\n\u001b[0;32m-> 1051\u001b[0;31m             \u001b[0mresult\u001b[0m \u001b[0;34m=\u001b[0m \u001b[0mgetattr\u001b[0m\u001b[0;34m(\u001b[0m\u001b[0mvalues\u001b[0m\u001b[0;34m,\u001b[0m \u001b[0mmeth\u001b[0m\u001b[0;34m)\u001b[0m\u001b[0;34m(\u001b[0m\u001b[0maxis\u001b[0m\u001b[0;34m)\u001b[0m\u001b[0;34m\u001b[0m\u001b[0;34m\u001b[0m\u001b[0m\n\u001b[0m\u001b[1;32m   1052\u001b[0m \u001b[0;34m\u001b[0m\u001b[0m\n\u001b[1;32m   1053\u001b[0m         \u001b[0mresult\u001b[0m \u001b[0;34m=\u001b[0m \u001b[0m_maybe_null_out\u001b[0m\u001b[0;34m(\u001b[0m\u001b[0mresult\u001b[0m\u001b[0;34m,\u001b[0m \u001b[0maxis\u001b[0m\u001b[0;34m,\u001b[0m \u001b[0mmask\u001b[0m\u001b[0;34m,\u001b[0m \u001b[0mvalues\u001b[0m\u001b[0;34m.\u001b[0m\u001b[0mshape\u001b[0m\u001b[0;34m)\u001b[0m\u001b[0;34m\u001b[0m\u001b[0;34m\u001b[0m\u001b[0m\n",
            "\u001b[0;32m/usr/local/lib/python3.10/dist-packages/numpy/core/_methods.py\u001b[0m in \u001b[0;36m_amax\u001b[0;34m(a, axis, out, keepdims, initial, where)\u001b[0m\n\u001b[1;32m     38\u001b[0m def _amax(a, axis=None, out=None, keepdims=False,\n\u001b[1;32m     39\u001b[0m           initial=_NoValue, where=True):\n\u001b[0;32m---> 40\u001b[0;31m     \u001b[0;32mreturn\u001b[0m \u001b[0mumr_maximum\u001b[0m\u001b[0;34m(\u001b[0m\u001b[0ma\u001b[0m\u001b[0;34m,\u001b[0m \u001b[0maxis\u001b[0m\u001b[0;34m,\u001b[0m \u001b[0;32mNone\u001b[0m\u001b[0;34m,\u001b[0m \u001b[0mout\u001b[0m\u001b[0;34m,\u001b[0m \u001b[0mkeepdims\u001b[0m\u001b[0;34m,\u001b[0m \u001b[0minitial\u001b[0m\u001b[0;34m,\u001b[0m \u001b[0mwhere\u001b[0m\u001b[0;34m)\u001b[0m\u001b[0;34m\u001b[0m\u001b[0;34m\u001b[0m\u001b[0m\n\u001b[0m\u001b[1;32m     41\u001b[0m \u001b[0;34m\u001b[0m\u001b[0m\n\u001b[1;32m     42\u001b[0m def _amin(a, axis=None, out=None, keepdims=False,\n",
            "\u001b[0;31mTypeError\u001b[0m: '>=' not supported between instances of 'datetime.time' and 'float'"
          ]
        }
      ],
      "source": [
        "# end time\n",
        "kivaloans['funded_time'].dt.time.max()"
      ]
    },
    {
      "cell_type": "code",
      "execution_count": null,
      "metadata": {
        "id": "ZZtBFmvZfCgS"
      },
      "outputs": [],
      "source": [
        "# rename term_in_mouths column\n",
        "kivaloans.rename(columns={'term_in_months': 'loan_months'}, inplace=True)"
      ]
    },
    {
      "cell_type": "code",
      "execution_count": null,
      "metadata": {
        "id": "v3zayPCcfCgS"
      },
      "outputs": [],
      "source": [
        "# convert datatype to 'int'\n",
        "kivaloans['loan_months']= kivaloans['loan_months'].astype(int)"
      ]
    },
    {
      "cell_type": "code",
      "execution_count": null,
      "metadata": {
        "colab": {
          "base_uri": "https://localhost:8080/"
        },
        "id": "E9PY_cMnfCgT",
        "outputId": "996ddead-9cde-455f-c678-d2627919e70b"
      },
      "outputs": [
        {
          "data": {
            "text/plain": [
              "array([ 12,  11,  43,  14,  13,  10,   8,   5,  20,   7,  17,  15,   9,\n",
              "        39,  23,  26,   6,  22,  25,  27,  16,  52,  18,  19,  28,  62,\n",
              "        32,  21,  50,  35,  38,  72, 137,  49,  33,  42,  29,  37,  36,\n",
              "        51,  24, 113,  30,   4,  79,  31,  44,  74,  34,  48, 114,  40,\n",
              "       124, 104,  63,  85,  78,  70,  86,  61,  60,  67,  55,  53,   3,\n",
              "        41,  68,   2, 143,  77, 130,  45, 134, 107, 142, 148, 111,  56,\n",
              "       122, 141, 110,  81, 106,  54, 147, 112,  59, 145, 121, 109,  80,\n",
              "        47,  97,  75, 101, 128,  98,  87,  66,  46, 125,  76,  73, 120,\n",
              "       144, 118, 131,  65, 108,  58, 123,  84,  99,  82,  92,  69,  91,\n",
              "        57,  90,  93, 129,  89,  88,  64, 126, 138, 158,  83, 100, 105,\n",
              "       132,  96,  71, 127, 135, 133,  95, 154, 156,  94, 115, 102, 116,\n",
              "       136, 103, 139, 146])"
            ]
          },
          "execution_count": 68,
          "metadata": {},
          "output_type": "execute_result"
        }
      ],
      "source": [
        "kivaloans['loan_months'].unique()"
      ]
    },
    {
      "cell_type": "code",
      "execution_count": null,
      "metadata": {
        "colab": {
          "base_uri": "https://localhost:8080/"
        },
        "id": "y6aPaN-0fCgT",
        "outputId": "d71f51b7-8970-47f7-d4a2-02d223a5b175"
      },
      "outputs": [
        {
          "data": {
            "text/plain": [
              "14     165844\n",
              "8      142519\n",
              "11      40609\n",
              "7       32418\n",
              "13      30318\n",
              "        ...  \n",
              "158         1\n",
              "111         1\n",
              "147         1\n",
              "128         1\n",
              "146         1\n",
              "Name: loan_months, Length: 147, dtype: int64"
            ]
          },
          "execution_count": 69,
          "metadata": {},
          "output_type": "execute_result"
        }
      ],
      "source": [
        "kivaloans['loan_months'].value_counts()"
      ]
    },
    {
      "cell_type": "code",
      "execution_count": null,
      "metadata": {
        "colab": {
          "base_uri": "https://localhost:8080/"
        },
        "id": "25CuyfB6fCgU",
        "outputId": "41d671d0-30ac-4ffe-e3aa-7501c83d7948"
      },
      "outputs": [
        {
          "data": {
            "text/plain": [
              "8       33616\n",
              "7       31921\n",
              "9       31863\n",
              "1       31422\n",
              "5       29727\n",
              "        ...  \n",
              "1167        1\n",
              "1302        1\n",
              "397         1\n",
              "919         1\n",
              "969         1\n",
              "Name: lender_count, Length: 483, dtype: int64"
            ]
          },
          "execution_count": 70,
          "metadata": {},
          "output_type": "execute_result"
        }
      ],
      "source": [
        "# number of lender distribution\n",
        "kivaloans['lender_count'].value_counts()"
      ]
    },
    {
      "cell_type": "code",
      "execution_count": null,
      "metadata": {
        "colab": {
          "base_uri": "https://localhost:8080/"
        },
        "id": "LwRu1qOKfCgU",
        "outputId": "a6271612-38b0-4c27-9614-a21e6741a7f1"
      },
      "outputs": [
        {
          "data": {
            "text/plain": [
              "13268532"
            ]
          },
          "execution_count": 71,
          "metadata": {},
          "output_type": "execute_result"
        }
      ],
      "source": [
        "# total number of lenders\n",
        "kivaloans['lender_count'].sum()"
      ]
    },
    {
      "cell_type": "code",
      "execution_count": null,
      "metadata": {
        "colab": {
          "base_uri": "https://localhost:8080/"
        },
        "id": "JXK5AOLhfCgU",
        "outputId": "a02eb756-74b8-41a5-8ebd-72c1c9118205"
      },
      "outputs": [
        {
          "data": {
            "text/plain": [
              "2986"
            ]
          },
          "execution_count": 72,
          "metadata": {},
          "output_type": "execute_result"
        }
      ],
      "source": [
        "# maximum number of lenders per loan\n",
        "kivaloans['lender_count'].max()"
      ]
    },
    {
      "cell_type": "code",
      "execution_count": null,
      "metadata": {
        "colab": {
          "base_uri": "https://localhost:8080/"
        },
        "id": "prQxbJR-fCgU",
        "outputId": "56af5a5c-9541-459d-b6d0-2749b1d6b1f4"
      },
      "outputs": [
        {
          "data": {
            "text/plain": [
              "0"
            ]
          },
          "execution_count": 73,
          "metadata": {},
          "output_type": "execute_result"
        }
      ],
      "source": [
        "# minimum number of lenders per loan\n",
        "kivaloans['lender_count'].min()"
      ]
    },
    {
      "cell_type": "markdown",
      "metadata": {
        "id": "rSTvUdjTfCgV"
      },
      "source": [
        "**Repayment_interval**\n",
        "   "
      ]
    },
    {
      "cell_type": "code",
      "execution_count": null,
      "metadata": {
        "id": "1oSUaoM3fCgV"
      },
      "outputs": [],
      "source": [
        "kivaloans['repayment_interval']= kivaloans['repayment_interval'].astype(object)"
      ]
    },
    {
      "cell_type": "code",
      "execution_count": null,
      "metadata": {
        "colab": {
          "base_uri": "https://localhost:8080/"
        },
        "id": "QfFBSChmfCgV",
        "outputId": "73701573-0b5d-4705-e072-cd1b516e2e9c"
      },
      "outputs": [
        {
          "data": {
            "text/plain": [
              "array(['irregular', 'bullet', 'monthly'], dtype=object)"
            ]
          },
          "execution_count": 75,
          "metadata": {},
          "output_type": "execute_result"
        }
      ],
      "source": [
        "kivaloans['repayment_interval'].unique()"
      ]
    },
    {
      "cell_type": "code",
      "execution_count": null,
      "metadata": {
        "colab": {
          "base_uri": "https://localhost:8080/"
        },
        "id": "MWLPF6i4fCgW",
        "outputId": "8f4746a7-23ac-4a4a-f618-79464194229d"
      },
      "outputs": [
        {
          "data": {
            "text/plain": [
              "monthly      334195\n",
              "irregular    252039\n",
              "bullet        67656\n",
              "Name: repayment_interval, dtype: int64"
            ]
          },
          "execution_count": 76,
          "metadata": {},
          "output_type": "execute_result"
        }
      ],
      "source": [
        "kivaloans['repayment_interval'].value_counts()"
      ]
    },
    {
      "cell_type": "markdown",
      "metadata": {
        "id": "zqooZkPofCgW"
      },
      "source": [
        "**This shows that monthly payment is prevailing**"
      ]
    },
    {
      "cell_type": "code",
      "execution_count": null,
      "metadata": {
        "colab": {
          "base_uri": "https://localhost:8080/"
        },
        "id": "G5MwsCV1fCgW",
        "outputId": "f87639f0-ef8d-4c31-cf31-4998f3884c53"
      },
      "outputs": [
        {
          "data": {
            "text/plain": [
              "female                                                                                                                                                                                                                          415840\n",
              "male                                                                                                                                                                                                                            132281\n",
              "female, female                                                                                                                                                                                                                   12163\n",
              "female, female, female                                                                                                                                                                                                           11676\n",
              "female, female, female, female                                                                                                                                                                                                    9052\n",
              "                                                                                                                                                                                                                                 ...  \n",
              "female, male, male, male, female, female, male, male, female, female, female, female, female, female, male, male, male, male, male, male, male, female                                                                               1\n",
              "male, female, female, female, male, female, female, female, male, female, female, male, female, female, female, female, female                                                                                                       1\n",
              "female, female, male, female, male, female, female, male, female, female, female, female, female, female, female, female, female, female                                                                                             1\n",
              "male, female, female, male, female, female, female, male, female, male, female, female, female                                                                                                                                       1\n",
              "female, female, female, male, female, female, female, male, female, female, female, male, female, male, female, female, female, female, female, female, female, female, female, female, female, female, female, female, male         1\n",
              "Name: borrower_genders, Length: 11297, dtype: int64"
            ]
          },
          "execution_count": 77,
          "metadata": {},
          "output_type": "execute_result"
        }
      ],
      "source": [
        "# borrower_genders values distribution\n",
        "kivaloans['borrower_genders'].value_counts()"
      ]
    },
    {
      "cell_type": "code",
      "execution_count": null,
      "metadata": {
        "colab": {
          "base_uri": "https://localhost:8080/"
        },
        "id": "bCjwJqpEfCgW",
        "outputId": "23681f94-c874-4649-96a3-66a35dc58f23"
      },
      "outputs": [
        {
          "data": {
            "text/plain": [
              "11297"
            ]
          },
          "execution_count": 78,
          "metadata": {},
          "output_type": "execute_result"
        }
      ],
      "source": [
        "# number of unique values\n",
        "kivaloans['borrower_genders'].nunique()"
      ]
    },
    {
      "cell_type": "code",
      "execution_count": null,
      "metadata": {
        "id": "t2IDkFwBfCgX"
      },
      "outputs": [],
      "source": [
        "# function to count the occurance of female and male\n",
        "def count_category(cell):\n",
        "    if cell=='female':\n",
        "        female_count=1\n",
        "        male_count=0\n",
        "    elif cell=='male':\n",
        "        female_count=0\n",
        "        male_count=1\n",
        "    else:\n",
        "        counts = cell.split(', ')\n",
        "        female_count = counts.count('female')\n",
        "        male_count = counts.count('male')\n",
        "    return female_count + male_count"
      ]
    },
    {
      "cell_type": "code",
      "execution_count": null,
      "metadata": {
        "id": "BbWRSSPjfCgX"
      },
      "outputs": [],
      "source": [
        "#Now i will add gender_count column to kivloans dataframe\n",
        "kivaloans['borrower_count']= kivaloans['borrower_genders'].apply(count_category)"
      ]
    },
    {
      "cell_type": "code",
      "execution_count": null,
      "metadata": {
        "colab": {
          "base_uri": "https://localhost:8080/"
        },
        "id": "f2nq297VfCgX",
        "outputId": "57866cb3-729a-4f4e-ee29-a4305f1d9538"
      },
      "outputs": [
        {
          "data": {
            "text/plain": [
              "50"
            ]
          },
          "execution_count": 81,
          "metadata": {},
          "output_type": "execute_result"
        }
      ],
      "source": [
        "# confirm processing\n",
        "kivaloans['borrower_count'].nunique()"
      ]
    },
    {
      "cell_type": "code",
      "execution_count": null,
      "metadata": {
        "id": "vAfy4RokfCgX"
      },
      "outputs": [],
      "source": [
        "kivaloans['borrower_genders'] = kivaloans['borrower_genders'].apply(lambda x: 'both' if x not in(['female', 'male']) else x)"
      ]
    },
    {
      "cell_type": "code",
      "execution_count": null,
      "metadata": {
        "colab": {
          "base_uri": "https://localhost:8080/"
        },
        "id": "oqbBALfQfCgY",
        "outputId": "1f21785f-188f-4fdc-e91c-2455232884e1"
      },
      "outputs": [
        {
          "data": {
            "text/plain": [
              "array(['female', 'both', 'male'], dtype=object)"
            ]
          },
          "execution_count": 83,
          "metadata": {},
          "output_type": "execute_result"
        }
      ],
      "source": [
        "kivaloans['borrower_genders'].unique()"
      ]
    },
    {
      "cell_type": "code",
      "execution_count": null,
      "metadata": {
        "colab": {
          "base_uri": "https://localhost:8080/"
        },
        "id": "L7X4JniefCgY",
        "outputId": "60e7d96a-4815-416a-d934-4204af475d92"
      },
      "outputs": [
        {
          "data": {
            "text/plain": [
              "(653890, 19)"
            ]
          },
          "execution_count": 84,
          "metadata": {},
          "output_type": "execute_result"
        }
      ],
      "source": [
        "kivaloans.shape"
      ]
    },
    {
      "cell_type": "code",
      "execution_count": null,
      "metadata": {
        "colab": {
          "base_uri": "https://localhost:8080/"
        },
        "id": "LN6A6lyzfCgZ",
        "outputId": "436bb404-dbbd-4e60-b0e3-8f4eb41413bc"
      },
      "outputs": [
        {
          "data": {
            "text/plain": [
              "id                        0\n",
              "funded_amount             0\n",
              "loan_amount               0\n",
              "activity                  0\n",
              "sector                    0\n",
              "use                       0\n",
              "country                   0\n",
              "region                    0\n",
              "currency                  0\n",
              "partner_id                0\n",
              "posted_time               0\n",
              "disbursed_time            0\n",
              "funded_time           45687\n",
              "loan_months               0\n",
              "lender_count              0\n",
              "borrower_genders          0\n",
              "repayment_interval        0\n",
              "disbursed_date            0\n",
              "borrower_count            0\n",
              "dtype: int64"
            ]
          },
          "execution_count": 85,
          "metadata": {},
          "output_type": "execute_result"
        }
      ],
      "source": [
        "kivaloans.isna().sum()"
      ]
    },
    {
      "cell_type": "code",
      "execution_count": null,
      "metadata": {
        "colab": {
          "base_uri": "https://localhost:8080/"
        },
        "id": "dobatCSVfCgZ",
        "outputId": "84f7e57a-a4d8-404d-e651-1b0c357c9e8f"
      },
      "outputs": [
        {
          "data": {
            "text/plain": [
              "0"
            ]
          },
          "execution_count": 87,
          "metadata": {},
          "output_type": "execute_result"
        }
      ],
      "source": [
        "kivaloans.duplicated().sum()"
      ]
    },
    {
      "cell_type": "code",
      "execution_count": null,
      "metadata": {
        "colab": {
          "base_uri": "https://localhost:8080/"
        },
        "id": "EVtyGzUjfCgZ",
        "outputId": "08de6dcd-ee4e-4cbe-c708-89034a11f0b7"
      },
      "outputs": [
        {
          "name": "stdout",
          "output_type": "stream",
          "text": [
            "<class 'pandas.core.frame.DataFrame'>\n",
            "DatetimeIndex: 653890 entries, 2014-01-01 to 2017-07-26\n",
            "Data columns (total 19 columns):\n",
            " #   Column              Non-Null Count   Dtype              \n",
            "---  ------              --------------   -----              \n",
            " 0   id                  653890 non-null  object             \n",
            " 1   funded_amount       653890 non-null  float64            \n",
            " 2   loan_amount         653890 non-null  float64            \n",
            " 3   activity            653890 non-null  object             \n",
            " 4   sector              653890 non-null  object             \n",
            " 5   use                 653890 non-null  object             \n",
            " 6   country             653890 non-null  object             \n",
            " 7   region              653890 non-null  object             \n",
            " 8   currency            653890 non-null  object             \n",
            " 9   partner_id          653890 non-null  object             \n",
            " 10  posted_time         653890 non-null  datetime64[ns, UTC]\n",
            " 11  disbursed_time      653890 non-null  datetime64[ns, UTC]\n",
            " 12  funded_time         608203 non-null  datetime64[ns, UTC]\n",
            " 13  loan_months         653890 non-null  int64              \n",
            " 14  lender_count        653890 non-null  int64              \n",
            " 15  borrower_genders    653890 non-null  object             \n",
            " 16  repayment_interval  653890 non-null  object             \n",
            " 17  disbursed_date      653890 non-null  object             \n",
            " 18  borrower_count      653890 non-null  int64              \n",
            "dtypes: datetime64[ns, UTC](3), float64(2), int64(3), object(11)\n",
            "memory usage: 99.8+ MB\n"
          ]
        }
      ],
      "source": [
        "kivaloans.info()"
      ]
    },
    {
      "cell_type": "code",
      "execution_count": null,
      "metadata": {
        "id": "Y53IcDPhfCga"
      },
      "outputs": [],
      "source": []
    },
    {
      "cell_type": "markdown",
      "metadata": {
        "id": "2cqa6y2UfCga"
      },
      "source": [
        "## <span style=\"color:#288BA8; font-family:Arial;\">Time:</span>"
      ]
    },
    {
      "cell_type": "markdown",
      "metadata": {
        "id": "uDtsaypafCga"
      },
      "source": [
        "#### <span style=\"color:#000000; font-family:Georgia, serif;\">what is the total loans per year for funded and loan amounts?</span>"
      ]
    },
    {
      "cell_type": "code",
      "execution_count": null,
      "metadata": {
        "colab": {
          "background_save": true
        },
        "id": "oxnSa4qOfCga",
        "outputId": "61f2eadb-a8d6-46d4-cc84-e3c9147abe5a"
      },
      "outputs": [
        {
          "data": {
            "image/png": "[encoded data removed]",
            "text/plain": [
              "<Figure size 1000x500 with 1 Axes>"
            ]
          },
          "metadata": {},
          "output_type": "display_data"
        }
      ],
      "source": [
        "plt.figure(figsize = (10,5))\n",
        "# Plot line chart for 'funded_amount'\n",
        "sns.lineplot(data=kivaloans, x=kivaloans.index.year, y='funded_amount', estimator=sum, label='funded')\n",
        "\n",
        "# Plot line chart for 'loan_amount'\n",
        "sns.lineplot(data=kivaloans, x=kivaloans.index.year, y='loan_amount', estimator=sum, label='loan')\n",
        "\n",
        "# Set the labels and title\n",
        "plt.xlabel('Year')\n",
        "plt.ylabel('Loan Amount')\n",
        "plt.title('Funded Amount and Loan Amount Over Time')\n",
        "plt.legend()\n",
        "# Convert y-axis tick labels to millions\n",
        "plt.gca().yaxis.set_major_formatter(plt.FuncFormatter(lambda x, _: f'{x/1e6:.1f}M'))\n",
        "# Show the plot\n",
        "plt.show()"
      ]
    },
    {
      "cell_type": "markdown",
      "metadata": {
        "id": "Syu176l-fCgb"
      },
      "source": [
        "#### <span style=\"color:#000000; font-family:Georgia, serif;\">what is the total loans per month for funded and loan amounts for each year?</span>"
      ]
    },
    {
      "cell_type": "code",
      "execution_count": null,
      "metadata": {
        "id": "d8YrMVCufCgb"
      },
      "outputs": [],
      "source": [
        "plt.figure(figsize = [15,5])\n",
        "plt.subplot(1,2,1)\n",
        "sns.lineplot(data = kivaloans, x = kivaloans.index.month, y = 'funded_amount', estimator=sum, hue=kivaloans.index.year)\n",
        "plt.title('Funded Amount Per Month')\n",
        "plt.xlabel('Month')\n",
        "plt.ylabel('Funded Amount')\n",
        "plt.xticks(rotation = 75)\n",
        "# Convert y-axis tick labels to millions\n",
        "plt.gca().yaxis.set_major_formatter(plt.FuncFormatter(lambda x, _: f'{x/1e6:.1f}M'))\n",
        "\n",
        "plt.subplot(1,2,2)\n",
        "sns.lineplot(data = kivaloans, x = kivaloans.index.month, y = 'loan_amount', estimator=sum, hue=kivaloans.index.year)\n",
        "plt.title(\"Loan Amount Per Month\")\n",
        "plt.xlabel('Month')\n",
        "plt.ylabel('Loan Amount')\n",
        "plt.xticks(rotation = 75)\n",
        "# Convert y-axis tick labels to millions\n",
        "plt.gca().yaxis.set_major_formatter(plt.FuncFormatter(lambda x, _: f'{x/1e6:.1f}M'))\n",
        "\n",
        "\n",
        "plt.show()"
      ]
    },
    {
      "cell_type": "markdown",
      "metadata": {
        "id": "vZ10PhXJfCgb"
      },
      "source": [
        "#### <span style=\"color:#000000; font-family:Georgia, serif;\">what is the total loan_amount of each sector per year?</span>"
      ]
    },
    {
      "cell_type": "code",
      "execution_count": null,
      "metadata": {
        "colab": {
          "base_uri": "https://localhost:8080/",
          "height": 496
        },
        "id": "18gQlar6fCgc",
        "outputId": "aeddf3e2-588e-4e98-b985-2536ecf12bbd",
        "scrolled": true
      },
      "outputs": [
        {
          "data": {
            "image/png": "[encoded data removed]",
            "text/plain": [
              "<Figure size 1000x500 with 1 Axes>"
            ]
          },
          "metadata": {},
          "output_type": "display_data"
        }
      ],
      "source": [
        "plt.figure(figsize = (10,5))\n",
        "# Plot bar chart for sectors loan amount per year\n",
        "sns.barplot(data=kivaloans, x=kivaloans.index.year, y='loan_amount', estimator=sum, hue='sector')\n",
        "\n",
        "# Set the labels and title\n",
        "plt.xlabel('Sector')\n",
        "plt.ylabel('Loan Amount')\n",
        "plt.title('Sectors Loan Amount')\n",
        "# Move the legend outside the plot\n",
        "plt.legend(bbox_to_anchor=(1.05, 1), loc='upper left')\n",
        "# Convert y-axis tick labels to millions\n",
        "plt.gca().yaxis.set_major_formatter(plt.FuncFormatter(lambda x, _: f'{x/1e6:.1f}M'))\n",
        "\n",
        "# Show the plot\n",
        "plt.show()"
      ]
    },
    {
      "cell_type": "markdown",
      "metadata": {
        "id": "0vpSc0qrfCgc"
      },
      "source": [
        "## <span style=\"color:#288BA8; font-family:Arial;\">Country:</span>"
      ]
    },
    {
      "cell_type": "markdown",
      "metadata": {
        "id": "STSV4JhdfCgc"
      },
      "source": [
        "#### <span style=\"color:#000000; font-family:Georgia, serif;\">What country got the most loans?</span>"
      ]
    },
    {
      "cell_type": "code",
      "execution_count": null,
      "metadata": {
        "colab": {
          "base_uri": "https://localhost:8080/",
          "height": 363
        },
        "id": "KazARbLDfCgc",
        "outputId": "5a510ee7-e988-42f5-8769-08ce97ee3246"
      },
      "outputs": [
        {
          "data": {
            "text/html": [
              "\n",
              "  <div id=\"df-8cadc291-1c3d-4d09-b90a-626a9c7f6cf4\" class=\"colab-df-container\">\n",
              "    <div>\n",
              "<style scoped>\n",
              "    .dataframe tbody tr th:only-of-type {\n",
              "        vertical-align: middle;\n",
              "    }\n",
              "\n",
              "    .dataframe tbody tr th {\n",
              "        vertical-align: top;\n",
              "    }\n",
              "\n",
              "    .dataframe thead th {\n",
              "        text-align: right;\n",
              "    }\n",
              "</style>\n",
              "<table border=\"1\" class=\"dataframe\">\n",
              "  <thead>\n",
              "    <tr style=\"text-align: right;\">\n",
              "      <th></th>\n",
              "      <th>country</th>\n",
              "      <th>loan_amount</th>\n",
              "    </tr>\n",
              "  </thead>\n",
              "  <tbody>\n",
              "    <tr>\n",
              "      <th>0</th>\n",
              "      <td>Philippines</td>\n",
              "      <td>55301500.0</td>\n",
              "    </tr>\n",
              "    <tr>\n",
              "      <th>1</th>\n",
              "      <td>Kenya</td>\n",
              "      <td>32636750.0</td>\n",
              "    </tr>\n",
              "    <tr>\n",
              "      <th>2</th>\n",
              "      <td>Peru</td>\n",
              "      <td>30708825.0</td>\n",
              "    </tr>\n",
              "    <tr>\n",
              "      <th>3</th>\n",
              "      <td>Paraguay</td>\n",
              "      <td>29514025.0</td>\n",
              "    </tr>\n",
              "    <tr>\n",
              "      <th>4</th>\n",
              "      <td>El Salvador</td>\n",
              "      <td>26251050.0</td>\n",
              "    </tr>\n",
              "    <tr>\n",
              "      <th>5</th>\n",
              "      <td>Cambodia</td>\n",
              "      <td>19840425.0</td>\n",
              "    </tr>\n",
              "    <tr>\n",
              "      <th>6</th>\n",
              "      <td>Bolivia</td>\n",
              "      <td>19695725.0</td>\n",
              "    </tr>\n",
              "    <tr>\n",
              "      <th>7</th>\n",
              "      <td>Rwanda</td>\n",
              "      <td>16614275.0</td>\n",
              "    </tr>\n",
              "    <tr>\n",
              "      <th>8</th>\n",
              "      <td>Uganda</td>\n",
              "      <td>15209525.0</td>\n",
              "    </tr>\n",
              "    <tr>\n",
              "      <th>9</th>\n",
              "      <td>Tajikistan</td>\n",
              "      <td>14976450.0</td>\n",
              "    </tr>\n",
              "  </tbody>\n",
              "</table>\n",
              "</div>\n",
              "    <div class=\"colab-df-buttons\">\n",
              "\n",
              "  <div class=\"colab-df-container\">\n",
              "    <button class=\"colab-df-convert\" onclick=\"convertToInteractive('df-8cadc291-1c3d-4d09-b90a-626a9c7f6cf4')\"\n",
              "            title=\"Convert this dataframe to an interactive table.\"\n",
              "            style=\"display:none;\">\n",
              "\n",
              "  <svg xmlns=\"http://www.w3.org/2000/svg\" height=\"24px\" viewBox=\"0 -960 960 960\">\n",
              "    <path d=\"M120-120v-720h720v720H120Zm60-500h600v-160H180v160Zm220 220h160v-160H400v160Zm0 220h160v-160H400v160ZM180-400h160v-160H180v160Zm440 0h160v-160H620v160ZM180-180h160v-160H180v160Zm440 0h160v-160H620v160Z\"/>\n",
              "  </svg>\n",
              "    </button>\n",
              "\n",
              "  <style>\n",
              "    .colab-df-container {\n",
              "      display:flex;\n",
              "      gap: 12px;\n",
              "    }\n",
              "\n",
              "    .colab-df-convert {\n",
              "      background-color: #E8F0FE;\n",
              "      border: none;\n",
              "      border-radius: 50%;\n",
              "      cursor: pointer;\n",
              "      display: none;\n",
              "      fill: #1967D2;\n",
              "      height: 32px;\n",
              "      padding: 0 0 0 0;\n",
              "      width: 32px;\n",
              "    }\n",
              "\n",
              "    .colab-df-convert:hover {\n",
              "      background-color: #E2EBFA;\n",
              "      box-shadow: 0px 1px 2px rgba(60, 64, 67, 0.3), 0px 1px 3px 1px rgba(60, 64, 67, 0.15);\n",
              "      fill: #174EA6;\n",
              "    }\n",
              "\n",
              "    .colab-df-buttons div {\n",
              "      margin-bottom: 4px;\n",
              "    }\n",
              "\n",
              "    [theme=dark] .colab-df-convert {\n",
              "      background-color: #3B4455;\n",
              "      fill: #D2E3FC;\n",
              "    }\n",
              "\n",
              "    [theme=dark] .colab-df-convert:hover {\n",
              "      background-color: #434B5C;\n",
              "      box-shadow: 0px 1px 3px 1px rgba(0, 0, 0, 0.15);\n",
              "      filter: drop-shadow(0px 1px 2px rgba(0, 0, 0, 0.3));\n",
              "      fill: #FFFFFF;\n",
              "    }\n",
              "  </style>\n",
              "\n",
              "    <script>\n",
              "      const buttonEl =\n",
              "        document.querySelector('#df-8cadc291-1c3d-4d09-b90a-626a9c7f6cf4 button.colab-df-convert');\n",
              "      buttonEl.style.display =\n",
              "        google.colab.kernel.accessAllowed ? 'block' : 'none';\n",
              "\n",
              "      async function convertToInteractive(key) {\n",
              "        const element = document.querySelector('#df-8cadc291-1c3d-4d09-b90a-626a9c7f6cf4');\n",
              "        const dataTable =\n",
              "          await google.colab.kernel.invokeFunction('convertToInteractive',\n",
              "                                                    [key], {});\n",
              "        if (!dataTable) return;\n",
              "\n",
              "        const docLinkHtml = 'Like what you see? Visit the ' +\n",
              "          '<a target=\"_blank\" href=https://colab.research.google.com/notebooks/data_table.ipynb>data table notebook</a>'\n",
              "          + ' to learn more about interactive tables.';\n",
              "        element.innerHTML = '';\n",
              "        dataTable['output_type'] = 'display_data';\n",
              "        await google.colab.output.renderOutput(dataTable, element);\n",
              "        const docLink = document.createElement('div');\n",
              "        docLink.innerHTML = docLinkHtml;\n",
              "        element.appendChild(docLink);\n",
              "      }\n",
              "    </script>\n",
              "  </div>\n",
              "\n",
              "\n",
              "<div id=\"df-40890b80-ee89-4120-9979-936a8da6bf5f\">\n",
              "  <button class=\"colab-df-quickchart\" onclick=\"quickchart('df-40890b80-ee89-4120-9979-936a8da6bf5f')\"\n",
              "            title=\"Suggest charts\"\n",
              "            style=\"display:none;\">\n",
              "\n",
              "<svg xmlns=\"http://www.w3.org/2000/svg\" height=\"24px\"viewBox=\"0 0 24 24\"\n",
              "     width=\"24px\">\n",
              "    <g>\n",
              "        <path d=\"M19 3H5c-1.1 0-2 .9-2 2v14c0 1.1.9 2 2 2h14c1.1 0 2-.9 2-2V5c0-1.1-.9-2-2-2zM9 17H7v-7h2v7zm4 0h-2V7h2v10zm4 0h-2v-4h2v4z\"/>\n",
              "    </g>\n",
              "</svg>\n",
              "  </button>\n",
              "\n",
              "<style>\n",
              "  .colab-df-quickchart {\n",
              "      --bg-color: #E8F0FE;\n",
              "      --fill-color: #1967D2;\n",
              "      --hover-bg-color: #E2EBFA;\n",
              "      --hover-fill-color: #174EA6;\n",
              "      --disabled-fill-color: #AAA;\n",
              "      --disabled-bg-color: #DDD;\n",
              "  }\n",
              "\n",
              "  [theme=dark] .colab-df-quickchart {\n",
              "      --bg-color: #3B4455;\n",
              "      --fill-color: #D2E3FC;\n",
              "      --hover-bg-color: #434B5C;\n",
              "      --hover-fill-color: #FFFFFF;\n",
              "      --disabled-bg-color: #3B4455;\n",
              "      --disabled-fill-color: #666;\n",
              "  }\n",
              "\n",
              "  .colab-df-quickchart {\n",
              "    background-color: var(--bg-color);\n",
              "    border: none;\n",
              "    border-radius: 50%;\n",
              "    cursor: pointer;\n",
              "    display: none;\n",
              "    fill: var(--fill-color);\n",
              "    height: 32px;\n",
              "    padding: 0;\n",
              "    width: 32px;\n",
              "  }\n",
              "\n",
              "  .colab-df-quickchart:hover {\n",
              "    background-color: var(--hover-bg-color);\n",
              "    box-shadow: 0 1px 2px rgba(60, 64, 67, 0.3), 0 1px 3px 1px rgba(60, 64, 67, 0.15);\n",
              "    fill: var(--button-hover-fill-color);\n",
              "  }\n",
              "\n",
              "  .colab-df-quickchart-complete:disabled,\n",
              "  .colab-df-quickchart-complete:disabled:hover {\n",
              "    background-color: var(--disabled-bg-color);\n",
              "    fill: var(--disabled-fill-color);\n",
              "    box-shadow: none;\n",
              "  }\n",
              "\n",
              "  .colab-df-spinner {\n",
              "    border: 2px solid var(--fill-color);\n",
              "    border-color: transparent;\n",
              "    border-bottom-color: var(--fill-color);\n",
              "    animation:\n",
              "      spin 1s steps(1) infinite;\n",
              "  }\n",
              "\n",
              "  @keyframes spin {\n",
              "    0% {\n",
              "      border-color: transparent;\n",
              "      border-bottom-color: var(--fill-color);\n",
              "      border-left-color: var(--fill-color);\n",
              "    }\n",
              "    20% {\n",
              "      border-color: transparent;\n",
              "      border-left-color: var(--fill-color);\n",
              "      border-top-color: var(--fill-color);\n",
              "    }\n",
              "    30% {\n",
              "      border-color: transparent;\n",
              "      border-left-color: var(--fill-color);\n",
              "      border-top-color: var(--fill-color);\n",
              "      border-right-color: var(--fill-color);\n",
              "    }\n",
              "    40% {\n",
              "      border-color: transparent;\n",
              "      border-right-color: var(--fill-color);\n",
              "      border-top-color: var(--fill-color);\n",
              "    }\n",
              "    60% {\n",
              "      border-color: transparent;\n",
              "      border-right-color: var(--fill-color);\n",
              "    }\n",
              "    80% {\n",
              "      border-color: transparent;\n",
              "      border-right-color: var(--fill-color);\n",
              "      border-bottom-color: var(--fill-color);\n",
              "    }\n",
              "    90% {\n",
              "      border-color: transparent;\n",
              "      border-bottom-color: var(--fill-color);\n",
              "    }\n",
              "  }\n",
              "</style>\n",
              "\n",
              "  <script>\n",
              "    async function quickchart(key) {\n",
              "      const quickchartButtonEl =\n",
              "        document.querySelector('#' + key + ' button');\n",
              "      quickchartButtonEl.disabled = true;  // To prevent multiple clicks.\n",
              "      quickchartButtonEl.classList.add('colab-df-spinner');\n",
              "      try {\n",
              "        const charts = await google.colab.kernel.invokeFunction(\n",
              "            'suggestCharts', [key], {});\n",
              "      } catch (error) {\n",
              "        console.error('Error during call to suggestCharts:', error);\n",
              "      }\n",
              "      quickchartButtonEl.classList.remove('colab-df-spinner');\n",
              "      quickchartButtonEl.classList.add('colab-df-quickchart-complete');\n",
              "    }\n",
              "    (() => {\n",
              "      let quickchartButtonEl =\n",
              "        document.querySelector('#df-40890b80-ee89-4120-9979-936a8da6bf5f button');\n",
              "      quickchartButtonEl.style.display =\n",
              "        google.colab.kernel.accessAllowed ? 'block' : 'none';\n",
              "    })();\n",
              "  </script>\n",
              "</div>\n",
              "    </div>\n",
              "  </div>\n"
            ],
            "text/plain": [
              "       country  loan_amount\n",
              "0  Philippines   55301500.0\n",
              "1        Kenya   32636750.0\n",
              "2         Peru   30708825.0\n",
              "3     Paraguay   29514025.0\n",
              "4  El Salvador   26251050.0\n",
              "5     Cambodia   19840425.0\n",
              "6      Bolivia   19695725.0\n",
              "7       Rwanda   16614275.0\n",
              "8       Uganda   15209525.0\n",
              "9   Tajikistan   14976450.0"
            ]
          },
          "execution_count": 92,
          "metadata": {},
          "output_type": "execute_result"
        }
      ],
      "source": [
        "country_loan_amount = kivaloans.groupby('country')['loan_amount'].sum()\\\n",
        "        .sort_values(ascending = False).head(10).reset_index()\n",
        "country_loan_amount"
      ]
    },
    {
      "cell_type": "code",
      "execution_count": null,
      "metadata": {
        "colab": {
          "base_uri": "https://localhost:8080/",
          "height": 272
        },
        "id": "9HUSScNTfCgd",
        "outputId": "d45e9e1f-092f-4001-8fe8-7958f2323c42"
      },
      "outputs": [
        {
          "ename": "NameError",
          "evalue": "ignored",
          "output_type": "error",
          "traceback": [
            "\u001b[0;31m---------------------------------------------------------------------------\u001b[0m",
            "\u001b[0;31mNameError\u001b[0m                                 Traceback (most recent call last)",
            "\u001b[0;32m<ipython-input-91-8e1946c4f115>\u001b[0m in \u001b[0;36m<cell line: 3>\u001b[0;34m()\u001b[0m\n\u001b[1;32m      1\u001b[0m \u001b[0mplt\u001b[0m\u001b[0;34m.\u001b[0m\u001b[0mfigure\u001b[0m\u001b[0;34m(\u001b[0m\u001b[0mfigsize\u001b[0m \u001b[0;34m=\u001b[0m \u001b[0;34m(\u001b[0m\u001b[0;36m10\u001b[0m\u001b[0;34m,\u001b[0m\u001b[0;36m5\u001b[0m\u001b[0;34m)\u001b[0m\u001b[0;34m)\u001b[0m\u001b[0;34m\u001b[0m\u001b[0;34m\u001b[0m\u001b[0m\n\u001b[1;32m      2\u001b[0m \u001b[0;31m# Plot bar chart for hieghst countries loan amount\u001b[0m\u001b[0;34m\u001b[0m\u001b[0;34m\u001b[0m\u001b[0m\n\u001b[0;32m----> 3\u001b[0;31m \u001b[0msns\u001b[0m\u001b[0;34m.\u001b[0m\u001b[0mbarplot\u001b[0m\u001b[0;34m(\u001b[0m\u001b[0mdata\u001b[0m\u001b[0;34m=\u001b[0m\u001b[0mcountry_loan_amount\u001b[0m\u001b[0;34m,\u001b[0m \u001b[0mx\u001b[0m\u001b[0;34m=\u001b[0m\u001b[0;34m'country'\u001b[0m\u001b[0;34m,\u001b[0m \u001b[0my\u001b[0m\u001b[0;34m=\u001b[0m\u001b[0;34m'loan_amount'\u001b[0m\u001b[0;34m)\u001b[0m\u001b[0;34m\u001b[0m\u001b[0;34m\u001b[0m\u001b[0m\n\u001b[0m\u001b[1;32m      4\u001b[0m \u001b[0;34m\u001b[0m\u001b[0m\n\u001b[1;32m      5\u001b[0m \u001b[0;31m# Set the labels and title\u001b[0m\u001b[0;34m\u001b[0m\u001b[0;34m\u001b[0m\u001b[0m\n",
            "\u001b[0;31mNameError\u001b[0m: name 'country_loan_amount' is not defined"
          ]
        },
        {
          "data": {
            "text/plain": [
              "<Figure size 1000x500 with 0 Axes>"
            ]
          },
          "metadata": {},
          "output_type": "display_data"
        }
      ],
      "source": [
        "plt.figure(figsize = (10,5))\n",
        "# Plot bar chart for hieghst countries loan amount\n",
        "sns.barplot(data=country_loan_amount, x='country', y='loan_amount')\n",
        "\n",
        "# Set the labels and title\n",
        "plt.xlabel('Country')\n",
        "plt.ylabel('Total Loan Amount')\n",
        "plt.title('Loan Amount Per Country')\n",
        "# Convert y-axis tick labels to millions\n",
        "plt.gca().yaxis.set_major_formatter(plt.FuncFormatter(lambda x, _: f'{x/1e6:.1f}M'))\n",
        "# Show the plot\n",
        "plt.show()"
      ]
    },
    {
      "cell_type": "markdown",
      "metadata": {
        "id": "E4Y6ul7bfCgd"
      },
      "source": [
        "#### <span style=\"color:#000000; font-family:Georgia, serif;\">For each country, Which region had the highest loan amounts?</span>"
      ]
    },
    {
      "cell_type": "code",
      "execution_count": null,
      "metadata": {
        "colab": {
          "base_uri": "https://localhost:8080/",
          "height": 363
        },
        "id": "nj1VQDuSfCgd",
        "outputId": "2cab6072-e6f1-4cb6-e348-a947fb6f111a"
      },
      "outputs": [
        {
          "data": {
            "text/html": [
              "\n",
              "  <div id=\"df-0b43de22-fb3c-413b-87b0-b3a09904b777\" class=\"colab-df-container\">\n",
              "    <div>\n",
              "<style scoped>\n",
              "    .dataframe tbody tr th:only-of-type {\n",
              "        vertical-align: middle;\n",
              "    }\n",
              "\n",
              "    .dataframe tbody tr th {\n",
              "        vertical-align: top;\n",
              "    }\n",
              "\n",
              "    .dataframe thead th {\n",
              "        text-align: right;\n",
              "    }\n",
              "</style>\n",
              "<table border=\"1\" class=\"dataframe\">\n",
              "  <thead>\n",
              "    <tr style=\"text-align: right;\">\n",
              "      <th></th>\n",
              "      <th>country</th>\n",
              "      <th>region</th>\n",
              "      <th>loan_amount</th>\n",
              "    </tr>\n",
              "  </thead>\n",
              "  <tbody>\n",
              "    <tr>\n",
              "      <th>0</th>\n",
              "      <td>Rwanda</td>\n",
              "      <td>Rwanda</td>\n",
              "      <td>15931500.0</td>\n",
              "    </tr>\n",
              "    <tr>\n",
              "      <th>1</th>\n",
              "      <td>El Salvador</td>\n",
              "      <td>El Salvador</td>\n",
              "      <td>12588575.0</td>\n",
              "    </tr>\n",
              "    <tr>\n",
              "      <th>2</th>\n",
              "      <td>The Democratic Republic of the Congo</td>\n",
              "      <td>Goma, North Kivu province</td>\n",
              "      <td>7397975.0</td>\n",
              "    </tr>\n",
              "    <tr>\n",
              "      <th>3</th>\n",
              "      <td>Senegal</td>\n",
              "      <td>Senegal</td>\n",
              "      <td>6991200.0</td>\n",
              "    </tr>\n",
              "    <tr>\n",
              "      <th>4</th>\n",
              "      <td>Bolivia</td>\n",
              "      <td>La Paz  / El Alto</td>\n",
              "      <td>6838300.0</td>\n",
              "    </tr>\n",
              "    <tr>\n",
              "      <th>5</th>\n",
              "      <td>Peru</td>\n",
              "      <td>Cusco</td>\n",
              "      <td>6222075.0</td>\n",
              "    </tr>\n",
              "    <tr>\n",
              "      <th>6</th>\n",
              "      <td>Tanzania</td>\n",
              "      <td>Dar es Salaam</td>\n",
              "      <td>5113875.0</td>\n",
              "    </tr>\n",
              "    <tr>\n",
              "      <th>7</th>\n",
              "      <td>Pakistan</td>\n",
              "      <td>Lahore</td>\n",
              "      <td>3984575.0</td>\n",
              "    </tr>\n",
              "    <tr>\n",
              "      <th>8</th>\n",
              "      <td>Vietnam</td>\n",
              "      <td>Thanh Hoá</td>\n",
              "      <td>3718125.0</td>\n",
              "    </tr>\n",
              "    <tr>\n",
              "      <th>9</th>\n",
              "      <td>Iraq</td>\n",
              "      <td>Iraq</td>\n",
              "      <td>2618450.0</td>\n",
              "    </tr>\n",
              "  </tbody>\n",
              "</table>\n",
              "</div>\n",
              "    <div class=\"colab-df-buttons\">\n",
              "\n",
              "  <div class=\"colab-df-container\">\n",
              "    <button class=\"colab-df-convert\" onclick=\"convertToInteractive('df-0b43de22-fb3c-413b-87b0-b3a09904b777')\"\n",
              "            title=\"Convert this dataframe to an interactive table.\"\n",
              "            style=\"display:none;\">\n",
              "\n",
              "  <svg xmlns=\"http://www.w3.org/2000/svg\" height=\"24px\" viewBox=\"0 -960 960 960\">\n",
              "    <path d=\"M120-120v-720h720v720H120Zm60-500h600v-160H180v160Zm220 220h160v-160H400v160Zm0 220h160v-160H400v160ZM180-400h160v-160H180v160Zm440 0h160v-160H620v160ZM180-180h160v-160H180v160Zm440 0h160v-160H620v160Z\"/>\n",
              "  </svg>\n",
              "    </button>\n",
              "\n",
              "  <style>\n",
              "    .colab-df-container {\n",
              "      display:flex;\n",
              "      gap: 12px;\n",
              "    }\n",
              "\n",
              "    .colab-df-convert {\n",
              "      background-color: #E8F0FE;\n",
              "      border: none;\n",
              "      border-radius: 50%;\n",
              "      cursor: pointer;\n",
              "      display: none;\n",
              "      fill: #1967D2;\n",
              "      height: 32px;\n",
              "      padding: 0 0 0 0;\n",
              "      width: 32px;\n",
              "    }\n",
              "\n",
              "    .colab-df-convert:hover {\n",
              "      background-color: #E2EBFA;\n",
              "      box-shadow: 0px 1px 2px rgba(60, 64, 67, 0.3), 0px 1px 3px 1px rgba(60, 64, 67, 0.15);\n",
              "      fill: #174EA6;\n",
              "    }\n",
              "\n",
              "    .colab-df-buttons div {\n",
              "      margin-bottom: 4px;\n",
              "    }\n",
              "\n",
              "    [theme=dark] .colab-df-convert {\n",
              "      background-color: #3B4455;\n",
              "      fill: #D2E3FC;\n",
              "    }\n",
              "\n",
              "    [theme=dark] .colab-df-convert:hover {\n",
              "      background-color: #434B5C;\n",
              "      box-shadow: 0px 1px 3px 1px rgba(0, 0, 0, 0.15);\n",
              "      filter: drop-shadow(0px 1px 2px rgba(0, 0, 0, 0.3));\n",
              "      fill: #FFFFFF;\n",
              "    }\n",
              "  </style>\n",
              "\n",
              "    <script>\n",
              "      const buttonEl =\n",
              "        document.querySelector('#df-0b43de22-fb3c-413b-87b0-b3a09904b777 button.colab-df-convert');\n",
              "      buttonEl.style.display =\n",
              "        google.colab.kernel.accessAllowed ? 'block' : 'none';\n",
              "\n",
              "      async function convertToInteractive(key) {\n",
              "        const element = document.querySelector('#df-0b43de22-fb3c-413b-87b0-b3a09904b777');\n",
              "        const dataTable =\n",
              "          await google.colab.kernel.invokeFunction('convertToInteractive',\n",
              "                                                    [key], {});\n",
              "        if (!dataTable) return;\n",
              "\n",
              "        const docLinkHtml = 'Like what you see? Visit the ' +\n",
              "          '<a target=\"_blank\" href=https://colab.research.google.com/notebooks/data_table.ipynb>data table notebook</a>'\n",
              "          + ' to learn more about interactive tables.';\n",
              "        element.innerHTML = '';\n",
              "        dataTable['output_type'] = 'display_data';\n",
              "        await google.colab.output.renderOutput(dataTable, element);\n",
              "        const docLink = document.createElement('div');\n",
              "        docLink.innerHTML = docLinkHtml;\n",
              "        element.appendChild(docLink);\n",
              "      }\n",
              "    </script>\n",
              "  </div>\n",
              "\n",
              "\n",
              "<div id=\"df-bbc6c149-83aa-463d-852a-0f7ac458e6e4\">\n",
              "  <button class=\"colab-df-quickchart\" onclick=\"quickchart('df-bbc6c149-83aa-463d-852a-0f7ac458e6e4')\"\n",
              "            title=\"Suggest charts\"\n",
              "            style=\"display:none;\">\n",
              "\n",
              "<svg xmlns=\"http://www.w3.org/2000/svg\" height=\"24px\"viewBox=\"0 0 24 24\"\n",
              "     width=\"24px\">\n",
              "    <g>\n",
              "        <path d=\"M19 3H5c-1.1 0-2 .9-2 2v14c0 1.1.9 2 2 2h14c1.1 0 2-.9 2-2V5c0-1.1-.9-2-2-2zM9 17H7v-7h2v7zm4 0h-2V7h2v10zm4 0h-2v-4h2v4z\"/>\n",
              "    </g>\n",
              "</svg>\n",
              "  </button>\n",
              "\n",
              "<style>\n",
              "  .colab-df-quickchart {\n",
              "      --bg-color: #E8F0FE;\n",
              "      --fill-color: #1967D2;\n",
              "      --hover-bg-color: #E2EBFA;\n",
              "      --hover-fill-color: #174EA6;\n",
              "      --disabled-fill-color: #AAA;\n",
              "      --disabled-bg-color: #DDD;\n",
              "  }\n",
              "\n",
              "  [theme=dark] .colab-df-quickchart {\n",
              "      --bg-color: #3B4455;\n",
              "      --fill-color: #D2E3FC;\n",
              "      --hover-bg-color: #434B5C;\n",
              "      --hover-fill-color: #FFFFFF;\n",
              "      --disabled-bg-color: #3B4455;\n",
              "      --disabled-fill-color: #666;\n",
              "  }\n",
              "\n",
              "  .colab-df-quickchart {\n",
              "    background-color: var(--bg-color);\n",
              "    border: none;\n",
              "    border-radius: 50%;\n",
              "    cursor: pointer;\n",
              "    display: none;\n",
              "    fill: var(--fill-color);\n",
              "    height: 32px;\n",
              "    padding: 0;\n",
              "    width: 32px;\n",
              "  }\n",
              "\n",
              "  .colab-df-quickchart:hover {\n",
              "    background-color: var(--hover-bg-color);\n",
              "    box-shadow: 0 1px 2px rgba(60, 64, 67, 0.3), 0 1px 3px 1px rgba(60, 64, 67, 0.15);\n",
              "    fill: var(--button-hover-fill-color);\n",
              "  }\n",
              "\n",
              "  .colab-df-quickchart-complete:disabled,\n",
              "  .colab-df-quickchart-complete:disabled:hover {\n",
              "    background-color: var(--disabled-bg-color);\n",
              "    fill: var(--disabled-fill-color);\n",
              "    box-shadow: none;\n",
              "  }\n",
              "\n",
              "  .colab-df-spinner {\n",
              "    border: 2px solid var(--fill-color);\n",
              "    border-color: transparent;\n",
              "    border-bottom-color: var(--fill-color);\n",
              "    animation:\n",
              "      spin 1s steps(1) infinite;\n",
              "  }\n",
              "\n",
              "  @keyframes spin {\n",
              "    0% {\n",
              "      border-color: transparent;\n",
              "      border-bottom-color: var(--fill-color);\n",
              "      border-left-color: var(--fill-color);\n",
              "    }\n",
              "    20% {\n",
              "      border-color: transparent;\n",
              "      border-left-color: var(--fill-color);\n",
              "      border-top-color: var(--fill-color);\n",
              "    }\n",
              "    30% {\n",
              "      border-color: transparent;\n",
              "      border-left-color: var(--fill-color);\n",
              "      border-top-color: var(--fill-color);\n",
              "      border-right-color: var(--fill-color);\n",
              "    }\n",
              "    40% {\n",
              "      border-color: transparent;\n",
              "      border-right-color: var(--fill-color);\n",
              "      border-top-color: var(--fill-color);\n",
              "    }\n",
              "    60% {\n",
              "      border-color: transparent;\n",
              "      border-right-color: var(--fill-color);\n",
              "    }\n",
              "    80% {\n",
              "      border-color: transparent;\n",
              "      border-right-color: var(--fill-color);\n",
              "      border-bottom-color: var(--fill-color);\n",
              "    }\n",
              "    90% {\n",
              "      border-color: transparent;\n",
              "      border-bottom-color: var(--fill-color);\n",
              "    }\n",
              "  }\n",
              "</style>\n",
              "\n",
              "  <script>\n",
              "    async function quickchart(key) {\n",
              "      const quickchartButtonEl =\n",
              "        document.querySelector('#' + key + ' button');\n",
              "      quickchartButtonEl.disabled = true;  // To prevent multiple clicks.\n",
              "      quickchartButtonEl.classList.add('colab-df-spinner');\n",
              "      try {\n",
              "        const charts = await google.colab.kernel.invokeFunction(\n",
              "            'suggestCharts', [key], {});\n",
              "      } catch (error) {\n",
              "        console.error('Error during call to suggestCharts:', error);\n",
              "      }\n",
              "      quickchartButtonEl.classList.remove('colab-df-spinner');\n",
              "      quickchartButtonEl.classList.add('colab-df-quickchart-complete');\n",
              "    }\n",
              "    (() => {\n",
              "      let quickchartButtonEl =\n",
              "        document.querySelector('#df-bbc6c149-83aa-463d-852a-0f7ac458e6e4 button');\n",
              "      quickchartButtonEl.style.display =\n",
              "        google.colab.kernel.accessAllowed ? 'block' : 'none';\n",
              "    })();\n",
              "  </script>\n",
              "</div>\n",
              "    </div>\n",
              "  </div>\n"
            ],
            "text/plain": [
              "                                country                     region  \\\n",
              "0                                Rwanda                     Rwanda   \n",
              "1                           El Salvador                El Salvador   \n",
              "2  The Democratic Republic of the Congo  Goma, North Kivu province   \n",
              "3                               Senegal                    Senegal   \n",
              "4                               Bolivia          La Paz  / El Alto   \n",
              "5                                  Peru                      Cusco   \n",
              "6                              Tanzania              Dar es Salaam   \n",
              "7                              Pakistan                     Lahore   \n",
              "8                               Vietnam                  Thanh Hoá   \n",
              "9                                  Iraq                       Iraq   \n",
              "\n",
              "   loan_amount  \n",
              "0   15931500.0  \n",
              "1   12588575.0  \n",
              "2    7397975.0  \n",
              "3    6991200.0  \n",
              "4    6838300.0  \n",
              "5    6222075.0  \n",
              "6    5113875.0  \n",
              "7    3984575.0  \n",
              "8    3718125.0  \n",
              "9    2618450.0  "
            ]
          },
          "execution_count": 90,
          "metadata": {},
          "output_type": "execute_result"
        }
      ],
      "source": [
        "# Group the data by country and region, and calculate the sum of loan amounts\n",
        "grouped_data = kivaloans.groupby(['country','region'])['loan_amount'].sum().sort_values(ascending=False).reset_index()\n",
        "\n",
        "# Find the region with the highest loan amount for each country\n",
        "max_loan_regions = grouped_data.loc[grouped_data.groupby('country')['loan_amount'].idxmax()]\\\n",
        "     .sort_values(by='loan_amount', ascending=False).head(10).reset_index(drop=True)\n",
        "\n",
        "# Display the result\n",
        "max_loan_regions"
      ]
    },
    {
      "cell_type": "code",
      "execution_count": null,
      "metadata": {
        "colab": {
          "background_save": true
        },
        "id": "HNqCaQ6IfCgd",
        "outputId": "2d83d35d-124c-44db-9465-d5fc1c480f8b"
      },
      "outputs": [
        {
          "data": {
            "image/png": "[encoded data removed]",
            "text/plain": [
              "<Figure size 1000x500 with 1 Axes>"
            ]
          },
          "metadata": {},
          "output_type": "display_data"
        }
      ],
      "source": [
        "plt.figure(figsize = (10,5))\n",
        "# Plot bar chart for hieghst countries loan amount\n",
        "sns.barplot(data=max_loan_regions, x='region', y='loan_amount')\n",
        "\n",
        "# Set the labels and title\n",
        "plt.xlabel('Region')\n",
        "plt.ylabel('Total Loan Amount')\n",
        "plt.title('Total Loan Amount Per Region')\n",
        "# Convert y-axis tick labels to millions\n",
        "plt.gca().yaxis.set_major_formatter(plt.FuncFormatter(lambda x, _: f'{x/1e6:.1f}M'))\n",
        "plt.xticks(rotation = 75)\n",
        "\n",
        "# Show the plot\n",
        "plt.show()"
      ]
    },
    {
      "cell_type": "markdown",
      "metadata": {
        "id": "HVNlH6yefCge"
      },
      "source": [
        "#### <span style=\"color:#000000; font-family:Georgia, serif;\">For each country, which common repayment interval?</span>"
      ]
    },
    {
      "cell_type": "code",
      "execution_count": null,
      "metadata": {
        "id": "faIUcqNMfCge"
      },
      "outputs": [],
      "source": [
        "common_repayment = kivaloans.groupby(['country','repayment_interval']).size().sort_values(ascending=False).reset_index(name='count').head(20)\n",
        "common_repayment"
      ]
    },
    {
      "cell_type": "code",
      "execution_count": null,
      "metadata": {
        "id": "ulKGcbmwfCge"
      },
      "outputs": [],
      "source": [
        "plt.figure(figsize = (10,5))\n",
        "# Plot bar chart for hieghst countries loan amount\n",
        "sns.barplot(data=common_repayment, x='country', y='count', hue='repayment_interval')\n",
        "\n",
        "# Set the labels and title\n",
        "plt.xlabel('Country')\n",
        "plt.ylabel('Count')\n",
        "plt.title('Repayment way Per Country')\n",
        "# Move the legend outside the plot\n",
        "plt.legend(bbox_to_anchor=(1.05, 1), loc='upper left')\n",
        "plt.xticks(rotation = 75)\n",
        "\n",
        "# Show the plot\n",
        "plt.show()"
      ]
    },
    {
      "cell_type": "markdown",
      "metadata": {
        "id": "5hb28d7SfCgf"
      },
      "source": [
        "#### <span style=\"color:#000000; font-family:Georgia, serif;\">For each country, What is the distribution of borrower_gender?</span>"
      ]
    },
    {
      "cell_type": "code",
      "execution_count": null,
      "metadata": {
        "id": "CaY9ScbBfCgf"
      },
      "outputs": [],
      "source": [
        "country_gender = kivaloans.groupby(['country','borrower_genders']).size().sort_values(ascending=False).reset_index(name='count').head(20)\n",
        "country_gender"
      ]
    },
    {
      "cell_type": "code",
      "execution_count": null,
      "metadata": {
        "id": "lWptIEjVfCgf"
      },
      "outputs": [],
      "source": [
        "plt.figure(figsize = (10,5))\n",
        "# Plot bar chart for borrower genders per countries\n",
        "sns.barplot(data=country_gender, x='country', y='count', hue='borrower_genders')\n",
        "\n",
        "# Set the labels and title\n",
        "plt.xlabel('Country')\n",
        "plt.ylabel('Count')\n",
        "plt.title('Borrower Genders Per Country')\n",
        "# Move the legend outside the plot\n",
        "plt.legend(bbox_to_anchor=(1.05, 1), loc='upper left')\n",
        "plt.xticks(rotation = 75)\n",
        "\n",
        "# Show the plot\n",
        "plt.show()"
      ]
    },
    {
      "cell_type": "markdown",
      "metadata": {
        "id": "MXbTCa7VfCgf"
      },
      "source": [
        "#### <span style=\"color:#000000; font-family:Georgia, serif;\">For each country, what is the most common sectors?</span>"
      ]
    },
    {
      "cell_type": "code",
      "execution_count": null,
      "metadata": {
        "id": "2meV9y4RfCgf"
      },
      "outputs": [],
      "source": [
        "common_sectors = kivaloans.groupby(['country','sector']).size().sort_values(ascending=False).reset_index(name='count').head(20)\n",
        "common_sectors"
      ]
    },
    {
      "cell_type": "code",
      "execution_count": null,
      "metadata": {
        "id": "c25QHGIUfCgg"
      },
      "outputs": [],
      "source": [
        "plt.figure(figsize = (10,5))\n",
        "# Plot bar chart for hieghst sectors per countries\n",
        "sns.barplot(data=common_sectors, x='country', y='count', hue='sector')\n",
        "\n",
        "# Set the labels and title\n",
        "plt.xlabel('Country')\n",
        "plt.ylabel('Count')\n",
        "plt.title('Sectors Per Country')\n",
        "# Move the legend outside the plot\n",
        "plt.legend(bbox_to_anchor=(1.05, 1), loc='upper left')\n",
        "plt.xticks(rotation = 75)\n",
        "\n",
        "# Show the plot\n",
        "plt.show()"
      ]
    },
    {
      "cell_type": "markdown",
      "metadata": {
        "id": "aVAbjqaufCgg"
      },
      "source": [
        "## <span style=\"color:#288BA8; font-family:Arial;\">Sectors:</span>"
      ]
    },
    {
      "cell_type": "markdown",
      "metadata": {
        "id": "Q7pQI6b4fCgg"
      },
      "source": [
        "#### <span style=\"color:#000000; font-family:Georgia, serif;\">According to activities, What is the Total loan amount for gender?</span>"
      ]
    },
    {
      "cell_type": "code",
      "execution_count": null,
      "metadata": {
        "colab": {
          "base_uri": "https://localhost:8080/",
          "height": 363
        },
        "id": "xq0RlUoUfCgg",
        "outputId": "b222f340-4df7-4a5a-8380-bd1b5bc8b3c4"
      },
      "outputs": [
        {
          "data": {
            "text/html": [
              "\n",
              "  <div id=\"df-ffe91894-dfd4-4cbc-99be-9eccf6ec9ba2\" class=\"colab-df-container\">\n",
              "    <div>\n",
              "<style scoped>\n",
              "    .dataframe tbody tr th:only-of-type {\n",
              "        vertical-align: middle;\n",
              "    }\n",
              "\n",
              "    .dataframe tbody tr th {\n",
              "        vertical-align: top;\n",
              "    }\n",
              "\n",
              "    .dataframe thead th {\n",
              "        text-align: right;\n",
              "    }\n",
              "</style>\n",
              "<table border=\"1\" class=\"dataframe\">\n",
              "  <thead>\n",
              "    <tr style=\"text-align: right;\">\n",
              "      <th></th>\n",
              "      <th>activity</th>\n",
              "      <th>borrower_genders</th>\n",
              "      <th>loan_amount</th>\n",
              "    </tr>\n",
              "  </thead>\n",
              "  <tbody>\n",
              "    <tr>\n",
              "      <th>0</th>\n",
              "      <td>General Store</td>\n",
              "      <td>female</td>\n",
              "      <td>24222475.0</td>\n",
              "    </tr>\n",
              "    <tr>\n",
              "      <th>1</th>\n",
              "      <td>Farming</td>\n",
              "      <td>both</td>\n",
              "      <td>19677600.0</td>\n",
              "    </tr>\n",
              "    <tr>\n",
              "      <th>2</th>\n",
              "      <td>Farming</td>\n",
              "      <td>female</td>\n",
              "      <td>19498275.0</td>\n",
              "    </tr>\n",
              "    <tr>\n",
              "      <th>3</th>\n",
              "      <td>Personal Housing Expenses</td>\n",
              "      <td>female</td>\n",
              "      <td>12995700.0</td>\n",
              "    </tr>\n",
              "    <tr>\n",
              "      <th>4</th>\n",
              "      <td>Retail</td>\n",
              "      <td>both</td>\n",
              "      <td>12749450.0</td>\n",
              "    </tr>\n",
              "    <tr>\n",
              "      <th>5</th>\n",
              "      <td>Farming</td>\n",
              "      <td>male</td>\n",
              "      <td>12242425.0</td>\n",
              "    </tr>\n",
              "    <tr>\n",
              "      <th>6</th>\n",
              "      <td>Clothing Sales</td>\n",
              "      <td>female</td>\n",
              "      <td>11320325.0</td>\n",
              "    </tr>\n",
              "    <tr>\n",
              "      <th>7</th>\n",
              "      <td>Clothing Sales</td>\n",
              "      <td>both</td>\n",
              "      <td>10885900.0</td>\n",
              "    </tr>\n",
              "    <tr>\n",
              "      <th>8</th>\n",
              "      <td>Higher education costs</td>\n",
              "      <td>female</td>\n",
              "      <td>10588475.0</td>\n",
              "    </tr>\n",
              "    <tr>\n",
              "      <th>9</th>\n",
              "      <td>Food Production/Sales</td>\n",
              "      <td>female</td>\n",
              "      <td>10138375.0</td>\n",
              "    </tr>\n",
              "  </tbody>\n",
              "</table>\n",
              "</div>\n",
              "    <div class=\"colab-df-buttons\">\n",
              "\n",
              "  <div class=\"colab-df-container\">\n",
              "    <button class=\"colab-df-convert\" onclick=\"convertToInteractive('df-ffe91894-dfd4-4cbc-99be-9eccf6ec9ba2')\"\n",
              "            title=\"Convert this dataframe to an interactive table.\"\n",
              "            style=\"display:none;\">\n",
              "\n",
              "  <svg xmlns=\"http://www.w3.org/2000/svg\" height=\"24px\" viewBox=\"0 -960 960 960\">\n",
              "    <path d=\"M120-120v-720h720v720H120Zm60-500h600v-160H180v160Zm220 220h160v-160H400v160Zm0 220h160v-160H400v160ZM180-400h160v-160H180v160Zm440 0h160v-160H620v160ZM180-180h160v-160H180v160Zm440 0h160v-160H620v160Z\"/>\n",
              "  </svg>\n",
              "    </button>\n",
              "\n",
              "  <style>\n",
              "    .colab-df-container {\n",
              "      display:flex;\n",
              "      gap: 12px;\n",
              "    }\n",
              "\n",
              "    .colab-df-convert {\n",
              "      background-color: #E8F0FE;\n",
              "      border: none;\n",
              "      border-radius: 50%;\n",
              "      cursor: pointer;\n",
              "      display: none;\n",
              "      fill: #1967D2;\n",
              "      height: 32px;\n",
              "      padding: 0 0 0 0;\n",
              "      width: 32px;\n",
              "    }\n",
              "\n",
              "    .colab-df-convert:hover {\n",
              "      background-color: #E2EBFA;\n",
              "      box-shadow: 0px 1px 2px rgba(60, 64, 67, 0.3), 0px 1px 3px 1px rgba(60, 64, 67, 0.15);\n",
              "      fill: #174EA6;\n",
              "    }\n",
              "\n",
              "    .colab-df-buttons div {\n",
              "      margin-bottom: 4px;\n",
              "    }\n",
              "\n",
              "    [theme=dark] .colab-df-convert {\n",
              "      background-color: #3B4455;\n",
              "      fill: #D2E3FC;\n",
              "    }\n",
              "\n",
              "    [theme=dark] .colab-df-convert:hover {\n",
              "      background-color: #434B5C;\n",
              "      box-shadow: 0px 1px 3px 1px rgba(0, 0, 0, 0.15);\n",
              "      filter: drop-shadow(0px 1px 2px rgba(0, 0, 0, 0.3));\n",
              "      fill: #FFFFFF;\n",
              "    }\n",
              "  </style>\n",
              "\n",
              "    <script>\n",
              "      const buttonEl =\n",
              "        document.querySelector('#df-ffe91894-dfd4-4cbc-99be-9eccf6ec9ba2 button.colab-df-convert');\n",
              "      buttonEl.style.display =\n",
              "        google.colab.kernel.accessAllowed ? 'block' : 'none';\n",
              "\n",
              "      async function convertToInteractive(key) {\n",
              "        const element = document.querySelector('#df-ffe91894-dfd4-4cbc-99be-9eccf6ec9ba2');\n",
              "        const dataTable =\n",
              "          await google.colab.kernel.invokeFunction('convertToInteractive',\n",
              "                                                    [key], {});\n",
              "        if (!dataTable) return;\n",
              "\n",
              "        const docLinkHtml = 'Like what you see? Visit the ' +\n",
              "          '<a target=\"_blank\" href=https://colab.research.google.com/notebooks/data_table.ipynb>data table notebook</a>'\n",
              "          + ' to learn more about interactive tables.';\n",
              "        element.innerHTML = '';\n",
              "        dataTable['output_type'] = 'display_data';\n",
              "        await google.colab.output.renderOutput(dataTable, element);\n",
              "        const docLink = document.createElement('div');\n",
              "        docLink.innerHTML = docLinkHtml;\n",
              "        element.appendChild(docLink);\n",
              "      }\n",
              "    </script>\n",
              "  </div>\n",
              "\n",
              "\n",
              "<div id=\"df-0e1e34e5-0d51-4f1e-a29d-bd10b9800a7e\">\n",
              "  <button class=\"colab-df-quickchart\" onclick=\"quickchart('df-0e1e34e5-0d51-4f1e-a29d-bd10b9800a7e')\"\n",
              "            title=\"Suggest charts\"\n",
              "            style=\"display:none;\">\n",
              "\n",
              "<svg xmlns=\"http://www.w3.org/2000/svg\" height=\"24px\"viewBox=\"0 0 24 24\"\n",
              "     width=\"24px\">\n",
              "    <g>\n",
              "        <path d=\"M19 3H5c-1.1 0-2 .9-2 2v14c0 1.1.9 2 2 2h14c1.1 0 2-.9 2-2V5c0-1.1-.9-2-2-2zM9 17H7v-7h2v7zm4 0h-2V7h2v10zm4 0h-2v-4h2v4z\"/>\n",
              "    </g>\n",
              "</svg>\n",
              "  </button>\n",
              "\n",
              "<style>\n",
              "  .colab-df-quickchart {\n",
              "      --bg-color: #E8F0FE;\n",
              "      --fill-color: #1967D2;\n",
              "      --hover-bg-color: #E2EBFA;\n",
              "      --hover-fill-color: #174EA6;\n",
              "      --disabled-fill-color: #AAA;\n",
              "      --disabled-bg-color: #DDD;\n",
              "  }\n",
              "\n",
              "  [theme=dark] .colab-df-quickchart {\n",
              "      --bg-color: #3B4455;\n",
              "      --fill-color: #D2E3FC;\n",
              "      --hover-bg-color: #434B5C;\n",
              "      --hover-fill-color: #FFFFFF;\n",
              "      --disabled-bg-color: #3B4455;\n",
              "      --disabled-fill-color: #666;\n",
              "  }\n",
              "\n",
              "  .colab-df-quickchart {\n",
              "    background-color: var(--bg-color);\n",
              "    border: none;\n",
              "    border-radius: 50%;\n",
              "    cursor: pointer;\n",
              "    display: none;\n",
              "    fill: var(--fill-color);\n",
              "    height: 32px;\n",
              "    padding: 0;\n",
              "    width: 32px;\n",
              "  }\n",
              "\n",
              "  .colab-df-quickchart:hover {\n",
              "    background-color: var(--hover-bg-color);\n",
              "    box-shadow: 0 1px 2px rgba(60, 64, 67, 0.3), 0 1px 3px 1px rgba(60, 64, 67, 0.15);\n",
              "    fill: var(--button-hover-fill-color);\n",
              "  }\n",
              "\n",
              "  .colab-df-quickchart-complete:disabled,\n",
              "  .colab-df-quickchart-complete:disabled:hover {\n",
              "    background-color: var(--disabled-bg-color);\n",
              "    fill: var(--disabled-fill-color);\n",
              "    box-shadow: none;\n",
              "  }\n",
              "\n",
              "  .colab-df-spinner {\n",
              "    border: 2px solid var(--fill-color);\n",
              "    border-color: transparent;\n",
              "    border-bottom-color: var(--fill-color);\n",
              "    animation:\n",
              "      spin 1s steps(1) infinite;\n",
              "  }\n",
              "\n",
              "  @keyframes spin {\n",
              "    0% {\n",
              "      border-color: transparent;\n",
              "      border-bottom-color: var(--fill-color);\n",
              "      border-left-color: var(--fill-color);\n",
              "    }\n",
              "    20% {\n",
              "      border-color: transparent;\n",
              "      border-left-color: var(--fill-color);\n",
              "      border-top-color: var(--fill-color);\n",
              "    }\n",
              "    30% {\n",
              "      border-color: transparent;\n",
              "      border-left-color: var(--fill-color);\n",
              "      border-top-color: var(--fill-color);\n",
              "      border-right-color: var(--fill-color);\n",
              "    }\n",
              "    40% {\n",
              "      border-color: transparent;\n",
              "      border-right-color: var(--fill-color);\n",
              "      border-top-color: var(--fill-color);\n",
              "    }\n",
              "    60% {\n",
              "      border-color: transparent;\n",
              "      border-right-color: var(--fill-color);\n",
              "    }\n",
              "    80% {\n",
              "      border-color: transparent;\n",
              "      border-right-color: var(--fill-color);\n",
              "      border-bottom-color: var(--fill-color);\n",
              "    }\n",
              "    90% {\n",
              "      border-color: transparent;\n",
              "      border-bottom-color: var(--fill-color);\n",
              "    }\n",
              "  }\n",
              "</style>\n",
              "\n",
              "  <script>\n",
              "    async function quickchart(key) {\n",
              "      const quickchartButtonEl =\n",
              "        document.querySelector('#' + key + ' button');\n",
              "      quickchartButtonEl.disabled = true;  // To prevent multiple clicks.\n",
              "      quickchartButtonEl.classList.add('colab-df-spinner');\n",
              "      try {\n",
              "        const charts = await google.colab.kernel.invokeFunction(\n",
              "            'suggestCharts', [key], {});\n",
              "      } catch (error) {\n",
              "        console.error('Error during call to suggestCharts:', error);\n",
              "      }\n",
              "      quickchartButtonEl.classList.remove('colab-df-spinner');\n",
              "      quickchartButtonEl.classList.add('colab-df-quickchart-complete');\n",
              "    }\n",
              "    (() => {\n",
              "      let quickchartButtonEl =\n",
              "        document.querySelector('#df-0e1e34e5-0d51-4f1e-a29d-bd10b9800a7e button');\n",
              "      quickchartButtonEl.style.display =\n",
              "        google.colab.kernel.accessAllowed ? 'block' : 'none';\n",
              "    })();\n",
              "  </script>\n",
              "</div>\n",
              "    </div>\n",
              "  </div>\n"
            ],
            "text/plain": [
              "                    activity borrower_genders  loan_amount\n",
              "0              General Store           female   24222475.0\n",
              "1                    Farming             both   19677600.0\n",
              "2                    Farming           female   19498275.0\n",
              "3  Personal Housing Expenses           female   12995700.0\n",
              "4                     Retail             both   12749450.0\n",
              "5                    Farming             male   12242425.0\n",
              "6             Clothing Sales           female   11320325.0\n",
              "7             Clothing Sales             both   10885900.0\n",
              "8     Higher education costs           female   10588475.0\n",
              "9      Food Production/Sales           female   10138375.0"
            ]
          },
          "execution_count": 88,
          "metadata": {},
          "output_type": "execute_result"
        }
      ],
      "source": [
        "#for data with one borrower\n",
        "gender_activities = kivaloans.groupby(['activity', 'borrower_genders'])['loan_amount'].sum()\\\n",
        "        .sort_values(ascending = False).head(10).reset_index()\n",
        "gender_activities"
      ]
    },
    {
      "cell_type": "code",
      "execution_count": null,
      "metadata": {
        "colab": {
          "base_uri": "https://localhost:8080/",
          "height": 687
        },
        "id": "gNDKZFdGfCgh",
        "outputId": "7c7b91d4-9bd1-412d-bfea-61d8fb5fa0ef"
      },
      "outputs": [
        {
          "data": {
            "image/png": "[encoded data removed]",
            "text/plain": [
              "<Figure size 1000x500 with 1 Axes>"
            ]
          },
          "metadata": {},
          "output_type": "display_data"
        }
      ],
      "source": [
        "plt.figure(figsize = (10,5))\n",
        "# Plot bar chart for hieghst countries loan amount\n",
        "sns.barplot(data=gender_activities, x='activity', y='loan_amount', hue='borrower_genders')\n",
        "\n",
        "# Set the labels and title\n",
        "plt.xlabel('activity')\n",
        "plt.ylabel('Total Loan Amount')\n",
        "plt.title('Loan Amount Per activity For Genders')\n",
        "plt.xticks(rotation = 75)\n",
        "# Move the legend outside the plot\n",
        "plt.legend(bbox_to_anchor=(1.05, 1), loc='upper left')\n",
        "# Convert y-axis tick labels to millions\n",
        "plt.gca().yaxis.set_major_formatter(plt.FuncFormatter(lambda x, _: f'{x/1e6:.1f}M'))\n",
        "# Show the plot\n",
        "plt.show()"
      ]
    },
    {
      "cell_type": "markdown",
      "metadata": {
        "id": "_1boNU_OfCgh"
      },
      "source": [
        "#### <span style=\"color:#000000; font-family:Georgia, serif;\">What sector got the most loans?</span>"
      ]
    },
    {
      "cell_type": "code",
      "execution_count": null,
      "metadata": {
        "id": "iooSv0lAfCgh"
      },
      "outputs": [],
      "source": [
        "sector_loan_amount = kivaloans.groupby('sector')['loan_amount'].sum()\\\n",
        "        .sort_values(ascending = False).head(10).reset_index()\n",
        "sector_loan_amount"
      ]
    },
    {
      "cell_type": "code",
      "execution_count": null,
      "metadata": {
        "id": "5dUDi80ffCgi"
      },
      "outputs": [],
      "source": [
        "plt.figure(figsize = (10,5))\n",
        "# Plot bar chart for hieghst countries loan amount\n",
        "sns.barplot(data=sector_loan_amount, x='sector', y='loan_amount')\n",
        "\n",
        "# Set the labels and title\n",
        "plt.xlabel('Sector')\n",
        "plt.ylabel('Total Loan Amount')\n",
        "plt.title('Loan Amount Per Sector')\n",
        "# Convert y-axis tick labels to millions\n",
        "plt.gca().yaxis.set_major_formatter(plt.FuncFormatter(lambda x, _: f'{x/1e6:.1f}M'))\n",
        "# Show the plot\n",
        "plt.show()"
      ]
    },
    {
      "cell_type": "markdown",
      "metadata": {
        "id": "6BcOqERwfCgi"
      },
      "source": [
        "#### <span style=\"color:#000000; font-family:Georgia, serif;\">For each sector, What is the distribution of borrower_gender?</span>"
      ]
    },
    {
      "cell_type": "code",
      "execution_count": null,
      "metadata": {
        "id": "BJ__CudQfCgi"
      },
      "outputs": [],
      "source": [
        "sector_gender = kivaloans.groupby(['sector','borrower_genders']).size().sort_values(ascending=False).reset_index(name='count').head(20)\n",
        "sector_gender"
      ]
    },
    {
      "cell_type": "code",
      "execution_count": null,
      "metadata": {
        "id": "vO0xIvaofCgi"
      },
      "outputs": [],
      "source": [
        "plt.figure(figsize = (10,5))\n",
        "# Plot bar chart for borrower genders per sectors\n",
        "sns.barplot(data=sector_gender, x='sector', y='count', hue='borrower_genders')\n",
        "\n",
        "# Set the labels and title\n",
        "plt.xlabel('Sector')\n",
        "plt.ylabel('Count')\n",
        "plt.title('Borrower Genders Per Sector')\n",
        "# Move the legend outside the plot\n",
        "plt.legend(bbox_to_anchor=(1.05, 1), loc='upper left')\n",
        "plt.xticks(rotation = 75)\n",
        "\n",
        "# Show the plot\n",
        "plt.show()"
      ]
    },
    {
      "cell_type": "markdown",
      "metadata": {
        "id": "ZmFdnfQ4fCgj"
      },
      "source": [
        "#### <span style=\"color:#000000; font-family:Georgia, serif;\">For the top sector, what activity had the highest amount of loans?</span>"
      ]
    },
    {
      "cell_type": "code",
      "execution_count": null,
      "metadata": {
        "id": "FjbEaL8-fCgk"
      },
      "outputs": [],
      "source": [
        "# Agriculture sector data\n",
        "top_sector= kivaloans[kivaloans['sector']=='Agriculture']"
      ]
    },
    {
      "cell_type": "code",
      "execution_count": null,
      "metadata": {
        "id": "yyiTj8xPfCgk"
      },
      "outputs": [],
      "source": [
        "# Agriculture sector activities grouping data\n",
        "sector_loan_activity = top_sector.groupby('activity')[['loan_amount']].sum().sort_values(by='loan_amount',ascending= False).reset_index().head(10)\n",
        "sector_loan_activity"
      ]
    },
    {
      "cell_type": "code",
      "execution_count": null,
      "metadata": {
        "id": "JtubaHZgfCgk"
      },
      "outputs": [],
      "source": [
        "plt.figure(figsize = (10,5))\n",
        "# Plot bar chart for hieghst activities loan amount\n",
        "sns.barplot(data=sector_loan_activity, x='activity', y='loan_amount')\n",
        "\n",
        "# Set the labels and title\n",
        "plt.xlabel('Activity')\n",
        "plt.ylabel('Total Loan Amount')\n",
        "plt.title('Agriculture Activities Loan Amount')\n",
        "# Convert y-axis tick labels to millions\n",
        "plt.gca().yaxis.set_major_formatter(plt.FuncFormatter(lambda x, _: f'{x/1e6:.1f}M'))\n",
        "# Show the plot\n",
        "plt.show()"
      ]
    },
    {
      "cell_type": "markdown",
      "metadata": {
        "id": "jm5uvc_QfCgl"
      },
      "source": [
        "## <span style=\"color:#288BA8; font-family:Arial;\">Partners:</span>"
      ]
    },
    {
      "cell_type": "markdown",
      "metadata": {
        "id": "WdB8DapvfCgl"
      },
      "source": [
        "#### <span style=\"color:#000000; font-family:Georgia, serif;\">Who are the most dominant field partners?</span>"
      ]
    },
    {
      "cell_type": "code",
      "execution_count": null,
      "metadata": {
        "id": "TAVxPQJdfCgl"
      },
      "outputs": [],
      "source": [
        "kivaloans['partner_id'].value_counts()"
      ]
    },
    {
      "cell_type": "code",
      "execution_count": null,
      "metadata": {
        "colab": {
          "base_uri": "https://localhost:8080/",
          "height": 252
        },
        "id": "IzkKSPyJfCgl",
        "outputId": "976b8ef7-04f3-469b-f06f-e9724df25330"
      },
      "outputs": [
        {
          "data": {
            "text/html": [
              "\n",
              "  <div id=\"df-26e549ce-e481-45d5-9585-a3eb39a96b7c\" class=\"colab-df-container\">\n",
              "    <div>\n",
              "<style scoped>\n",
              "    .dataframe tbody tr th:only-of-type {\n",
              "        vertical-align: middle;\n",
              "    }\n",
              "\n",
              "    .dataframe tbody tr th {\n",
              "        vertical-align: top;\n",
              "    }\n",
              "\n",
              "    .dataframe thead th {\n",
              "        text-align: right;\n",
              "    }\n",
              "</style>\n",
              "<table border=\"1\" class=\"dataframe\">\n",
              "  <thead>\n",
              "    <tr style=\"text-align: right;\">\n",
              "      <th></th>\n",
              "      <th>Partner ID</th>\n",
              "      <th>Field Partner Name</th>\n",
              "      <th>sector</th>\n",
              "      <th>Loan Theme ID</th>\n",
              "      <th>Loan Theme Type</th>\n",
              "      <th>country</th>\n",
              "      <th>forkiva</th>\n",
              "      <th>region</th>\n",
              "      <th>geocode_old</th>\n",
              "      <th>ISO</th>\n",
              "      <th>...</th>\n",
              "      <th>amount</th>\n",
              "      <th>LocationName</th>\n",
              "      <th>geocode</th>\n",
              "      <th>names</th>\n",
              "      <th>geo</th>\n",
              "      <th>lat</th>\n",
              "      <th>lon</th>\n",
              "      <th>mpi_region</th>\n",
              "      <th>mpi_geo</th>\n",
              "      <th>rural_pct</th>\n",
              "    </tr>\n",
              "  </thead>\n",
              "  <tbody>\n",
              "    <tr>\n",
              "      <th>12098</th>\n",
              "      <td>239</td>\n",
              "      <td>Agro &amp; Social Fund</td>\n",
              "      <td>General Financial Inclusion</td>\n",
              "      <td>a1050000000SyQ9</td>\n",
              "      <td>Vulnerable Populations</td>\n",
              "      <td>Albania</td>\n",
              "      <td>No</td>\n",
              "      <td>Lezhe</td>\n",
              "      <td>NaN</td>\n",
              "      <td>ALB</td>\n",
              "      <td>...</td>\n",
              "      <td>10950</td>\n",
              "      <td>Lezhe, Albania</td>\n",
              "      <td>[(41.78607299999999, 19.6460758)]</td>\n",
              "      <td>LezhÍä District; LezhÍä District; LezhÍä Count...</td>\n",
              "      <td>(41.78607299999999, 19.6460758)</td>\n",
              "      <td>41.786073</td>\n",
              "      <td>19.646076</td>\n",
              "      <td>ALB</td>\n",
              "      <td>NaN</td>\n",
              "      <td>69.0</td>\n",
              "    </tr>\n",
              "  </tbody>\n",
              "</table>\n",
              "<p>1 rows × 21 columns</p>\n",
              "</div>\n",
              "    <div class=\"colab-df-buttons\">\n",
              "\n",
              "  <div class=\"colab-df-container\">\n",
              "    <button class=\"colab-df-convert\" onclick=\"convertToInteractive('df-26e549ce-e481-45d5-9585-a3eb39a96b7c')\"\n",
              "            title=\"Convert this dataframe to an interactive table.\"\n",
              "            style=\"display:none;\">\n",
              "\n",
              "  <svg xmlns=\"http://www.w3.org/2000/svg\" height=\"24px\" viewBox=\"0 -960 960 960\">\n",
              "    <path d=\"M120-120v-720h720v720H120Zm60-500h600v-160H180v160Zm220 220h160v-160H400v160Zm0 220h160v-160H400v160ZM180-400h160v-160H180v160Zm440 0h160v-160H620v160ZM180-180h160v-160H180v160Zm440 0h160v-160H620v160Z\"/>\n",
              "  </svg>\n",
              "    </button>\n",
              "\n",
              "  <style>\n",
              "    .colab-df-container {\n",
              "      display:flex;\n",
              "      gap: 12px;\n",
              "    }\n",
              "\n",
              "    .colab-df-convert {\n",
              "      background-color: #E8F0FE;\n",
              "      border: none;\n",
              "      border-radius: 50%;\n",
              "      cursor: pointer;\n",
              "      display: none;\n",
              "      fill: #1967D2;\n",
              "      height: 32px;\n",
              "      padding: 0 0 0 0;\n",
              "      width: 32px;\n",
              "    }\n",
              "\n",
              "    .colab-df-convert:hover {\n",
              "      background-color: #E2EBFA;\n",
              "      box-shadow: 0px 1px 2px rgba(60, 64, 67, 0.3), 0px 1px 3px 1px rgba(60, 64, 67, 0.15);\n",
              "      fill: #174EA6;\n",
              "    }\n",
              "\n",
              "    .colab-df-buttons div {\n",
              "      margin-bottom: 4px;\n",
              "    }\n",
              "\n",
              "    [theme=dark] .colab-df-convert {\n",
              "      background-color: #3B4455;\n",
              "      fill: #D2E3FC;\n",
              "    }\n",
              "\n",
              "    [theme=dark] .colab-df-convert:hover {\n",
              "      background-color: #434B5C;\n",
              "      box-shadow: 0px 1px 3px 1px rgba(0, 0, 0, 0.15);\n",
              "      filter: drop-shadow(0px 1px 2px rgba(0, 0, 0, 0.3));\n",
              "      fill: #FFFFFF;\n",
              "    }\n",
              "  </style>\n",
              "\n",
              "    <script>\n",
              "      const buttonEl =\n",
              "        document.querySelector('#df-26e549ce-e481-45d5-9585-a3eb39a96b7c button.colab-df-convert');\n",
              "      buttonEl.style.display =\n",
              "        google.colab.kernel.accessAllowed ? 'block' : 'none';\n",
              "\n",
              "      async function convertToInteractive(key) {\n",
              "        const element = document.querySelector('#df-26e549ce-e481-45d5-9585-a3eb39a96b7c');\n",
              "        const dataTable =\n",
              "          await google.colab.kernel.invokeFunction('convertToInteractive',\n",
              "                                                    [key], {});\n",
              "        if (!dataTable) return;\n",
              "\n",
              "        const docLinkHtml = 'Like what you see? Visit the ' +\n",
              "          '<a target=\"_blank\" href=https://colab.research.google.com/notebooks/data_table.ipynb>data table notebook</a>'\n",
              "          + ' to learn more about interactive tables.';\n",
              "        element.innerHTML = '';\n",
              "        dataTable['output_type'] = 'display_data';\n",
              "        await google.colab.output.renderOutput(dataTable, element);\n",
              "        const docLink = document.createElement('div');\n",
              "        docLink.innerHTML = docLinkHtml;\n",
              "        element.appendChild(docLink);\n",
              "      }\n",
              "    </script>\n",
              "  </div>\n",
              "\n",
              "    </div>\n",
              "  </div>\n"
            ],
            "text/plain": [
              "       Partner ID  Field Partner Name                       sector  \\\n",
              "12098         239  Agro & Social Fund  General Financial Inclusion   \n",
              "\n",
              "         Loan Theme ID         Loan Theme Type  country forkiva region  \\\n",
              "12098  a1050000000SyQ9  Vulnerable Populations  Albania      No  Lezhe   \n",
              "\n",
              "      geocode_old  ISO  ...  amount    LocationName  \\\n",
              "12098         NaN  ALB  ...   10950  Lezhe, Albania   \n",
              "\n",
              "                                 geocode  \\\n",
              "12098  [(41.78607299999999, 19.6460758)]   \n",
              "\n",
              "                                                   names  \\\n",
              "12098  LezhÍä District; LezhÍä District; LezhÍä Count...   \n",
              "\n",
              "                                   geo        lat        lon  mpi_region  \\\n",
              "12098  (41.78607299999999, 19.6460758)  41.786073  19.646076         ALB   \n",
              "\n",
              "      mpi_geo rural_pct  \n",
              "12098     NaN      69.0  \n",
              "\n",
              "[1 rows x 21 columns]"
            ]
          },
          "execution_count": 120,
          "metadata": {},
          "output_type": "execute_result"
        }
      ],
      "source": [
        "partners.sample()"
      ]
    },
    {
      "cell_type": "code",
      "execution_count": null,
      "metadata": {
        "colab": {
          "base_uri": "https://localhost:8080/"
        },
        "id": "fjZfS651fCgl",
        "outputId": "ec40940a-a839-4655-bb0b-0a13c2a8c3ee"
      },
      "outputs": [
        {
          "data": {
            "text/plain": [
              "7290    Negros Women for Tomorrow Foundation (NWTF)\n",
              "7291    Negros Women for Tomorrow Foundation (NWTF)\n",
              "7292    Negros Women for Tomorrow Foundation (NWTF)\n",
              "7293    Negros Women for Tomorrow Foundation (NWTF)\n",
              "7294    Negros Women for Tomorrow Foundation (NWTF)\n",
              "                           ...                     \n",
              "7585    Negros Women for Tomorrow Foundation (NWTF)\n",
              "7586    Negros Women for Tomorrow Foundation (NWTF)\n",
              "7587    Negros Women for Tomorrow Foundation (NWTF)\n",
              "7588    Negros Women for Tomorrow Foundation (NWTF)\n",
              "7589    Negros Women for Tomorrow Foundation (NWTF)\n",
              "Name: Field Partner Name, Length: 300, dtype: object"
            ]
          },
          "execution_count": 121,
          "metadata": {},
          "output_type": "execute_result"
        }
      ],
      "source": [
        "partners[partners['Partner ID']==145]['Field Partner Name']"
      ]
    },
    {
      "cell_type": "markdown",
      "metadata": {
        "id": "yMkoB34ZfCgm"
      },
      "source": [
        "<span style=\"color:navy; font-family:Ari4al; font-weight: bold;\">This shows that Negros Women for Tomorrow Foundation (NWTF) institution is the most dominant field partners</span>"
      ]
    },
    {
      "cell_type": "markdown",
      "metadata": {
        "id": "XSm-e9qufCgm"
      },
      "source": [
        "#### <span style=\"color:#000000; font-family:Georgia, serif;\">For each country, What is the number of partners according to sectors?</span>"
      ]
    },
    {
      "cell_type": "code",
      "execution_count": null,
      "metadata": {
        "id": "4NkuvyzFfCgm"
      },
      "outputs": [],
      "source": [
        "country_sector_partener= kivaloans.groupby(['country', 'sector'])['partner_id'].count()\\\n",
        "    .sort_values(ascending=False).reset_index(name='count').head(20)\n",
        "country_sector_partener"
      ]
    },
    {
      "cell_type": "code",
      "execution_count": null,
      "metadata": {
        "id": "3WFRJn5IfCgm"
      },
      "outputs": [],
      "source": [
        "plt.figure(figsize = (10,5))\n",
        "# Plot bar chart for Partners number Per Sector For Each Country\n",
        "sns.barplot(data=country_sector_partener, x='country', y='count', hue='sector')\n",
        "\n",
        "# Set the labels and title\n",
        "plt.xlabel('Country')\n",
        "plt.ylabel('Partners Count')\n",
        "plt.title('Partners number Per Sector For Each Country')\n",
        "# Move the legend outside the plot\n",
        "plt.legend(bbox_to_anchor=(1.05, 1), loc='upper left')\n",
        "plt.xticks(rotation = 75)\n",
        "\n",
        "# Show the plot\n",
        "plt.show()"
      ]
    },
    {
      "cell_type": "markdown",
      "metadata": {
        "id": "uqI8lD05fCgn"
      },
      "source": [
        "#### <span style=\"color:#000000; font-family:Georgia, serif;\">What are the sectors funded by the most dominant field partners?</span>"
      ]
    },
    {
      "cell_type": "code",
      "execution_count": null,
      "metadata": {
        "id": "GhHp88urfCgn"
      },
      "outputs": [],
      "source": [
        "top_partner_sectors= kivaloans[kivaloans['partner_id']==145].groupby('sector')['funded_amount'].sum().sort_values(ascending=False).reset_index(name='total')\n",
        "top_partner_sectors"
      ]
    },
    {
      "cell_type": "code",
      "execution_count": null,
      "metadata": {
        "id": "UNiMaGwLfCgn"
      },
      "outputs": [],
      "source": [
        "plt.figure(figsize = (10,5))\n",
        "# Plot bar chart for Partners number Per Sector For Each Country\n",
        "sns.barplot(data=top_partner_sectors, x='sector', y='total')\n",
        "\n",
        "# Set the labels and title\n",
        "plt.xlabel('Sector')\n",
        "plt.ylabel('Total Funded Amount')\n",
        "plt.title('Negros Women for Tomorrow Foundation Total Funded per sectors')\n",
        "# Convert y-axis tick labels to millions\n",
        "plt.gca().yaxis.set_major_formatter(plt.FuncFormatter(lambda x, _: f'{x/1e6:.1f}M'))\n",
        "plt.xticks(rotation = 75)\n",
        "\n",
        "# Show the plot\n",
        "plt.show()"
      ]
    },
    {
      "cell_type": "markdown",
      "metadata": {
        "id": "0nUFo18UfCgn"
      },
      "source": [
        "## <span style=\"color:#288BA8; font-family:Arial;\">Grouped Borrower:</span>"
      ]
    },
    {
      "cell_type": "markdown",
      "metadata": {
        "id": "-vSww9U6fCgn"
      },
      "source": [
        "#### <span style=\"color:#000000; font-family:Georgia, serif;\">What is the most sectors have grouped_borrower?</span>"
      ]
    },
    {
      "cell_type": "code",
      "execution_count": null,
      "metadata": {
        "colab": {
          "base_uri": "https://localhost:8080/"
        },
        "id": "vmaerXNJfCgo",
        "outputId": "7a1c3649-8df8-4480-a3a7-1d4e1b84c997"
      },
      "outputs": [
        {
          "data": {
            "text/plain": [
              "Agriculture       31486\n",
              "Food              22573\n",
              "Personal Use      19555\n",
              "Retail            12940\n",
              "Clothing           7025\n",
              "Services           4254\n",
              "Housing            2194\n",
              "Arts               1937\n",
              "Education          1018\n",
              "Health              969\n",
              "Manufacturing       619\n",
              "Construction        595\n",
              "Transportation      515\n",
              "Wholesale            53\n",
              "Entertainment        36\n",
              "Name: sector, dtype: int64"
            ]
          },
          "execution_count": 126,
          "metadata": {},
          "output_type": "execute_result"
        }
      ],
      "source": [
        "kivaloans[kivaloans['borrower_genders']=='both']['sector'].value_counts().sort_values(ascending=False)"
      ]
    },
    {
      "cell_type": "markdown",
      "metadata": {
        "id": "xk5kUCikfCgo"
      },
      "source": [
        "#### <span style=\"color:navy; font-family:'Gill Sans Extrabold', sans-serif; font-weight: bold;\">This shows that Grouped borrowered does not related with any sectors</span>"
      ]
    },
    {
      "cell_type": "markdown",
      "metadata": {
        "id": "yvpIqmrNfCgo"
      },
      "source": [
        "#### <span style=\"color:#000000; font-family:Georgia, serif;\">What is the most countries have grouped_borrower?</span>"
      ]
    },
    {
      "cell_type": "code",
      "execution_count": null,
      "metadata": {
        "id": "hp5dFU8gfCgo"
      },
      "outputs": [],
      "source": [
        "grouped_borrower= kivaloans[kivaloans['borrower_genders']=='both']['country'].value_counts().sort_values(ascending=False)\\\n",
        ".head(10).rename_axis('country').reset_index(name='count')\n",
        "grouped_borrower"
      ]
    },
    {
      "cell_type": "code",
      "execution_count": null,
      "metadata": {
        "id": "TwyZ45J2fCgo"
      },
      "outputs": [],
      "source": [
        "plt.figure(figsize = (10,5))\n",
        "# Plot bar chart for Grouped Borroer Loans Per Country\n",
        "sns.barplot(data=grouped_borrower, x='country', y='count')\n",
        "\n",
        "# Set the labels and title\n",
        "plt.xlabel('Country')\n",
        "plt.ylabel('Loan Count')\n",
        "plt.title('Grouped Borroer Loans Per Country')\n",
        "plt.xticks(rotation = 75)\n",
        "\n",
        "# Show the plot\n",
        "plt.show()\n"
      ]
    },
    {
      "cell_type": "markdown",
      "metadata": {
        "id": "_OHMwQdcfCgp"
      },
      "source": [
        "#### <span style=\"color:navy; font-family:Ari4al; font-weight: bold;\">This shows that the country of Cambodia, followed by Kenya, has the most grouped borrowed loans, and this is likely due to the decline of the currency against the dollar, as the dollar is equal to 4133.46 Cambodian riyals</span>"
      ]
    },
    {
      "cell_type": "markdown",
      "metadata": {
        "id": "53-1KMJxfCgp"
      },
      "source": [
        "#### <span style=\"color:navy; font-family:Ari4al; font-weight: bold;\">Now, We will see The Total loans amount for one borrower and grouped borrwer in both of cambodia and kenya</span>"
      ]
    },
    {
      "cell_type": "code",
      "execution_count": null,
      "metadata": {
        "colab": {
          "base_uri": "https://localhost:8080/",
          "height": 149
        },
        "id": "FQ5IW1d3fCgp",
        "outputId": "6f54f39d-f284-4b9c-f427-24d782429b30"
      },
      "outputs": [
        {
          "data": {
            "text/html": [
              "\n",
              "  <div id=\"df-cc42a40c-8dbe-4929-a86a-b103f06dcb26\" class=\"colab-df-container\">\n",
              "    <div>\n",
              "<style scoped>\n",
              "    .dataframe tbody tr th:only-of-type {\n",
              "        vertical-align: middle;\n",
              "    }\n",
              "\n",
              "    .dataframe tbody tr th {\n",
              "        vertical-align: top;\n",
              "    }\n",
              "\n",
              "    .dataframe thead th {\n",
              "        text-align: right;\n",
              "    }\n",
              "</style>\n",
              "<table border=\"1\" class=\"dataframe\">\n",
              "  <thead>\n",
              "    <tr style=\"text-align: right;\">\n",
              "      <th></th>\n",
              "      <th>id</th>\n",
              "      <th>funded_amount</th>\n",
              "      <th>loan_amount</th>\n",
              "      <th>activity</th>\n",
              "      <th>sector</th>\n",
              "      <th>use</th>\n",
              "      <th>country</th>\n",
              "      <th>region</th>\n",
              "      <th>currency</th>\n",
              "      <th>partner_id</th>\n",
              "      <th>posted_time</th>\n",
              "      <th>disbursed_time</th>\n",
              "      <th>funded_time</th>\n",
              "      <th>loan_months</th>\n",
              "      <th>lender_count</th>\n",
              "      <th>borrower_genders</th>\n",
              "      <th>repayment_interval</th>\n",
              "      <th>disbursed_date</th>\n",
              "      <th>borrower_count</th>\n",
              "    </tr>\n",
              "    <tr>\n",
              "      <th>date</th>\n",
              "      <th></th>\n",
              "      <th></th>\n",
              "      <th></th>\n",
              "      <th></th>\n",
              "      <th></th>\n",
              "      <th></th>\n",
              "      <th></th>\n",
              "      <th></th>\n",
              "      <th></th>\n",
              "      <th></th>\n",
              "      <th></th>\n",
              "      <th></th>\n",
              "      <th></th>\n",
              "      <th></th>\n",
              "      <th></th>\n",
              "      <th></th>\n",
              "      <th></th>\n",
              "      <th></th>\n",
              "      <th></th>\n",
              "    </tr>\n",
              "  </thead>\n",
              "  <tbody>\n",
              "    <tr>\n",
              "      <th>2017-03-29</th>\n",
              "      <td>1268981</td>\n",
              "      <td>300.0</td>\n",
              "      <td>300.0</td>\n",
              "      <td>Cereals</td>\n",
              "      <td>Food</td>\n",
              "      <td>to buy cereals.</td>\n",
              "      <td>Kenya</td>\n",
              "      <td>Chuka</td>\n",
              "      <td>KES</td>\n",
              "      <td>156</td>\n",
              "      <td>2017-03-29 05:20:08+00:00</td>\n",
              "      <td>2017-03-25 07:00:00+00:00</td>\n",
              "      <td>2017-05-02 05:48:15+00:00</td>\n",
              "      <td>14</td>\n",
              "      <td>11</td>\n",
              "      <td>female</td>\n",
              "      <td>monthly</td>\n",
              "      <td>2017-03-25</td>\n",
              "      <td>1</td>\n",
              "    </tr>\n",
              "  </tbody>\n",
              "</table>\n",
              "</div>\n",
              "    <div class=\"colab-df-buttons\">\n",
              "\n",
              "  <div class=\"colab-df-container\">\n",
              "    <button class=\"colab-df-convert\" onclick=\"convertToInteractive('df-cc42a40c-8dbe-4929-a86a-b103f06dcb26')\"\n",
              "            title=\"Convert this dataframe to an interactive table.\"\n",
              "            style=\"display:none;\">\n",
              "\n",
              "  <svg xmlns=\"http://www.w3.org/2000/svg\" height=\"24px\" viewBox=\"0 -960 960 960\">\n",
              "    <path d=\"M120-120v-720h720v720H120Zm60-500h600v-160H180v160Zm220 220h160v-160H400v160Zm0 220h160v-160H400v160ZM180-400h160v-160H180v160Zm440 0h160v-160H620v160ZM180-180h160v-160H180v160Zm440 0h160v-160H620v160Z\"/>\n",
              "  </svg>\n",
              "    </button>\n",
              "\n",
              "  <style>\n",
              "    .colab-df-container {\n",
              "      display:flex;\n",
              "      gap: 12px;\n",
              "    }\n",
              "\n",
              "    .colab-df-convert {\n",
              "      background-color: #E8F0FE;\n",
              "      border: none;\n",
              "      border-radius: 50%;\n",
              "      cursor: pointer;\n",
              "      display: none;\n",
              "      fill: #1967D2;\n",
              "      height: 32px;\n",
              "      padding: 0 0 0 0;\n",
              "      width: 32px;\n",
              "    }\n",
              "\n",
              "    .colab-df-convert:hover {\n",
              "      background-color: #E2EBFA;\n",
              "      box-shadow: 0px 1px 2px rgba(60, 64, 67, 0.3), 0px 1px 3px 1px rgba(60, 64, 67, 0.15);\n",
              "      fill: #174EA6;\n",
              "    }\n",
              "\n",
              "    .colab-df-buttons div {\n",
              "      margin-bottom: 4px;\n",
              "    }\n",
              "\n",
              "    [theme=dark] .colab-df-convert {\n",
              "      background-color: #3B4455;\n",
              "      fill: #D2E3FC;\n",
              "    }\n",
              "\n",
              "    [theme=dark] .colab-df-convert:hover {\n",
              "      background-color: #434B5C;\n",
              "      box-shadow: 0px 1px 3px 1px rgba(0, 0, 0, 0.15);\n",
              "      filter: drop-shadow(0px 1px 2px rgba(0, 0, 0, 0.3));\n",
              "      fill: #FFFFFF;\n",
              "    }\n",
              "  </style>\n",
              "\n",
              "    <script>\n",
              "      const buttonEl =\n",
              "        document.querySelector('#df-cc42a40c-8dbe-4929-a86a-b103f06dcb26 button.colab-df-convert');\n",
              "      buttonEl.style.display =\n",
              "        google.colab.kernel.accessAllowed ? 'block' : 'none';\n",
              "\n",
              "      async function convertToInteractive(key) {\n",
              "        const element = document.querySelector('#df-cc42a40c-8dbe-4929-a86a-b103f06dcb26');\n",
              "        const dataTable =\n",
              "          await google.colab.kernel.invokeFunction('convertToInteractive',\n",
              "                                                    [key], {});\n",
              "        if (!dataTable) return;\n",
              "\n",
              "        const docLinkHtml = 'Like what you see? Visit the ' +\n",
              "          '<a target=\"_blank\" href=https://colab.research.google.com/notebooks/data_table.ipynb>data table notebook</a>'\n",
              "          + ' to learn more about interactive tables.';\n",
              "        element.innerHTML = '';\n",
              "        dataTable['output_type'] = 'display_data';\n",
              "        await google.colab.output.renderOutput(dataTable, element);\n",
              "        const docLink = document.createElement('div');\n",
              "        docLink.innerHTML = docLinkHtml;\n",
              "        element.appendChild(docLink);\n",
              "      }\n",
              "    </script>\n",
              "  </div>\n",
              "\n",
              "    </div>\n",
              "  </div>\n"
            ],
            "text/plain": [
              "                 id  funded_amount  loan_amount activity sector  \\\n",
              "date                                                              \n",
              "2017-03-29  1268981          300.0        300.0  Cereals   Food   \n",
              "\n",
              "                        use country region currency partner_id  \\\n",
              "date                                                             \n",
              "2017-03-29  to buy cereals.   Kenya  Chuka      KES        156   \n",
              "\n",
              "                         posted_time            disbursed_time  \\\n",
              "date                                                             \n",
              "2017-03-29 2017-03-29 05:20:08+00:00 2017-03-25 07:00:00+00:00   \n",
              "\n",
              "                         funded_time  loan_months  lender_count  \\\n",
              "date                                                              \n",
              "2017-03-29 2017-05-02 05:48:15+00:00           14            11   \n",
              "\n",
              "           borrower_genders repayment_interval disbursed_date  borrower_count  \n",
              "date                                                                           \n",
              "2017-03-29           female            monthly     2017-03-25               1  "
            ]
          },
          "execution_count": 132,
          "metadata": {},
          "output_type": "execute_result"
        }
      ],
      "source": [
        "one_borrower_loan= kivaloans[(kivaloans['borrower_genders']!='both')&(kivaloans['country'].isin(['Cambodia', 'Kenya']))]\n",
        "one_borrower_loan.sample()"
      ]
    },
    {
      "cell_type": "code",
      "execution_count": null,
      "metadata": {
        "colab": {
          "base_uri": "https://localhost:8080/",
          "height": 184
        },
        "id": "4Uq9gBpDfCgp",
        "outputId": "d7e714e5-ea25-464c-a3db-0af40aa1fa5e"
      },
      "outputs": [
        {
          "data": {
            "text/html": [
              "\n",
              "  <div id=\"df-040a5bbe-0a1e-47e8-9912-f7dc6ff18d6b\" class=\"colab-df-container\">\n",
              "    <div>\n",
              "<style scoped>\n",
              "    .dataframe tbody tr th:only-of-type {\n",
              "        vertical-align: middle;\n",
              "    }\n",
              "\n",
              "    .dataframe tbody tr th {\n",
              "        vertical-align: top;\n",
              "    }\n",
              "\n",
              "    .dataframe thead th {\n",
              "        text-align: right;\n",
              "    }\n",
              "</style>\n",
              "<table border=\"1\" class=\"dataframe\">\n",
              "  <thead>\n",
              "    <tr style=\"text-align: right;\">\n",
              "      <th></th>\n",
              "      <th>id</th>\n",
              "      <th>funded_amount</th>\n",
              "      <th>loan_amount</th>\n",
              "      <th>activity</th>\n",
              "      <th>sector</th>\n",
              "      <th>use</th>\n",
              "      <th>country</th>\n",
              "      <th>region</th>\n",
              "      <th>currency</th>\n",
              "      <th>partner_id</th>\n",
              "      <th>posted_time</th>\n",
              "      <th>disbursed_time</th>\n",
              "      <th>funded_time</th>\n",
              "      <th>loan_months</th>\n",
              "      <th>lender_count</th>\n",
              "      <th>borrower_genders</th>\n",
              "      <th>repayment_interval</th>\n",
              "      <th>disbursed_date</th>\n",
              "      <th>borrower_count</th>\n",
              "    </tr>\n",
              "    <tr>\n",
              "      <th>date</th>\n",
              "      <th></th>\n",
              "      <th></th>\n",
              "      <th></th>\n",
              "      <th></th>\n",
              "      <th></th>\n",
              "      <th></th>\n",
              "      <th></th>\n",
              "      <th></th>\n",
              "      <th></th>\n",
              "      <th></th>\n",
              "      <th></th>\n",
              "      <th></th>\n",
              "      <th></th>\n",
              "      <th></th>\n",
              "      <th></th>\n",
              "      <th></th>\n",
              "      <th></th>\n",
              "      <th></th>\n",
              "      <th></th>\n",
              "    </tr>\n",
              "  </thead>\n",
              "  <tbody>\n",
              "    <tr>\n",
              "      <th>2016-05-26</th>\n",
              "      <td>1075605</td>\n",
              "      <td>1600.0</td>\n",
              "      <td>1600.0</td>\n",
              "      <td>Farming</td>\n",
              "      <td>Agriculture</td>\n",
              "      <td>to cover cassava harvesting costs</td>\n",
              "      <td>Cambodia</td>\n",
              "      <td>Tbong Khmum Province</td>\n",
              "      <td>KHR</td>\n",
              "      <td>9</td>\n",
              "      <td>2016-05-26 01:26:35+00:00</td>\n",
              "      <td>2016-05-12 07:00:00+00:00</td>\n",
              "      <td>2016-06-23 09:36:15+00:00</td>\n",
              "      <td>11</td>\n",
              "      <td>39</td>\n",
              "      <td>both</td>\n",
              "      <td>monthly</td>\n",
              "      <td>2016-05-12</td>\n",
              "      <td>4</td>\n",
              "    </tr>\n",
              "  </tbody>\n",
              "</table>\n",
              "</div>\n",
              "    <div class=\"colab-df-buttons\">\n",
              "\n",
              "  <div class=\"colab-df-container\">\n",
              "    <button class=\"colab-df-convert\" onclick=\"convertToInteractive('df-040a5bbe-0a1e-47e8-9912-f7dc6ff18d6b')\"\n",
              "            title=\"Convert this dataframe to an interactive table.\"\n",
              "            style=\"display:none;\">\n",
              "\n",
              "  <svg xmlns=\"http://www.w3.org/2000/svg\" height=\"24px\" viewBox=\"0 -960 960 960\">\n",
              "    <path d=\"M120-120v-720h720v720H120Zm60-500h600v-160H180v160Zm220 220h160v-160H400v160Zm0 220h160v-160H400v160ZM180-400h160v-160H180v160Zm440 0h160v-160H620v160ZM180-180h160v-160H180v160Zm440 0h160v-160H620v160Z\"/>\n",
              "  </svg>\n",
              "    </button>\n",
              "\n",
              "  <style>\n",
              "    .colab-df-container {\n",
              "      display:flex;\n",
              "      gap: 12px;\n",
              "    }\n",
              "\n",
              "    .colab-df-convert {\n",
              "      background-color: #E8F0FE;\n",
              "      border: none;\n",
              "      border-radius: 50%;\n",
              "      cursor: pointer;\n",
              "      display: none;\n",
              "      fill: #1967D2;\n",
              "      height: 32px;\n",
              "      padding: 0 0 0 0;\n",
              "      width: 32px;\n",
              "    }\n",
              "\n",
              "    .colab-df-convert:hover {\n",
              "      background-color: #E2EBFA;\n",
              "      box-shadow: 0px 1px 2px rgba(60, 64, 67, 0.3), 0px 1px 3px 1px rgba(60, 64, 67, 0.15);\n",
              "      fill: #174EA6;\n",
              "    }\n",
              "\n",
              "    .colab-df-buttons div {\n",
              "      margin-bottom: 4px;\n",
              "    }\n",
              "\n",
              "    [theme=dark] .colab-df-convert {\n",
              "      background-color: #3B4455;\n",
              "      fill: #D2E3FC;\n",
              "    }\n",
              "\n",
              "    [theme=dark] .colab-df-convert:hover {\n",
              "      background-color: #434B5C;\n",
              "      box-shadow: 0px 1px 3px 1px rgba(0, 0, 0, 0.15);\n",
              "      filter: drop-shadow(0px 1px 2px rgba(0, 0, 0, 0.3));\n",
              "      fill: #FFFFFF;\n",
              "    }\n",
              "  </style>\n",
              "\n",
              "    <script>\n",
              "      const buttonEl =\n",
              "        document.querySelector('#df-040a5bbe-0a1e-47e8-9912-f7dc6ff18d6b button.colab-df-convert');\n",
              "      buttonEl.style.display =\n",
              "        google.colab.kernel.accessAllowed ? 'block' : 'none';\n",
              "\n",
              "      async function convertToInteractive(key) {\n",
              "        const element = document.querySelector('#df-040a5bbe-0a1e-47e8-9912-f7dc6ff18d6b');\n",
              "        const dataTable =\n",
              "          await google.colab.kernel.invokeFunction('convertToInteractive',\n",
              "                                                    [key], {});\n",
              "        if (!dataTable) return;\n",
              "\n",
              "        const docLinkHtml = 'Like what you see? Visit the ' +\n",
              "          '<a target=\"_blank\" href=https://colab.research.google.com/notebooks/data_table.ipynb>data table notebook</a>'\n",
              "          + ' to learn more about interactive tables.';\n",
              "        element.innerHTML = '';\n",
              "        dataTable['output_type'] = 'display_data';\n",
              "        await google.colab.output.renderOutput(dataTable, element);\n",
              "        const docLink = document.createElement('div');\n",
              "        docLink.innerHTML = docLinkHtml;\n",
              "        element.appendChild(docLink);\n",
              "      }\n",
              "    </script>\n",
              "  </div>\n",
              "\n",
              "    </div>\n",
              "  </div>\n"
            ],
            "text/plain": [
              "                 id  funded_amount  loan_amount activity       sector  \\\n",
              "date                                                                    \n",
              "2016-05-26  1075605         1600.0       1600.0  Farming  Agriculture   \n",
              "\n",
              "                                          use   country                region  \\\n",
              "date                                                                            \n",
              "2016-05-26  to cover cassava harvesting costs  Cambodia  Tbong Khmum Province   \n",
              "\n",
              "           currency partner_id               posted_time  \\\n",
              "date                                                       \n",
              "2016-05-26      KHR          9 2016-05-26 01:26:35+00:00   \n",
              "\n",
              "                      disbursed_time               funded_time  loan_months  \\\n",
              "date                                                                          \n",
              "2016-05-26 2016-05-12 07:00:00+00:00 2016-06-23 09:36:15+00:00           11   \n",
              "\n",
              "            lender_count borrower_genders repayment_interval disbursed_date  \\\n",
              "date                                                                          \n",
              "2016-05-26            39             both            monthly     2016-05-12   \n",
              "\n",
              "            borrower_count  \n",
              "date                        \n",
              "2016-05-26               4  "
            ]
          },
          "execution_count": 133,
          "metadata": {},
          "output_type": "execute_result"
        }
      ],
      "source": [
        "group_borrower_loan= kivaloans[(kivaloans['borrower_genders']=='both')&(kivaloans['country'].isin(['Cambodia', 'Kenya']))]\n",
        "group_borrower_loan.sample()"
      ]
    },
    {
      "cell_type": "code",
      "execution_count": null,
      "metadata": {
        "id": "UIsw9P18fCgp"
      },
      "outputs": [],
      "source": [
        "plt.figure(figsize=[15, 10])\n",
        "\n",
        "# Plot for Cambodia - One borrower\n",
        "plt.subplot(2, 2, 1)\n",
        "sns.lineplot(data=one_borrower_loan[one_borrower_loan['country'] == 'Cambodia'],\n",
        "             x=one_borrower_loan[one_borrower_loan['country'] == 'Cambodia'].index.year, y='loan_amount',\n",
        "             estimator=sum)\n",
        "plt.title('Cambodia One Borrower Total Loan Amount Per Year')\n",
        "plt.xlabel('Year')\n",
        "plt.ylabel('Loan Amount')\n",
        "plt.xticks(rotation=75)\n",
        "plt.gca().yaxis.set_major_formatter(plt.FuncFormatter(lambda x, _: f'{x / 1e6:.1f}M'))\n",
        "plt.ylim(0, 8000000)  # Set the same y-axis range for all plots\n",
        "\n",
        "# Plot for Cambodia - Grouped borrowers\n",
        "plt.subplot(2, 2, 2)\n",
        "sns.lineplot(data=group_borrower_loan[group_borrower_loan['country'] == 'Cambodia'],\n",
        "             x=group_borrower_loan[group_borrower_loan['country'] == 'Cambodia'].index.year, y='loan_amount',\n",
        "             estimator=sum)\n",
        "plt.title(\"Cambodia Grouped Borrower Total Loan Amount Per Year\")\n",
        "plt.xlabel('Year')\n",
        "plt.ylabel('Total Loan Amount')\n",
        "plt.xticks(rotation=75)\n",
        "plt.gca().yaxis.set_major_formatter(plt.FuncFormatter(lambda x, _: f'{x / 1e6:.1f}M'))\n",
        "plt.ylim(0, 8000000)  # Set the same y-axis range for all plots\n",
        "\n",
        "# Plot for Kenya - One borrower\n",
        "plt.subplot(2, 2, 3)\n",
        "sns.lineplot(data=one_borrower_loan[one_borrower_loan['country'] == 'Kenya'],\n",
        "             x=one_borrower_loan[one_borrower_loan['country'] == 'Kenya'].index.year, y='loan_amount',\n",
        "             estimator=sum)\n",
        "plt.title('Kenya One Borrower Total Loan Amount Per Year')\n",
        "plt.xlabel('Year')\n",
        "plt.ylabel('Loan Amount')\n",
        "plt.xticks(rotation=75)\n",
        "plt.gca().yaxis.set_major_formatter(plt.FuncFormatter(lambda x, _: f'{x / 1e6:.1f}M'))\n",
        "plt.ylim(0, 8000000)  # Set the same y-axis range for all plots\n",
        "\n",
        "# Plot for Kenya - Grouped borrowers\n",
        "plt.subplot(2, 2, 4)\n",
        "sns.lineplot(data=group_borrower_loan[group_borrower_loan['country'] == 'Kenya'],\n",
        "             x=group_borrower_loan[group_borrower_loan['country'] == 'Kenya'].index.year, y='loan_amount',\n",
        "             estimator=sum)\n",
        "plt.title(\"Kenya Grouped Borrower Total Loan Amount Per Year\")\n",
        "plt.xlabel('Year')\n",
        "plt.ylabel('Total Loan Amount')\n",
        "plt.xticks(rotation=75)\n",
        "plt.gca().yaxis.set_major_formatter(plt.FuncFormatter(lambda x, _: f'{x / 1e6:.1f}M'))\n",
        "plt.ylim(0, 8000000)  # Set the same y-axis range for all plots\n",
        "\n",
        "\n",
        "# Display the plots\n",
        "plt.tight_layout()\n",
        "plt.show()"
      ]
    },
    {
      "cell_type": "markdown",
      "metadata": {
        "id": "7V2Xf3DUfCgq"
      },
      "source": [
        "#### <span style=\"color:#000000; font-family:Georgia, serif;\">What is the most use have grouped_borrower?</span>"
      ]
    },
    {
      "cell_type": "code",
      "execution_count": null,
      "metadata": {
        "id": "2doXFwRAfCgq"
      },
      "outputs": [],
      "source": [
        "grouped_borrower_use= kivaloans[kivaloans['borrower_genders']=='both']['use'].value_counts().sort_values(ascending=False)\\\n",
        ".head(10).rename_axis('use').reset_index(name='count')\n",
        "grouped_borrower_use"
      ]
    },
    {
      "cell_type": "code",
      "execution_count": null,
      "metadata": {
        "id": "zxYOjuR7fCgq"
      },
      "outputs": [],
      "source": [
        "plt.figure(figsize = (10,5))\n",
        "# Plot bar chart for Grouped Borroer Loans Per Country\n",
        "sns.barplot(data=grouped_borrower_use, x='use', y='count')\n",
        "\n",
        "# Set the labels and title\n",
        "plt.xlabel('Use')\n",
        "plt.ylabel('Loan Count')\n",
        "plt.title('Grouped Borroer Loans Most Use')\n",
        "plt.xticks(rotation = 75)\n",
        "\n",
        "# Show the plot\n",
        "plt.show()"
      ]
    },
    {
      "cell_type": "markdown",
      "metadata": {
        "id": "tiXOyN63fCgq"
      },
      "source": [
        "#### <span style=\"color:#000000; font-family:Georgia, serif;\">What is the common repayment intervals for grouped_borrower?</span>"
      ]
    },
    {
      "cell_type": "code",
      "execution_count": null,
      "metadata": {
        "id": "UMmwWyOvfCgq"
      },
      "outputs": [],
      "source": [
        "grouped_borrower_repay= kivaloans[kivaloans['borrower_genders']=='both']['repayment_interval'].value_counts().sort_values(ascending=False)\\\n",
        ".head(10).rename_axis('repayment_interval').reset_index(name='count')\n",
        "grouped_borrower_repay"
      ]
    },
    {
      "cell_type": "code",
      "execution_count": null,
      "metadata": {
        "id": "GVe6v-PhfCgr"
      },
      "outputs": [],
      "source": [
        "plt.figure(figsize = (10,5))\n",
        "# Plot bar chart for Grouped Borroer Loans Per Country\n",
        "sns.barplot(data=grouped_borrower_repay, x='repayment_interval', y='count')\n",
        "\n",
        "# Set the labels and title\n",
        "plt.xlabel('Repayment interval')\n",
        "plt.ylabel('Loan Count')\n",
        "plt.title('Grouped Borrower Loans Repayment interval')\n",
        "plt.xticks(rotation = 75)\n",
        "\n",
        "# Show the plot\n",
        "plt.show()"
      ]
    },
    {
      "cell_type": "code",
      "execution_count": null,
      "metadata": {
        "id": "2PGh2XJnfCgr"
      },
      "outputs": [],
      "source": []
    },
    {
      "cell_type": "markdown",
      "metadata": {
        "id": "BJC6V86pfCgr"
      },
      "source": [
        "#### <span style=\"color:#000000; font-family:Georgia, serif;\">what is the total loans per year for grouped_borrower?</span>"
      ]
    },
    {
      "cell_type": "code",
      "execution_count": 119,
      "metadata": {
        "id": "PRqDpsLDfCgr",
        "colab": {
          "base_uri": "https://localhost:8080/",
          "height": 219
        },
        "outputId": "08a37fd3-3ace-4a51-8fee-d42efe416c6a"
      },
      "outputs": [
        {
          "output_type": "execute_result",
          "data": {
            "text/plain": [
              "                id  funded_amount  loan_amount        activity    sector  \\\n",
              "date                                                                       \n",
              "2014-10-01  777498         7425.0       7425.0  Clothing Sales  Clothing   \n",
              "\n",
              "                                                use country  region currency  \\\n",
              "date                                                                           \n",
              "2014-10-01  to buy more shirts and dresses to sell.  Rwanda  Rwanda      RWF   \n",
              "\n",
              "           partner_id               posted_time            disbursed_time  \\\n",
              "date                                                                        \n",
              "2014-10-01        161 2014-10-01 08:24:46+00:00 2014-09-01 07:00:00+00:00   \n",
              "\n",
              "                         funded_time  loan_months  lender_count  \\\n",
              "date                                                              \n",
              "2014-10-01 2014-10-15 10:42:27+00:00            6           125   \n",
              "\n",
              "           borrower_genders repayment_interval disbursed_date  borrower_count  \n",
              "date                                                                           \n",
              "2014-10-01             both          irregular     2014-09-01              21  "
            ],
            "text/html": [
              "\n",
              "  <div id=\"df-149b0389-db18-4995-aa38-807fcab485c0\" class=\"colab-df-container\">\n",
              "    <div>\n",
              "<style scoped>\n",
              "    .dataframe tbody tr th:only-of-type {\n",
              "        vertical-align: middle;\n",
              "    }\n",
              "\n",
              "    .dataframe tbody tr th {\n",
              "        vertical-align: top;\n",
              "    }\n",
              "\n",
              "    .dataframe thead th {\n",
              "        text-align: right;\n",
              "    }\n",
              "</style>\n",
              "<table border=\"1\" class=\"dataframe\">\n",
              "  <thead>\n",
              "    <tr style=\"text-align: right;\">\n",
              "      <th></th>\n",
              "      <th>id</th>\n",
              "      <th>funded_amount</th>\n",
              "      <th>loan_amount</th>\n",
              "      <th>activity</th>\n",
              "      <th>sector</th>\n",
              "      <th>use</th>\n",
              "      <th>country</th>\n",
              "      <th>region</th>\n",
              "      <th>currency</th>\n",
              "      <th>partner_id</th>\n",
              "      <th>posted_time</th>\n",
              "      <th>disbursed_time</th>\n",
              "      <th>funded_time</th>\n",
              "      <th>loan_months</th>\n",
              "      <th>lender_count</th>\n",
              "      <th>borrower_genders</th>\n",
              "      <th>repayment_interval</th>\n",
              "      <th>disbursed_date</th>\n",
              "      <th>borrower_count</th>\n",
              "    </tr>\n",
              "    <tr>\n",
              "      <th>date</th>\n",
              "      <th></th>\n",
              "      <th></th>\n",
              "      <th></th>\n",
              "      <th></th>\n",
              "      <th></th>\n",
              "      <th></th>\n",
              "      <th></th>\n",
              "      <th></th>\n",
              "      <th></th>\n",
              "      <th></th>\n",
              "      <th></th>\n",
              "      <th></th>\n",
              "      <th></th>\n",
              "      <th></th>\n",
              "      <th></th>\n",
              "      <th></th>\n",
              "      <th></th>\n",
              "      <th></th>\n",
              "      <th></th>\n",
              "    </tr>\n",
              "  </thead>\n",
              "  <tbody>\n",
              "    <tr>\n",
              "      <th>2014-10-01</th>\n",
              "      <td>777498</td>\n",
              "      <td>7425.0</td>\n",
              "      <td>7425.0</td>\n",
              "      <td>Clothing Sales</td>\n",
              "      <td>Clothing</td>\n",
              "      <td>to buy more shirts and dresses to sell.</td>\n",
              "      <td>Rwanda</td>\n",
              "      <td>Rwanda</td>\n",
              "      <td>RWF</td>\n",
              "      <td>161</td>\n",
              "      <td>2014-10-01 08:24:46+00:00</td>\n",
              "      <td>2014-09-01 07:00:00+00:00</td>\n",
              "      <td>2014-10-15 10:42:27+00:00</td>\n",
              "      <td>6</td>\n",
              "      <td>125</td>\n",
              "      <td>both</td>\n",
              "      <td>irregular</td>\n",
              "      <td>2014-09-01</td>\n",
              "      <td>21</td>\n",
              "    </tr>\n",
              "  </tbody>\n",
              "</table>\n",
              "</div>\n",
              "    <div class=\"colab-df-buttons\">\n",
              "\n",
              "  <div class=\"colab-df-container\">\n",
              "    <button class=\"colab-df-convert\" onclick=\"convertToInteractive('df-149b0389-db18-4995-aa38-807fcab485c0')\"\n",
              "            title=\"Convert this dataframe to an interactive table.\"\n",
              "            style=\"display:none;\">\n",
              "\n",
              "  <svg xmlns=\"http://www.w3.org/2000/svg\" height=\"24px\" viewBox=\"0 -960 960 960\">\n",
              "    <path d=\"M120-120v-720h720v720H120Zm60-500h600v-160H180v160Zm220 220h160v-160H400v160Zm0 220h160v-160H400v160ZM180-400h160v-160H180v160Zm440 0h160v-160H620v160ZM180-180h160v-160H180v160Zm440 0h160v-160H620v160Z\"/>\n",
              "  </svg>\n",
              "    </button>\n",
              "\n",
              "  <style>\n",
              "    .colab-df-container {\n",
              "      display:flex;\n",
              "      gap: 12px;\n",
              "    }\n",
              "\n",
              "    .colab-df-convert {\n",
              "      background-color: #E8F0FE;\n",
              "      border: none;\n",
              "      border-radius: 50%;\n",
              "      cursor: pointer;\n",
              "      display: none;\n",
              "      fill: #1967D2;\n",
              "      height: 32px;\n",
              "      padding: 0 0 0 0;\n",
              "      width: 32px;\n",
              "    }\n",
              "\n",
              "    .colab-df-convert:hover {\n",
              "      background-color: #E2EBFA;\n",
              "      box-shadow: 0px 1px 2px rgba(60, 64, 67, 0.3), 0px 1px 3px 1px rgba(60, 64, 67, 0.15);\n",
              "      fill: #174EA6;\n",
              "    }\n",
              "\n",
              "    .colab-df-buttons div {\n",
              "      margin-bottom: 4px;\n",
              "    }\n",
              "\n",
              "    [theme=dark] .colab-df-convert {\n",
              "      background-color: #3B4455;\n",
              "      fill: #D2E3FC;\n",
              "    }\n",
              "\n",
              "    [theme=dark] .colab-df-convert:hover {\n",
              "      background-color: #434B5C;\n",
              "      box-shadow: 0px 1px 3px 1px rgba(0, 0, 0, 0.15);\n",
              "      filter: drop-shadow(0px 1px 2px rgba(0, 0, 0, 0.3));\n",
              "      fill: #FFFFFF;\n",
              "    }\n",
              "  </style>\n",
              "\n",
              "    <script>\n",
              "      const buttonEl =\n",
              "        document.querySelector('#df-149b0389-db18-4995-aa38-807fcab485c0 button.colab-df-convert');\n",
              "      buttonEl.style.display =\n",
              "        google.colab.kernel.accessAllowed ? 'block' : 'none';\n",
              "\n",
              "      async function convertToInteractive(key) {\n",
              "        const element = document.querySelector('#df-149b0389-db18-4995-aa38-807fcab485c0');\n",
              "        const dataTable =\n",
              "          await google.colab.kernel.invokeFunction('convertToInteractive',\n",
              "                                                    [key], {});\n",
              "        if (!dataTable) return;\n",
              "\n",
              "        const docLinkHtml = 'Like what you see? Visit the ' +\n",
              "          '<a target=\"_blank\" href=https://colab.research.google.com/notebooks/data_table.ipynb>data table notebook</a>'\n",
              "          + ' to learn more about interactive tables.';\n",
              "        element.innerHTML = '';\n",
              "        dataTable['output_type'] = 'display_data';\n",
              "        await google.colab.output.renderOutput(dataTable, element);\n",
              "        const docLink = document.createElement('div');\n",
              "        docLink.innerHTML = docLinkHtml;\n",
              "        element.appendChild(docLink);\n",
              "      }\n",
              "    </script>\n",
              "  </div>\n",
              "\n",
              "    </div>\n",
              "  </div>\n"
            ]
          },
          "metadata": {},
          "execution_count": 119
        }
      ],
      "source": [
        "group_borrower_total_loan= kivaloans[kivaloans['borrower_genders']=='both']\n",
        "group_borrower_total_loan.sample()"
      ]
    },
    {
      "cell_type": "code",
      "execution_count": 118,
      "metadata": {
        "id": "Kx3FwZDTfCgr",
        "colab": {
          "base_uri": "https://localhost:8080/",
          "height": 272
        },
        "outputId": "dc739dcc-c3c0-46bc-c20e-caa7e45ab672"
      },
      "outputs": [
        {
          "output_type": "error",
          "ename": "NameError",
          "evalue": "ignored",
          "traceback": [
            "\u001b[0;31m---------------------------------------------------------------------------\u001b[0m",
            "\u001b[0;31mNameError\u001b[0m                                 Traceback (most recent call last)",
            "\u001b[0;32m<ipython-input-118-327c3b11ea49>\u001b[0m in \u001b[0;36m<cell line: 3>\u001b[0;34m()\u001b[0m\n\u001b[1;32m      1\u001b[0m \u001b[0mplt\u001b[0m\u001b[0;34m.\u001b[0m\u001b[0mfigure\u001b[0m\u001b[0;34m(\u001b[0m\u001b[0mfigsize\u001b[0m \u001b[0;34m=\u001b[0m \u001b[0;34m(\u001b[0m\u001b[0;36m10\u001b[0m\u001b[0;34m,\u001b[0m\u001b[0;36m5\u001b[0m\u001b[0;34m)\u001b[0m\u001b[0;34m)\u001b[0m\u001b[0;34m\u001b[0m\u001b[0;34m\u001b[0m\u001b[0m\n\u001b[1;32m      2\u001b[0m \u001b[0;31m# Plot line chart for 'funded_amount'\u001b[0m\u001b[0;34m\u001b[0m\u001b[0;34m\u001b[0m\u001b[0m\n\u001b[0;32m----> 3\u001b[0;31m sns.lineplot(data=group_borrower_total_loan, x=group_borrower_total_loan.index.year, y='loan_amount',\n\u001b[0m\u001b[1;32m      4\u001b[0m              estimator=sum)\n\u001b[1;32m      5\u001b[0m \u001b[0;34m\u001b[0m\u001b[0m\n",
            "\u001b[0;31mNameError\u001b[0m: name 'group_borrower_total_loan' is not defined"
          ]
        },
        {
          "output_type": "display_data",
          "data": {
            "text/plain": [
              "<Figure size 1000x500 with 0 Axes>"
            ]
          },
          "metadata": {}
        }
      ],
      "source": [
        "plt.figure(figsize = (10,5))\n",
        "# Plot line chart for 'funded_amount'\n",
        "sns.lineplot(data=group_borrower_total_loan, x=group_borrower_total_loan.index.year, y='loan_amount',\n",
        "             estimator=sum)\n",
        "\n",
        "# Set the labels and title\n",
        "plt.xlabel('Year')\n",
        "plt.ylabel('Loan Amount')\n",
        "plt.title('Grouped Borrower Loan Amount Over Time')\n",
        "plt.legend()\n",
        "# Convert y-axis tick labels to millions\n",
        "plt.gca().yaxis.set_major_formatter(plt.FuncFormatter(lambda x, _: f'{x/1e6:.1f}M'))\n",
        "# Show the plot\n",
        "plt.show()"
      ]
    }
  ],
  "metadata": {
    "colab": {
      "provenance": [],
      "include_colab_link": true
    },
    "kaggle": {
      "accelerator": "none",
      "dataSources": [
        {
          "datasetId": 12414,
          "sourceId": 19728,
          "sourceType": "datasetVersion"
        }
      ],
      "dockerImageVersionId": 30558,
      "isGpuEnabled": false,
      "isInternetEnabled": false,
      "language": "python",
      "sourceType": "notebook"
    },
    "kernelspec": {
      "display_name": "Python 3",
      "language": "python",
      "name": "python3"
    },
    "language_info": {
      "codemirror_mode": {
        "name": "ipython",
        "version": 3
      },
      "file_extension": ".py",
      "mimetype": "text/x-python",
      "name": "python",
      "nbconvert_exporter": "python",
      "pygments_lexer": "ipython3",
      "version": "3.6.4"
    }
  },
  "nbformat": 4,
  "nbformat_minor": 0
}